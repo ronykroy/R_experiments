{
 "cells": [
  {
   "cell_type": "markdown",
   "metadata": {},
   "source": [
    "#### logistic regression has binary op\n",
    "#### multinomial regression is what you use for multiple categories.. while mathematically sane... DNN's give decent performance without much of the mathematical wrangling"
   ]
  },
  {
   "cell_type": "code",
   "execution_count": 1,
   "metadata": {},
   "outputs": [
    {
     "name": "stdout",
     "output_type": "stream",
     "text": [
      "package 'mlbench' successfully unpacked and MD5 sums checked\n",
      "\n",
      "The downloaded binary packages are in\n",
      "\tC:\\Users\\IBM_ADMIN\\AppData\\Local\\Temp\\RtmpIvbsaB\\downloaded_packages\n"
     ]
    }
   ],
   "source": [
    "install.packages(\"mlbench\")"
   ]
  },
  {
   "cell_type": "code",
   "execution_count": 2,
   "metadata": {},
   "outputs": [],
   "source": [
    "data(BreastCancer, package=\"mlbench\")\n",
    "bc <- BreastCancer[complete.cases(BreastCancer), ]  # create copy"
   ]
  },
  {
   "cell_type": "code",
   "execution_count": 4,
   "metadata": {},
   "outputs": [
    {
     "name": "stdout",
     "output_type": "stream",
     "text": [
      "'data.frame':\t683 obs. of  11 variables:\n",
      " $ Id             : chr  \"1000025\" \"1002945\" \"1015425\" \"1016277\" ...\n",
      " $ Cl.thickness   : Ord.factor w/ 10 levels \"1\"<\"2\"<\"3\"<\"4\"<..: 5 5 3 6 4 8 1 2 2 4 ...\n",
      " $ Cell.size      : Ord.factor w/ 10 levels \"1\"<\"2\"<\"3\"<\"4\"<..: 1 4 1 8 1 10 1 1 1 2 ...\n",
      " $ Cell.shape     : Ord.factor w/ 10 levels \"1\"<\"2\"<\"3\"<\"4\"<..: 1 4 1 8 1 10 1 2 1 1 ...\n",
      " $ Marg.adhesion  : Ord.factor w/ 10 levels \"1\"<\"2\"<\"3\"<\"4\"<..: 1 5 1 1 3 8 1 1 1 1 ...\n",
      " $ Epith.c.size   : Ord.factor w/ 10 levels \"1\"<\"2\"<\"3\"<\"4\"<..: 2 7 2 3 2 7 2 2 2 2 ...\n",
      " $ Bare.nuclei    : Factor w/ 10 levels \"1\",\"2\",\"3\",\"4\",..: 1 10 2 4 1 10 10 1 1 1 ...\n",
      " $ Bl.cromatin    : Factor w/ 10 levels \"1\",\"2\",\"3\",\"4\",..: 3 3 3 3 3 9 3 3 1 2 ...\n",
      " $ Normal.nucleoli: Factor w/ 10 levels \"1\",\"2\",\"3\",\"4\",..: 1 2 1 7 1 7 1 1 1 1 ...\n",
      " $ Mitoses        : Factor w/ 9 levels \"1\",\"2\",\"3\",\"4\",..: 1 1 1 1 1 1 1 1 5 1 ...\n",
      " $ Class          : Factor w/ 2 levels \"benign\",\"malignant\": 1 1 1 1 1 2 1 1 1 1 ...\n"
     ]
    }
   ],
   "source": [
    "str(bc)"
   ]
  },
  {
   "cell_type": "markdown",
   "metadata": {},
   "source": [
    "All are categorical data/ factors as R calls them"
   ]
  },
  {
   "cell_type": "code",
   "execution_count": 5,
   "metadata": {},
   "outputs": [
    {
     "data": {
      "text/plain": [
       "\n",
       "Call:  glm(formula = Class ~ Cell.shape, family = \"binomial\", data = bc)\n",
       "\n",
       "Coefficients:\n",
       " (Intercept)  Cell.shape.L  Cell.shape.Q  Cell.shape.C  Cell.shape^4  \n",
       "       4.189        20.911         6.848         5.763        -1.267  \n",
       "Cell.shape^5  Cell.shape^6  Cell.shape^7  Cell.shape^8  Cell.shape^9  \n",
       "      -4.439        -5.183        -3.013        -1.289        -0.860  \n",
       "\n",
       "Degrees of Freedom: 682 Total (i.e. Null);  673 Residual\n",
       "Null Deviance:\t    884.4 \n",
       "Residual Deviance: 243.6 \tAIC: 263.6"
      ]
     },
     "metadata": {},
     "output_type": "display_data"
    }
   ],
   "source": [
    "glm(Class ~ Cell.shape, family=\"binomial\", data = bc)"
   ]
  },
  {
   "cell_type": "markdown",
   "metadata": {},
   "source": [
    "glm: generalized liner models \n",
    "Class the output is modelled on cell shape alone as its input..  \n",
    "Cell shape column's values got converted into what looks like binary format  \n",
    "\n",
    "\n",
    " Ord.factor cell shape's type: ordered factor (categorical with order as in 1st 2nd 3rd etc...)"
   ]
  },
  {
   "cell_type": "code",
   "execution_count": 6,
   "metadata": {},
   "outputs": [],
   "source": [
    "# remove id column\n",
    "bc <- bc[,-1]\n",
    "\n",
    "# convert factors to numeric\n",
    "for(i in 1:9) {\n",
    " bc[, i] <- as.numeric(as.character(bc[, i]))\n",
    "}"
   ]
  },
  {
   "cell_type": "markdown",
   "metadata": {},
   "source": [
    "When converting a factor to a numeric variable  \n",
    "Always convert it to character and then to numeric,   \n",
    "else, the values can get screwed up"
   ]
  },
  {
   "cell_type": "code",
   "execution_count": 7,
   "metadata": {},
   "outputs": [
    {
     "name": "stdout",
     "output_type": "stream",
     "text": [
      "'data.frame':\t683 obs. of  10 variables:\n",
      " $ Cl.thickness   : num  5 5 3 6 4 8 1 2 2 4 ...\n",
      " $ Cell.size      : num  1 4 1 8 1 10 1 1 1 2 ...\n",
      " $ Cell.shape     : num  1 4 1 8 1 10 1 2 1 1 ...\n",
      " $ Marg.adhesion  : num  1 5 1 1 3 8 1 1 1 1 ...\n",
      " $ Epith.c.size   : num  2 7 2 3 2 7 2 2 2 2 ...\n",
      " $ Bare.nuclei    : num  1 10 2 4 1 10 10 1 1 1 ...\n",
      " $ Bl.cromatin    : num  3 3 3 3 3 9 3 3 1 2 ...\n",
      " $ Normal.nucleoli: num  1 2 1 7 1 7 1 1 1 1 ...\n",
      " $ Mitoses        : num  1 1 1 1 1 1 1 1 5 1 ...\n",
      " $ Class          : Factor w/ 2 levels \"benign\",\"malignant\": 1 1 1 1 1 2 1 1 1 1 ...\n"
     ]
    }
   ],
   "source": [
    "str(bc)"
   ]
  },
  {
   "cell_type": "code",
   "execution_count": 8,
   "metadata": {},
   "outputs": [],
   "source": [
    "bc$Class <- ifelse(bc$Class == \"malignant\", 1, 0)\n",
    "bc$Class <- factor(bc$Class, levels = c(0, 1))"
   ]
  },
  {
   "cell_type": "markdown",
   "metadata": {},
   "source": [
    " encode the response variable into a factor variable of 1's and 0's"
   ]
  },
  {
   "cell_type": "markdown",
   "metadata": {},
   "source": [
    "## Class imbalance: Deal with it :p"
   ]
  },
  {
   "cell_type": "code",
   "execution_count": 9,
   "metadata": {},
   "outputs": [
    {
     "data": {
      "text/plain": [
       "\n",
       "  0   1 \n",
       "444 239 "
      ]
     },
     "metadata": {},
     "output_type": "display_data"
    }
   ],
   "source": [
    "table(bc$Class)"
   ]
  },
  {
   "cell_type": "markdown",
   "metadata": {},
   "source": [
    "Non malignant class seems to be double the number of malignant classes..."
   ]
  },
  {
   "cell_type": "markdown",
   "metadata": {},
   "source": [
    "#### Here's how to deal with it\n",
    "\n",
    "    Down sampling, the majority class is randomly down sampled to be of the same size as the smaller class in this case rows with the benign Class will be picked fewer times during the random sampling  \n",
    "    UpSampling, rows from the minority class, that is, malignant is repeatedly sampled over and over till it reaches the same size as the majority class (benign)  \n",
    "    ybrid sampling, artificial data points are generated and are systematically added around the minority class.   \n",
    "    This can be implemented using the SMOTE and ROSE packages in R"
   ]
  },
  {
   "cell_type": "code",
   "execution_count": 10,
   "metadata": {},
   "outputs": [
    {
     "name": "stderr",
     "output_type": "stream",
     "text": [
      "also installing the dependencies 'minqa', 'nloptr', 'RcppEigen', 'lme4', 'MatrixModels', 'pbkrtest', 'quantreg', 'car'\n",
      "\n"
     ]
    },
    {
     "name": "stdout",
     "output_type": "stream",
     "text": [
      "package 'minqa' successfully unpacked and MD5 sums checked\n",
      "package 'nloptr' successfully unpacked and MD5 sums checked\n",
      "package 'RcppEigen' successfully unpacked and MD5 sums checked\n",
      "package 'lme4' successfully unpacked and MD5 sums checked\n",
      "package 'MatrixModels' successfully unpacked and MD5 sums checked\n",
      "package 'pbkrtest' successfully unpacked and MD5 sums checked\n",
      "package 'quantreg' successfully unpacked and MD5 sums checked\n",
      "package 'car' successfully unpacked and MD5 sums checked\n",
      "package 'caret' successfully unpacked and MD5 sums checked\n",
      "\n",
      "The downloaded binary packages are in\n",
      "\tC:\\Users\\IBM_ADMIN\\AppData\\Local\\Temp\\RtmpIvbsaB\\downloaded_packages\n"
     ]
    }
   ],
   "source": [
    "install.packages(\"caret\")"
   ]
  },
  {
   "cell_type": "code",
   "execution_count": 11,
   "metadata": {},
   "outputs": [
    {
     "name": "stderr",
     "output_type": "stream",
     "text": [
      "Loading required package: lattice\n",
      "Loading required package: ggplot2\n"
     ]
    }
   ],
   "source": [
    "library(caret)\n",
    "'%ni%' <- Negate('%in%')  # define 'not in' func\n",
    "options(scipen=999)  # prevents printing scientific notations.\n",
    "\n",
    "# Prep Training and Test data.\n",
    "set.seed(100)\n",
    "trainDataIndex <- createDataPartition(bc$Class, p=0.7, list = F)  # 70% training data\n",
    "trainData <- bc[trainDataIndex, ]\n",
    "testData <- bc[-trainDataIndex, ]"
   ]
  },
  {
   "cell_type": "code",
   "execution_count": 12,
   "metadata": {},
   "outputs": [
    {
     "data": {
      "text/plain": [
       "\n",
       "  0   1 \n",
       "311 168 "
      ]
     },
     "metadata": {},
     "output_type": "display_data"
    }
   ],
   "source": [
    "table(trainData$Class)"
   ]
  },
  {
   "cell_type": "markdown",
   "metadata": {},
   "source": [
    "downsample it using the downSample function from caret package."
   ]
  },
  {
   "cell_type": "code",
   "execution_count": 13,
   "metadata": {},
   "outputs": [
    {
     "data": {
      "text/plain": [
       "\n",
       "  0   1 \n",
       "168 168 "
      ]
     },
     "metadata": {},
     "output_type": "display_data"
    }
   ],
   "source": [
    "# Down Sample\n",
    "set.seed(100)\n",
    "down_train <- downSample(x = trainData[, colnames(trainData) %ni% \"Class\"],\n",
    "                         y = trainData$Class)\n",
    "\n",
    "table(down_train$Class)"
   ]
  },
  {
   "cell_type": "markdown",
   "metadata": {},
   "source": [
    "Yaaaay !!!!!!!!!! done  \n",
    "the %in% function is used to select all the columns except the Class column\n",
    "downSample function requires the 'y' as a factor variable "
   ]
  },
  {
   "cell_type": "code",
   "execution_count": 14,
   "metadata": {},
   "outputs": [
    {
     "data": {
      "text/plain": [
       "\n",
       "  0   1 \n",
       "311 311 "
      ]
     },
     "metadata": {},
     "output_type": "display_data"
    }
   ],
   "source": [
    "# Up Sample.\n",
    "set.seed(100)\n",
    "up_train <- upSample(x = trainData[, colnames(trainData) %ni% \"Class\"],\n",
    "                     y = trainData$Class)\n",
    "\n",
    "table(up_train$Class)"
   ]
  },
  {
   "cell_type": "markdown",
   "metadata": {},
   "source": [
    "Build a logistic regression model   \n",
    "Class as the op variable  dependent variables thickness size shape  \n",
    "using the downsampled data as input"
   ]
  },
  {
   "cell_type": "code",
   "execution_count": 15,
   "metadata": {},
   "outputs": [
    {
     "data": {
      "text/plain": [
       "\n",
       "Call:\n",
       "glm(formula = Class ~ Cl.thickness + Cell.size + Cell.shape, \n",
       "    family = \"binomial\", data = down_train)\n",
       "\n",
       "Deviance Residuals: \n",
       "    Min       1Q   Median       3Q      Max  \n",
       "-3.0716  -0.1534  -0.0316   0.0193   2.8420  \n",
       "\n",
       "Coefficients:\n",
       "             Estimate Std. Error z value        Pr(>|z|)    \n",
       "(Intercept)   -8.8755     1.3285  -6.681 0.0000000000237 ***\n",
       "Cl.thickness   0.7293     0.1768   4.125 0.0000370162955 ***\n",
       "Cell.size      1.0803     0.3334   3.240         0.00119 ** \n",
       "Cell.shape     0.8571     0.2920   2.935         0.00334 ** \n",
       "---\n",
       "Signif. codes:  0 '***' 0.001 '**' 0.01 '*' 0.05 '.' 0.1 ' ' 1\n",
       "\n",
       "(Dispersion parameter for binomial family taken to be 1)\n",
       "\n",
       "    Null deviance: 465.795  on 335  degrees of freedom\n",
       "Residual deviance:  70.378  on 332  degrees of freedom\n",
       "AIC: 78.378\n",
       "\n",
       "Number of Fisher Scoring iterations: 8\n"
      ]
     },
     "metadata": {},
     "output_type": "display_data"
    }
   ],
   "source": [
    "# Build Logistic Model\n",
    "logitmod <- glm(Class ~ Cl.thickness + Cell.size + Cell.shape, family = \"binomial\", data=down_train)\n",
    "\n",
    "summary(logitmod)"
   ]
  },
  {
   "cell_type": "code",
   "execution_count": 17,
   "metadata": {},
   "outputs": [],
   "source": [
    "pred <- predict(logitmod, newdata = testData, type = \"response\")"
   ]
  },
  {
   "cell_type": "markdown",
   "metadata": {},
   "source": [
    "need to set type='response' in order to compute the prediction probabilities  \n",
    ".5 is the threshold usually for binary output.. \n"
   ]
  },
  {
   "cell_type": "code",
   "execution_count": 18,
   "metadata": {},
   "outputs": [],
   "source": [
    "y_pred_num <- ifelse(pred > 0.5, 1, 0)\n",
    "y_pred <- factor(y_pred_num, levels=c(0, 1))\n",
    "y_act <- testData$Class"
   ]
  },
  {
   "cell_type": "code",
   "execution_count": 19,
   "metadata": {},
   "outputs": [
    {
     "data": {
      "text/html": [
       "0.941176470588235"
      ],
      "text/latex": [
       "0.941176470588235"
      ],
      "text/markdown": [
       "0.941176470588235"
      ],
      "text/plain": [
       "[1] 0.9411765"
      ]
     },
     "metadata": {},
     "output_type": "display_data"
    }
   ],
   "source": [
    "mean(y_pred == y_act) "
   ]
  },
  {
   "cell_type": "markdown",
   "metadata": {},
   "source": [
    "#### model building with upsampled data "
   ]
  },
  {
   "cell_type": "code",
   "execution_count": 20,
   "metadata": {},
   "outputs": [
    {
     "data": {
      "text/plain": [
       "\n",
       "Call:\n",
       "glm(formula = Class ~ Cl.thickness + Cell.size + Cell.shape, \n",
       "    family = \"binomial\", data = up_train)\n",
       "\n",
       "Deviance Residuals: \n",
       "    Min       1Q   Median       3Q      Max  \n",
       "-4.2020  -0.1937  -0.0558   0.0454   2.6289  \n",
       "\n",
       "Coefficients:\n",
       "             Estimate Std. Error z value             Pr(>|z|)    \n",
       "(Intercept)   -7.1921     0.6925 -10.385 < 0.0000000000000002 ***\n",
       "Cl.thickness   0.5434     0.1087   4.998           0.00000058 ***\n",
       "Cell.size      0.7307     0.2013   3.630             0.000283 ***\n",
       "Cell.shape     0.8643     0.1839   4.699           0.00000262 ***\n",
       "---\n",
       "Signif. codes:  0 '***' 0.001 '**' 0.01 '*' 0.05 '.' 0.1 ' ' 1\n",
       "\n",
       "(Dispersion parameter for binomial family taken to be 1)\n",
       "\n",
       "    Null deviance: 862.28  on 621  degrees of freedom\n",
       "Residual deviance: 164.51  on 618  degrees of freedom\n",
       "AIC: 172.51\n",
       "\n",
       "Number of Fisher Scoring iterations: 8\n"
      ]
     },
     "metadata": {},
     "output_type": "display_data"
    }
   ],
   "source": [
    "logitmod_u <- glm(Class ~ Cl.thickness + Cell.size + Cell.shape, family = \"binomial\", data=up_train)\n",
    "\n",
    "summary(logitmod_u)"
   ]
  },
  {
   "cell_type": "markdown",
   "metadata": {},
   "source": [
    "Higher AIC than down sampled data based model...  \n",
    "Still lets see :)"
   ]
  },
  {
   "cell_type": "code",
   "execution_count": 21,
   "metadata": {},
   "outputs": [],
   "source": [
    "pred_u <- predict(logitmod_u, newdata = testData, type = \"response\")"
   ]
  },
  {
   "cell_type": "code",
   "execution_count": 22,
   "metadata": {},
   "outputs": [],
   "source": [
    "y_pred_num_u <- ifelse(pred_u > 0.5, 1, 0)\n",
    "y_pred_u <- factor(y_pred_num_u, levels=c(0, 1))\n",
    "y_act <- testData$Class"
   ]
  },
  {
   "cell_type": "code",
   "execution_count": 23,
   "metadata": {},
   "outputs": [
    {
     "data": {
      "text/html": [
       "0.941176470588235"
      ],
      "text/latex": [
       "0.941176470588235"
      ],
      "text/markdown": [
       "0.941176470588235"
      ],
      "text/plain": [
       "[1] 0.9411765"
      ]
     },
     "metadata": {},
     "output_type": "display_data"
    }
   ],
   "source": [
    "mean(y_pred_u == y_act) "
   ]
  },
  {
   "cell_type": "markdown",
   "metadata": {},
   "source": [
    "Same...?"
   ]
  },
  {
   "cell_type": "code",
   "execution_count": null,
   "metadata": {},
   "outputs": [],
   "source": []
  },
  {
   "cell_type": "code",
   "execution_count": null,
   "metadata": {},
   "outputs": [],
   "source": []
  }
 ],
 "metadata": {
  "kernelspec": {
   "display_name": "R",
   "language": "R",
   "name": "ir"
  },
  "language_info": {
   "codemirror_mode": "r",
   "file_extension": ".r",
   "mimetype": "text/x-r-source",
   "name": "R",
   "pygments_lexer": "r",
   "version": "3.4.3"
  }
 },
 "nbformat": 4,
 "nbformat_minor": 2
}
