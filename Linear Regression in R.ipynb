{
 "cells": [
  {
   "cell_type": "markdown",
   "metadata": {},
   "source": [
    "Cars is an inbuild sample data "
   ]
  },
  {
   "cell_type": "code",
   "execution_count": 2,
   "metadata": {},
   "outputs": [
    {
     "data": {
      "text/plain": [
       "     speed           dist       \n",
       " Min.   : 4.0   Min.   :  2.00  \n",
       " 1st Qu.:12.0   1st Qu.: 26.00  \n",
       " Median :15.0   Median : 36.00  \n",
       " Mean   :15.4   Mean   : 42.98  \n",
       " 3rd Qu.:19.0   3rd Qu.: 56.00  \n",
       " Max.   :25.0   Max.   :120.00  "
      ]
     },
     "metadata": {},
     "output_type": "display_data"
    }
   ],
   "source": [
    "summary(cars)"
   ]
  },
  {
   "cell_type": "code",
   "execution_count": 1,
   "metadata": {},
   "outputs": [
    {
     "data": {
      "text/html": [
       "<table>\n",
       "<thead><tr><th scope=col>speed</th><th scope=col>dist</th></tr></thead>\n",
       "<tbody>\n",
       "\t<tr><td>4 </td><td> 2</td></tr>\n",
       "\t<tr><td>4 </td><td>10</td></tr>\n",
       "\t<tr><td>7 </td><td> 4</td></tr>\n",
       "\t<tr><td>7 </td><td>22</td></tr>\n",
       "\t<tr><td>8 </td><td>16</td></tr>\n",
       "\t<tr><td>9 </td><td>10</td></tr>\n",
       "</tbody>\n",
       "</table>\n"
      ],
      "text/latex": [
       "\\begin{tabular}{r|ll}\n",
       " speed & dist\\\\\n",
       "\\hline\n",
       "\t 4  &  2\\\\\n",
       "\t 4  & 10\\\\\n",
       "\t 7  &  4\\\\\n",
       "\t 7  & 22\\\\\n",
       "\t 8  & 16\\\\\n",
       "\t 9  & 10\\\\\n",
       "\\end{tabular}\n"
      ],
      "text/markdown": [
       "\n",
       "speed | dist | \n",
       "|---|---|---|---|---|---|\n",
       "| 4  |  2 | \n",
       "| 4  | 10 | \n",
       "| 7  |  4 | \n",
       "| 7  | 22 | \n",
       "| 8  | 16 | \n",
       "| 9  | 10 | \n",
       "\n",
       "\n"
      ],
      "text/plain": [
       "  speed dist\n",
       "1 4      2  \n",
       "2 4     10  \n",
       "3 7      4  \n",
       "4 7     22  \n",
       "5 8     16  \n",
       "6 9     10  "
      ]
     },
     "metadata": {},
     "output_type": "display_data"
    }
   ],
   "source": [
    "head(cars)"
   ]
  },
  {
   "cell_type": "markdown",
   "metadata": {},
   "source": [
    "Graphical analysis:  \n",
    "*Scatter plot:* Visualise the linear relationship between the predictor and response  \n",
    "*Box plot:* To spot any outlier observations in the variable. Having outliers in your predictor can drastically affect the predictions as they can affect the direction/slope of the line of best fit.  \n",
    "*Density plot:* To see the distribution of the predictor variable. Ideally, a close to normal distribution (a bell shaped curve), without being skewed to the left or right is preferred"
   ]
  },
  {
   "cell_type": "code",
   "execution_count": 3,
   "metadata": {},
   "outputs": [
    {
     "data": {
      "image/png": "[encoded data removed]",
      "text/plain": [
       "Plot with title \"Dist ~ Speed\""
      ]
     },
     "metadata": {},
     "output_type": "display_data"
    }
   ],
   "source": [
    "scatter.smooth(x=cars$speed, y=cars$dist, main=\"Dist ~ Speed\")  # scatterplot"
   ]
  },
  {
   "cell_type": "code",
   "execution_count": 4,
   "metadata": {},
   "outputs": [
    {
     "data": {
      "image/png": "[encoded data removed]",
      "text/plain": [
       "Plot with title \"Distance\""
      ]
     },
     "metadata": {},
     "output_type": "display_data"
    }
   ],
   "source": [
    "par(mfrow=c(1, 2))  # divide graph area in 2 columns\n",
    "\n",
    "boxplot(cars$speed, main=\"Speed\", sub=paste(\"Outlier rows: \", boxplot.stats(cars$speed)$out))  # box plot for 'speed'\n",
    "\n",
    "boxplot(cars$dist, main=\"Distance\", sub=paste(\"Outlier rows: \", boxplot.stats(cars$dist)$out))  # box plot for 'distance'"
   ]
  },
  {
   "cell_type": "markdown",
   "metadata": {},
   "source": [
    "combine multiple plots into one overall graph, using either the par( ) or layout( ) function  \n",
    "With the par( ) function,  \n",
    "you can include the option mfrow=c(nrows, ncols)to create a matrix of nrows x ncols plots that are filled in by row.  \n",
    "mfcol=c(nrows, ncols) fills in the matrix by columns.  \n",
    "\n",
    "mf: matrix format..?"
   ]
  },
  {
   "cell_type": "code",
   "execution_count": 6,
   "metadata": {},
   "outputs": [
    {
     "name": "stderr",
     "output_type": "stream",
     "text": [
      "also installing the dependencies 'mlbench', 'SparseM'\n",
      "\n"
     ]
    },
    {
     "name": "stdout",
     "output_type": "stream",
     "text": [
      "package 'mlbench' successfully unpacked and MD5 sums checked\n",
      "package 'SparseM' successfully unpacked and MD5 sums checked\n",
      "package 'e1071' successfully unpacked and MD5 sums checked\n",
      "\n",
      "The downloaded binary packages are in\n",
      "\tC:\\Users\\IBM_ADMIN\\AppData\\Local\\Temp\\RtmpK8n8eL\\downloaded_packages\n"
     ]
    }
   ],
   "source": [
    "install.packages('e1071', dependencies=TRUE)"
   ]
  },
  {
   "cell_type": "code",
   "execution_count": 5,
   "metadata": {},
   "outputs": [
    {
     "ename": "ERROR",
     "evalue": "Error in library(e1071): there is no package called 'e1071'\n",
     "output_type": "error",
     "traceback": [
      "Error in library(e1071): there is no package called 'e1071'\nTraceback:\n",
      "1. library(e1071)",
      "2. stop(txt, domain = NA)"
     ]
    }
   ],
   "source": [
    "library(e1071)  # for skewness function\n",
    "par(mfrow=c(1, 2))  # divide graph area in 2 columns\n",
    "\n",
    "plot(density(cars$speed), main=\"Density Plot: Speed\", ylab=\"Frequency\", sub=paste(\"Skewness:\", round(e1071::skewness(cars$speed), 2)))  # density plot for 'speed'\n",
    "\n",
    "polygon(density(cars$speed), col=\"red\")\n",
    "\n",
    "plot(density(cars$dist), main=\"Density Plot: Distance\", ylab=\"Frequency\", sub=paste(\"Skewness:\", round(e1071::skewness(cars$dist), 2)))  # density plot for 'dist'\n",
    "\n",
    "polygon(density(cars$dist), col=\"red\")"
   ]
  },
  {
   "cell_type": "markdown",
   "metadata": {},
   "source": [
    "Correlation: Correlation is a statistical measure that shows the degree of linear dependence between two variables  \n",
    "Classic : Correlation doesnt imply causation  \n",
    "rely on logic and reasoning business or otherwise to arrive at the causaiton part"
   ]
  },
  {
   "cell_type": "code",
   "execution_count": 9,
   "metadata": {},
   "outputs": [
    {
     "data": {
      "text/html": [
       "0.80689490068921"
      ],
      "text/latex": [
       "0.80689490068921"
      ],
      "text/markdown": [
       "0.80689490068921"
      ],
      "text/plain": [
       "[1] 0.8068949"
      ]
     },
     "metadata": {},
     "output_type": "display_data"
    }
   ],
   "source": [
    "cor(cars$speed, cars$dist)  # calculate correlation between speed and distance \n",
    "#> [1] 0.8068949"
   ]
  },
  {
   "cell_type": "markdown",
   "metadata": {},
   "source": [
    "building a linear model"
   ]
  },
  {
   "cell_type": "code",
   "execution_count": 11,
   "metadata": {},
   "outputs": [
    {
     "name": "stdout",
     "output_type": "stream",
     "text": [
      "\n",
      "Call:\n",
      "lm(formula = dist ~ speed, data = cars)\n",
      "\n",
      "Coefficients:\n",
      "(Intercept)        speed  \n",
      "    -17.579        3.932  \n",
      "\n"
     ]
    }
   ],
   "source": [
    "linearMod <- lm(dist ~ speed, data=cars)  # build linear regression model on full data\n",
    "print(linearMod)"
   ]
  },
  {
   "cell_type": "markdown",
   "metadata": {},
   "source": [
    "m = intercept.. go figure"
   ]
  },
  {
   "cell_type": "code",
   "execution_count": 12,
   "metadata": {},
   "outputs": [
    {
     "data": {
      "text/plain": [
       "\n",
       "Call:\n",
       "lm(formula = dist ~ speed, data = cars)\n",
       "\n",
       "Residuals:\n",
       "    Min      1Q  Median      3Q     Max \n",
       "-29.069  -9.525  -2.272   9.215  43.201 \n",
       "\n",
       "Coefficients:\n",
       "            Estimate Std. Error t value Pr(>|t|)    \n",
       "(Intercept) -17.5791     6.7584  -2.601   0.0123 *  \n",
       "speed         3.9324     0.4155   9.464 1.49e-12 ***\n",
       "---\n",
       "Signif. codes:  0 '***' 0.001 '**' 0.01 '*' 0.05 '.' 0.1 ' ' 1\n",
       "\n",
       "Residual standard error: 15.38 on 48 degrees of freedom\n",
       "Multiple R-squared:  0.6511,\tAdjusted R-squared:  0.6438 \n",
       "F-statistic: 89.57 on 1 and 48 DF,  p-value: 1.49e-12\n"
      ]
     },
     "metadata": {},
     "output_type": "display_data"
    }
   ],
   "source": [
    "summary(linearMod)"
   ]
  },
  {
   "cell_type": "markdown",
   "metadata": {},
   "source": [
    "Interpretation:  \n",
    "-- Std.Error: against a indep variable is a measure of the rel between casual variable and the independent variable  \n",
    "-- t value.. the corresponding casual variable's t value :: how extreme is the value of the casual variable given this standard error and assuming normal distribution  \n",
    "-- Pr. is the p-value for the hypothesis test for which the t value is the test statistic. It tells you the probability of a test statistic at least as unusual as the one you obtained, if the null hypothesis were true. In this case, the null hypothesis is that the true coefficient is zero  \n",
    "-- Residual standard error, represents the standard deviation of the residuals. It's a measure of how close the fit is to the points  \n",
    "-- Multiple R-squared, also called the coefficient of determination is the proportion of the variance in the data that's explained by the model (the more variables you add the larger is the value of R)  \n",
    "-- Adjusted one reduces that to account for the number of variables in the model.  \n",
    "-- F statistic on the last line is telling you whether the regression as a whole is performing 'better than random' - any set of random predictors will have some relationship with the response, so it's seeing whether your model fits better than you'd expect if all your predictors had no relationship with the response (beyond what would be explained by that randomness)"
   ]
  },
  {
   "cell_type": "markdown",
   "metadata": {},
   "source": [
    "#### More comments  \n",
    "--  the P values both for the coeffs and for the model as a whole.. F stat.. indicate that the model is statistically significant.. i.e. it is too rare to have got these values by chance\n",
    "The more the stars \\*\\* \\*\\*\\* the more significant the the calculated statistic is  \n",
    "-- where P values come into the picture there surely isa null hypothesis... here the null hypothess is that the coeffs are close to 0  \n",
    "-- similarly t values  :: A larger t-value indicates that it is less likely that the coefficient is not equal to zero purely by chance. So, higher the t-value, the better  \n",
    "--So if the Pr(>|t|) is low, the coefficients are significant (significantly different from zero). If the Pr(>|t|) is high, the coefficients are not significant\n",
    "    "
   ]
  },
  {
   "cell_type": "markdown",
   "metadata": {},
   "source": [
    "When p Value is less than significance level (< 0.05), you can safely reject the null hypothesis that the co-efficient beta of the predictor is zero"
   ]
  },
  {
   "cell_type": "markdown",
   "metadata": {},
   "source": [
    "### Calculation of t statistic and p values"
   ]
  },
  {
   "cell_type": "markdown",
   "metadata": {},
   "source": [
    "When the model co-efficients and standard error are known, the formula for calculating t Statistic and p-Value is as follows"
   ]
  },
  {
   "cell_type": "markdown",
   "metadata": {},
   "source": [
    "t- statistic = (coefficient/Std.Error)"
   ]
  },
  {
   "cell_type": "code",
   "execution_count": 14,
   "metadata": {},
   "outputs": [],
   "source": [
    "# capture model summary as an object\n",
    "modelSummary <- summary(linearMod)"
   ]
  },
  {
   "cell_type": "code",
   "execution_count": 21,
   "metadata": {},
   "outputs": [],
   "source": [
    "# model coefficients\n",
    "modelCoeffs <- modelSummary$coefficients"
   ]
  },
  {
   "cell_type": "code",
   "execution_count": 22,
   "metadata": {},
   "outputs": [
    {
     "data": {
      "text/html": [
       "<table>\n",
       "<thead><tr><th></th><th scope=col>Estimate</th><th scope=col>Std. Error</th><th scope=col>t value</th><th scope=col>Pr(&gt;|t|)</th></tr></thead>\n",
       "<tbody>\n",
       "\t<tr><th scope=row>(Intercept)</th><td>-17.579095  </td><td>6.7584402   </td><td>-2.601058   </td><td>1.231882e-02</td></tr>\n",
       "\t<tr><th scope=row>speed</th><td>  3.932409  </td><td>0.4155128   </td><td> 9.463990   </td><td>1.489836e-12</td></tr>\n",
       "</tbody>\n",
       "</table>\n"
      ],
      "text/latex": [
       "\\begin{tabular}{r|llll}\n",
       "  & Estimate & Std. Error & t value & Pr(>\\textbar{}t\\textbar{})\\\\\n",
       "\\hline\n",
       "\t(Intercept) & -17.579095   & 6.7584402    & -2.601058    & 1.231882e-02\\\\\n",
       "\tspeed &   3.932409   & 0.4155128    &  9.463990    & 1.489836e-12\\\\\n",
       "\\end{tabular}\n"
      ],
      "text/markdown": [
       "\n",
       "| <!--/--> | Estimate | Std. Error | t value | Pr(>|t|) | \n",
       "|---|---|\n",
       "| (Intercept) | -17.579095   | 6.7584402    | -2.601058    | 1.231882e-02 | \n",
       "| speed |   3.932409   | 0.4155128    |  9.463990    | 1.489836e-12 | \n",
       "\n",
       "\n"
      ],
      "text/plain": [
       "            Estimate   Std. Error t value   Pr(>|t|)    \n",
       "(Intercept) -17.579095 6.7584402  -2.601058 1.231882e-02\n",
       "speed         3.932409 0.4155128   9.463990 1.489836e-12"
      ]
     },
     "metadata": {},
     "output_type": "display_data"
    }
   ],
   "source": [
    "modelCoeffs"
   ]
  },
  {
   "cell_type": "code",
   "execution_count": 16,
   "metadata": {},
   "outputs": [],
   "source": [
    "# get beta estimate for speed\n",
    "beta.estimate <- modelCoeffs[\"speed\", \"Estimate\"]"
   ]
  },
  {
   "cell_type": "code",
   "execution_count": 17,
   "metadata": {},
   "outputs": [],
   "source": [
    "# get std.error for speed  \n",
    "std.error <- modelCoeffs[\"speed\", \"Std. Error\"]"
   ]
  },
  {
   "cell_type": "code",
   "execution_count": 18,
   "metadata": {},
   "outputs": [],
   "source": [
    "# calc t statistic\n",
    "t_value <- beta.estimate/std.error "
   ]
  },
  {
   "cell_type": "code",
   "execution_count": 23,
   "metadata": {},
   "outputs": [],
   "source": [
    "# calc p Value\n",
    "p_value <- 2*pt(-abs(t_value), df=nrow(cars)-ncol(cars)) \n",
    "# pt probability funciton\n",
    "# dt desity funciotn\n",
    "# qt q - quantile, inverse CDF"
   ]
  },
  {
   "cell_type": "code",
   "execution_count": 24,
   "metadata": {},
   "outputs": [],
   "source": [
    "# fstatistic\n",
    "f_statistic <- linearMod$fstatistic[1] "
   ]
  },
  {
   "cell_type": "code",
   "execution_count": 26,
   "metadata": {},
   "outputs": [],
   "source": [
    "# parameters for model p-value calc\n",
    "f <- summary(linearMod)$fstatistic"
   ]
  },
  {
   "cell_type": "code",
   "execution_count": 27,
   "metadata": {},
   "outputs": [],
   "source": [
    "model_p <- pf(f[1], f[2], f[3], lower=FALSE)\n"
   ]
  },
  {
   "cell_type": "code",
   "execution_count": 28,
   "metadata": {},
   "outputs": [
    {
     "data": {
      "text/html": [
       "<strong>value:</strong> 1.48983649629509e-12"
      ],
      "text/latex": [
       "\\textbf{value:} 1.48983649629509e-12"
      ],
      "text/markdown": [
       "**value:** 1.48983649629509e-12"
      ],
      "text/plain": [
       "       value \n",
       "1.489836e-12 "
      ]
     },
     "metadata": {},
     "output_type": "display_data"
    }
   ],
   "source": [
    "model_p"
   ]
  },
  {
   "cell_type": "markdown",
   "metadata": {},
   "source": [
    "pf does the cumulative distribution function (c. d. f.), the p standing for probability.  \n",
    "qf does the the inverse c. d. f, the q standing for quantile.  \n",
    "df does the probability density function (p. d. f.), the d standing for density.  \n",
    "rf generates random variates having the F distribution, the r standing for random.  \n",
    "\n",
    "tobs is the test statistic pf is cumulative prob distri  funciton\n",
    "\n",
    "a lower-tailed test is the lower tail area given by  \n",
    "pf(tobs, df1, df2)  \n",
    "an upper-tailed test is the upper tail area given by  \n",
    "1 - pf(tobs, df1, df2)  \n",
    "a two-tailed test is twice whichever one-tailed P-value is smaller  \n",
    "plow <- pf(tobs, df1, df2)  \n",
    "2 * min(plow, 1 - plow)  "
   ]
  },
  {
   "cell_type": "markdown",
   "metadata": {},
   "source": [
    "#### R squared and adj r squared"
   ]
  },
  {
   "cell_type": "markdown",
   "metadata": {},
   "source": [
    "R-Squared tells us is the proportion of variation in the dependent (response) variable that has been explained by this model"
   ]
  },
  {
   "cell_type": "markdown",
   "metadata": {},
   "source": [
    "R squared = 1 - (rss/tss)  \n",
    "RSS residual sum of squares : (y - y hat)^2 : y hat is the fitted value form the model  \n",
    "TSS total sum of square (y - y bar)^2: y bar is the mean of the y values  \n",
    "a low R squared doesnt really lead to discarding the model..  "
   ]
  },
  {
   "cell_type": "markdown",
   "metadata": {},
   "source": [
    "#### Other scores  \n",
    "Given 2 models compare the \n",
    "AIC of the 2 models  \n",
    "Mean absolute percentage error (MAPE),   \n",
    "Mean Squared Error (MSE) and   \n",
    "Mean Absolute Error (MAE)"
   ]
  },
  {
   "cell_type": "markdown",
   "metadata": {},
   "source": [
    "R squred for a model with more variables will be more than the one with 1 lesser variable..   \n",
    "You are anyway simply adding information  \n",
    "\n",
    "#### Ajdusted R squred  \n",
    "\n",
    "adjusted R-Squared is formulated such that it penalises the number of terms (read predictors) in your model\n",
    "\n",
    "Rsquared adj = 1 - (MSE/MST)  \n",
    "MSE : mean squared error = (RSS/(n-q))  \n",
    "MST : mean squared total = (TSS /(n-1))  \n",
    "n = number of observation , q = number of coeffs"
   ]
  },
  {
   "cell_type": "markdown",
   "metadata": {},
   "source": [
    "Both Standard error and F test are good ness of fit measures:  \n",
    "Std error =  (MSE)^(1/2) = (SSE)^(1/2) :: SSE == sum of squared errors  \n",
    "F- Stat =  MSR/MSE :: MSR == mean squared regression  \n",
    "MSR = (y bar - y har)^(1/2)"
   ]
  },
  {
   "cell_type": "markdown",
   "metadata": {},
   "source": [
    "Akaike’s information criterion – AIC  \n",
    "AIC = (−2) × ln(L) + (2×k)\n",
    "\n",
    "k is the number of model parameters"
   ]
  },
  {
   "cell_type": "markdown",
   "metadata": {},
   "source": [
    "Bayesian information criterion – BIC   \n",
    "BIC = (−2) × ln(L) + k × ln(n)"
   ]
  },
  {
   "cell_type": "code",
   "execution_count": 31,
   "metadata": {},
   "outputs": [
    {
     "data": {
      "text/html": [
       "419.156863027353"
      ],
      "text/latex": [
       "419.156863027353"
      ],
      "text/markdown": [
       "419.156863027353"
      ],
      "text/plain": [
       "[1] 419.1569"
      ]
     },
     "metadata": {},
     "output_type": "display_data"
    }
   ],
   "source": [
    "AIC(linearMod)  \n"
   ]
  },
  {
   "cell_type": "code",
   "execution_count": 32,
   "metadata": {},
   "outputs": [
    {
     "data": {
      "text/html": [
       "424.892932043638"
      ],
      "text/latex": [
       "424.892932043638"
      ],
      "text/markdown": [
       "424.892932043638"
      ],
      "text/plain": [
       "[1] 424.8929"
      ]
     },
     "metadata": {},
     "output_type": "display_data"
    }
   ],
   "source": [
    "BIC(linearMod)  "
   ]
  },
  {
   "cell_type": "markdown",
   "metadata": {},
   "source": [
    "STATISTIC :: CRITERION  \n",
    "R-Squared :: Higher the better  \n",
    "Adj R-Squared :: Higher the better  \n",
    "F-Statistic :: Higher the better  \n",
    "Std. Error :: Closer to zero the better  \n",
    "t-statistic :: Should be greater 1.96 for p-value to be less than 0.05  \n",
    "AIC :: Lower the better  \n",
    "BIC :: Lower the better  \n",
    "Mallows cp :: Should be close to the number of predictors in model  \n",
    "MAPE (Mean absolute percentage error) :: Lower the better  \n",
    "MSE (Mean squared error) :: Lower the better  \n",
    "Min_Max Accuracy => mean(min(actual, predicted)/max(actual, predicted)) :: Higher the better  "
   ]
  },
  {
   "cell_type": "markdown",
   "metadata": {},
   "source": [
    "### the LM created earlier used all of the data  \n",
    "Which is less than ideal.. and hence the recommended 80:20 split"
   ]
  },
  {
   "cell_type": "code",
   "execution_count": 33,
   "metadata": {},
   "outputs": [],
   "source": [
    "# Create Training and Test data -\n",
    "set.seed(100)  # setting seed to reproduce results of random sampling\n",
    "trainingRowIndex <- sample(1:nrow(cars), 0.8*nrow(cars))  # row indices for training data\n",
    "trainingData <- cars[trainingRowIndex, ]  # model training data\n",
    "testData  <- cars[-trainingRowIndex, ]   # test data"
   ]
  },
  {
   "cell_type": "code",
   "execution_count": 34,
   "metadata": {},
   "outputs": [
    {
     "data": {
      "text/html": [
       "<ol class=list-inline>\n",
       "\t<li>16</li>\n",
       "\t<li>13</li>\n",
       "\t<li>27</li>\n",
       "\t<li>3</li>\n",
       "\t<li>22</li>\n",
       "\t<li>46</li>\n",
       "\t<li>36</li>\n",
       "\t<li>50</li>\n",
       "\t<li>23</li>\n",
       "\t<li>7</li>\n",
       "\t<li>25</li>\n",
       "\t<li>35</li>\n",
       "\t<li>11</li>\n",
       "\t<li>15</li>\n",
       "\t<li>28</li>\n",
       "\t<li>24</li>\n",
       "\t<li>41</li>\n",
       "\t<li>12</li>\n",
       "\t<li>33</li>\n",
       "\t<li>45</li>\n",
       "\t<li>17</li>\n",
       "\t<li>21</li>\n",
       "\t<li>43</li>\n",
       "\t<li>29</li>\n",
       "\t<li>38</li>\n",
       "\t<li>5</li>\n",
       "\t<li>19</li>\n",
       "\t<li>48</li>\n",
       "\t<li>49</li>\n",
       "\t<li>6</li>\n",
       "\t<li>10</li>\n",
       "\t<li>18</li>\n",
       "\t<li>34</li>\n",
       "\t<li>30</li>\n",
       "\t<li>32</li>\n",
       "\t<li>14</li>\n",
       "\t<li>47</li>\n",
       "\t<li>9</li>\n",
       "\t<li>44</li>\n",
       "\t<li>2</li>\n",
       "</ol>\n"
      ],
      "text/latex": [
       "\\begin{enumerate*}\n",
       "\\item 16\n",
       "\\item 13\n",
       "\\item 27\n",
       "\\item 3\n",
       "\\item 22\n",
       "\\item 46\n",
       "\\item 36\n",
       "\\item 50\n",
       "\\item 23\n",
       "\\item 7\n",
       "\\item 25\n",
       "\\item 35\n",
       "\\item 11\n",
       "\\item 15\n",
       "\\item 28\n",
       "\\item 24\n",
       "\\item 41\n",
       "\\item 12\n",
       "\\item 33\n",
       "\\item 45\n",
       "\\item 17\n",
       "\\item 21\n",
       "\\item 43\n",
       "\\item 29\n",
       "\\item 38\n",
       "\\item 5\n",
       "\\item 19\n",
       "\\item 48\n",
       "\\item 49\n",
       "\\item 6\n",
       "\\item 10\n",
       "\\item 18\n",
       "\\item 34\n",
       "\\item 30\n",
       "\\item 32\n",
       "\\item 14\n",
       "\\item 47\n",
       "\\item 9\n",
       "\\item 44\n",
       "\\item 2\n",
       "\\end{enumerate*}\n"
      ],
      "text/markdown": [
       "1. 16\n",
       "2. 13\n",
       "3. 27\n",
       "4. 3\n",
       "5. 22\n",
       "6. 46\n",
       "7. 36\n",
       "8. 50\n",
       "9. 23\n",
       "10. 7\n",
       "11. 25\n",
       "12. 35\n",
       "13. 11\n",
       "14. 15\n",
       "15. 28\n",
       "16. 24\n",
       "17. 41\n",
       "18. 12\n",
       "19. 33\n",
       "20. 45\n",
       "21. 17\n",
       "22. 21\n",
       "23. 43\n",
       "24. 29\n",
       "25. 38\n",
       "26. 5\n",
       "27. 19\n",
       "28. 48\n",
       "29. 49\n",
       "30. 6\n",
       "31. 10\n",
       "32. 18\n",
       "33. 34\n",
       "34. 30\n",
       "35. 32\n",
       "36. 14\n",
       "37. 47\n",
       "38. 9\n",
       "39. 44\n",
       "40. 2\n",
       "\n",
       "\n"
      ],
      "text/plain": [
       " [1] 16 13 27  3 22 46 36 50 23  7 25 35 11 15 28 24 41 12 33 45 17 21 43 29 38\n",
       "[26]  5 19 48 49  6 10 18 34 30 32 14 47  9 44  2"
      ]
     },
     "metadata": {},
     "output_type": "display_data"
    }
   ],
   "source": [
    "trainingRowIndex"
   ]
  },
  {
   "cell_type": "code",
   "execution_count": 35,
   "metadata": {},
   "outputs": [
    {
     "data": {
      "text/html": [
       "<ol class=list-inline>\n",
       "\t<li>-16</li>\n",
       "\t<li>-13</li>\n",
       "\t<li>-27</li>\n",
       "\t<li>-3</li>\n",
       "\t<li>-22</li>\n",
       "\t<li>-46</li>\n",
       "\t<li>-36</li>\n",
       "\t<li>-50</li>\n",
       "\t<li>-23</li>\n",
       "\t<li>-7</li>\n",
       "\t<li>-25</li>\n",
       "\t<li>-35</li>\n",
       "\t<li>-11</li>\n",
       "\t<li>-15</li>\n",
       "\t<li>-28</li>\n",
       "\t<li>-24</li>\n",
       "\t<li>-41</li>\n",
       "\t<li>-12</li>\n",
       "\t<li>-33</li>\n",
       "\t<li>-45</li>\n",
       "\t<li>-17</li>\n",
       "\t<li>-21</li>\n",
       "\t<li>-43</li>\n",
       "\t<li>-29</li>\n",
       "\t<li>-38</li>\n",
       "\t<li>-5</li>\n",
       "\t<li>-19</li>\n",
       "\t<li>-48</li>\n",
       "\t<li>-49</li>\n",
       "\t<li>-6</li>\n",
       "\t<li>-10</li>\n",
       "\t<li>-18</li>\n",
       "\t<li>-34</li>\n",
       "\t<li>-30</li>\n",
       "\t<li>-32</li>\n",
       "\t<li>-14</li>\n",
       "\t<li>-47</li>\n",
       "\t<li>-9</li>\n",
       "\t<li>-44</li>\n",
       "\t<li>-2</li>\n",
       "</ol>\n"
      ],
      "text/latex": [
       "\\begin{enumerate*}\n",
       "\\item -16\n",
       "\\item -13\n",
       "\\item -27\n",
       "\\item -3\n",
       "\\item -22\n",
       "\\item -46\n",
       "\\item -36\n",
       "\\item -50\n",
       "\\item -23\n",
       "\\item -7\n",
       "\\item -25\n",
       "\\item -35\n",
       "\\item -11\n",
       "\\item -15\n",
       "\\item -28\n",
       "\\item -24\n",
       "\\item -41\n",
       "\\item -12\n",
       "\\item -33\n",
       "\\item -45\n",
       "\\item -17\n",
       "\\item -21\n",
       "\\item -43\n",
       "\\item -29\n",
       "\\item -38\n",
       "\\item -5\n",
       "\\item -19\n",
       "\\item -48\n",
       "\\item -49\n",
       "\\item -6\n",
       "\\item -10\n",
       "\\item -18\n",
       "\\item -34\n",
       "\\item -30\n",
       "\\item -32\n",
       "\\item -14\n",
       "\\item -47\n",
       "\\item -9\n",
       "\\item -44\n",
       "\\item -2\n",
       "\\end{enumerate*}\n"
      ],
      "text/markdown": [
       "1. -16\n",
       "2. -13\n",
       "3. -27\n",
       "4. -3\n",
       "5. -22\n",
       "6. -46\n",
       "7. -36\n",
       "8. -50\n",
       "9. -23\n",
       "10. -7\n",
       "11. -25\n",
       "12. -35\n",
       "13. -11\n",
       "14. -15\n",
       "15. -28\n",
       "16. -24\n",
       "17. -41\n",
       "18. -12\n",
       "19. -33\n",
       "20. -45\n",
       "21. -17\n",
       "22. -21\n",
       "23. -43\n",
       "24. -29\n",
       "25. -38\n",
       "26. -5\n",
       "27. -19\n",
       "28. -48\n",
       "29. -49\n",
       "30. -6\n",
       "31. -10\n",
       "32. -18\n",
       "33. -34\n",
       "34. -30\n",
       "35. -32\n",
       "36. -14\n",
       "37. -47\n",
       "38. -9\n",
       "39. -44\n",
       "40. -2\n",
       "\n",
       "\n"
      ],
      "text/plain": [
       " [1] -16 -13 -27  -3 -22 -46 -36 -50 -23  -7 -25 -35 -11 -15 -28 -24 -41 -12 -33\n",
       "[20] -45 -17 -21 -43 -29 -38  -5 -19 -48 -49  -6 -10 -18 -34 -30 -32 -14 -47  -9\n",
       "[39] -44  -2"
      ]
     },
     "metadata": {},
     "output_type": "display_data"
    }
   ],
   "source": [
    "-trainingRowIndex"
   ]
  },
  {
   "cell_type": "code",
   "execution_count": 38,
   "metadata": {},
   "outputs": [
    {
     "data": {
      "text/html": [
       "<table>\n",
       "<thead><tr><th></th><th scope=col>speed</th><th scope=col>dist</th></tr></thead>\n",
       "<tbody>\n",
       "\t<tr><th scope=row>16</th><td>13</td><td>26</td></tr>\n",
       "</tbody>\n",
       "</table>\n"
      ],
      "text/latex": [
       "\\begin{tabular}{r|ll}\n",
       "  & speed & dist\\\\\n",
       "\\hline\n",
       "\t16 & 13 & 26\\\\\n",
       "\\end{tabular}\n"
      ],
      "text/markdown": [
       "\n",
       "| <!--/--> | speed | dist | \n",
       "|---|\n",
       "| 16 | 13 | 26 | \n",
       "\n",
       "\n"
      ],
      "text/plain": [
       "   speed dist\n",
       "16 13    26  "
      ]
     },
     "metadata": {},
     "output_type": "display_data"
    }
   ],
   "source": [
    "cars[16,]"
   ]
  },
  {
   "cell_type": "code",
   "execution_count": 39,
   "metadata": {},
   "outputs": [
    {
     "data": {
      "text/html": [
       "<table>\n",
       "<thead><tr><th></th><th scope=col>speed</th><th scope=col>dist</th></tr></thead>\n",
       "<tbody>\n",
       "\t<tr><th scope=row>1</th><td> 4 </td><td>  2</td></tr>\n",
       "\t<tr><th scope=row>2</th><td> 4 </td><td> 10</td></tr>\n",
       "\t<tr><th scope=row>3</th><td> 7 </td><td>  4</td></tr>\n",
       "\t<tr><th scope=row>4</th><td> 7 </td><td> 22</td></tr>\n",
       "\t<tr><th scope=row>5</th><td> 8 </td><td> 16</td></tr>\n",
       "\t<tr><th scope=row>6</th><td> 9 </td><td> 10</td></tr>\n",
       "\t<tr><th scope=row>7</th><td>10 </td><td> 18</td></tr>\n",
       "\t<tr><th scope=row>8</th><td>10 </td><td> 26</td></tr>\n",
       "\t<tr><th scope=row>9</th><td>10 </td><td> 34</td></tr>\n",
       "\t<tr><th scope=row>10</th><td>11 </td><td> 17</td></tr>\n",
       "\t<tr><th scope=row>11</th><td>11 </td><td> 28</td></tr>\n",
       "\t<tr><th scope=row>12</th><td>12 </td><td> 14</td></tr>\n",
       "\t<tr><th scope=row>13</th><td>12 </td><td> 20</td></tr>\n",
       "\t<tr><th scope=row>14</th><td>12 </td><td> 24</td></tr>\n",
       "\t<tr><th scope=row>15</th><td>12 </td><td> 28</td></tr>\n",
       "\t<tr><th scope=row>17</th><td>13 </td><td> 34</td></tr>\n",
       "\t<tr><th scope=row>18</th><td>13 </td><td> 34</td></tr>\n",
       "\t<tr><th scope=row>19</th><td>13 </td><td> 46</td></tr>\n",
       "\t<tr><th scope=row>20</th><td>14 </td><td> 26</td></tr>\n",
       "\t<tr><th scope=row>21</th><td>14 </td><td> 36</td></tr>\n",
       "\t<tr><th scope=row>22</th><td>14 </td><td> 60</td></tr>\n",
       "\t<tr><th scope=row>23</th><td>14 </td><td> 80</td></tr>\n",
       "\t<tr><th scope=row>24</th><td>15 </td><td> 20</td></tr>\n",
       "\t<tr><th scope=row>25</th><td>15 </td><td> 26</td></tr>\n",
       "\t<tr><th scope=row>26</th><td>15 </td><td> 54</td></tr>\n",
       "\t<tr><th scope=row>27</th><td>16 </td><td> 32</td></tr>\n",
       "\t<tr><th scope=row>28</th><td>16 </td><td> 40</td></tr>\n",
       "\t<tr><th scope=row>29</th><td>17 </td><td> 32</td></tr>\n",
       "\t<tr><th scope=row>30</th><td>17 </td><td> 40</td></tr>\n",
       "\t<tr><th scope=row>31</th><td>17 </td><td> 50</td></tr>\n",
       "\t<tr><th scope=row>32</th><td>18 </td><td> 42</td></tr>\n",
       "\t<tr><th scope=row>33</th><td>18 </td><td> 56</td></tr>\n",
       "\t<tr><th scope=row>34</th><td>18 </td><td> 76</td></tr>\n",
       "\t<tr><th scope=row>35</th><td>18 </td><td> 84</td></tr>\n",
       "\t<tr><th scope=row>36</th><td>19 </td><td> 36</td></tr>\n",
       "\t<tr><th scope=row>37</th><td>19 </td><td> 46</td></tr>\n",
       "\t<tr><th scope=row>38</th><td>19 </td><td> 68</td></tr>\n",
       "\t<tr><th scope=row>39</th><td>20 </td><td> 32</td></tr>\n",
       "\t<tr><th scope=row>40</th><td>20 </td><td> 48</td></tr>\n",
       "\t<tr><th scope=row>41</th><td>20 </td><td> 52</td></tr>\n",
       "\t<tr><th scope=row>42</th><td>20 </td><td> 56</td></tr>\n",
       "\t<tr><th scope=row>43</th><td>20 </td><td> 64</td></tr>\n",
       "\t<tr><th scope=row>44</th><td>22 </td><td> 66</td></tr>\n",
       "\t<tr><th scope=row>45</th><td>23 </td><td> 54</td></tr>\n",
       "\t<tr><th scope=row>46</th><td>24 </td><td> 70</td></tr>\n",
       "\t<tr><th scope=row>47</th><td>24 </td><td> 92</td></tr>\n",
       "\t<tr><th scope=row>48</th><td>24 </td><td> 93</td></tr>\n",
       "\t<tr><th scope=row>49</th><td>24 </td><td>120</td></tr>\n",
       "\t<tr><th scope=row>50</th><td>25 </td><td> 85</td></tr>\n",
       "</tbody>\n",
       "</table>\n"
      ],
      "text/latex": [
       "\\begin{tabular}{r|ll}\n",
       "  & speed & dist\\\\\n",
       "\\hline\n",
       "\t1 &  4  &   2\\\\\n",
       "\t2 &  4  &  10\\\\\n",
       "\t3 &  7  &   4\\\\\n",
       "\t4 &  7  &  22\\\\\n",
       "\t5 &  8  &  16\\\\\n",
       "\t6 &  9  &  10\\\\\n",
       "\t7 & 10  &  18\\\\\n",
       "\t8 & 10  &  26\\\\\n",
       "\t9 & 10  &  34\\\\\n",
       "\t10 & 11  &  17\\\\\n",
       "\t11 & 11  &  28\\\\\n",
       "\t12 & 12  &  14\\\\\n",
       "\t13 & 12  &  20\\\\\n",
       "\t14 & 12  &  24\\\\\n",
       "\t15 & 12  &  28\\\\\n",
       "\t17 & 13  &  34\\\\\n",
       "\t18 & 13  &  34\\\\\n",
       "\t19 & 13  &  46\\\\\n",
       "\t20 & 14  &  26\\\\\n",
       "\t21 & 14  &  36\\\\\n",
       "\t22 & 14  &  60\\\\\n",
       "\t23 & 14  &  80\\\\\n",
       "\t24 & 15  &  20\\\\\n",
       "\t25 & 15  &  26\\\\\n",
       "\t26 & 15  &  54\\\\\n",
       "\t27 & 16  &  32\\\\\n",
       "\t28 & 16  &  40\\\\\n",
       "\t29 & 17  &  32\\\\\n",
       "\t30 & 17  &  40\\\\\n",
       "\t31 & 17  &  50\\\\\n",
       "\t32 & 18  &  42\\\\\n",
       "\t33 & 18  &  56\\\\\n",
       "\t34 & 18  &  76\\\\\n",
       "\t35 & 18  &  84\\\\\n",
       "\t36 & 19  &  36\\\\\n",
       "\t37 & 19  &  46\\\\\n",
       "\t38 & 19  &  68\\\\\n",
       "\t39 & 20  &  32\\\\\n",
       "\t40 & 20  &  48\\\\\n",
       "\t41 & 20  &  52\\\\\n",
       "\t42 & 20  &  56\\\\\n",
       "\t43 & 20  &  64\\\\\n",
       "\t44 & 22  &  66\\\\\n",
       "\t45 & 23  &  54\\\\\n",
       "\t46 & 24  &  70\\\\\n",
       "\t47 & 24  &  92\\\\\n",
       "\t48 & 24  &  93\\\\\n",
       "\t49 & 24  & 120\\\\\n",
       "\t50 & 25  &  85\\\\\n",
       "\\end{tabular}\n"
      ],
      "text/markdown": [
       "\n",
       "| <!--/--> | speed | dist | \n",
       "|---|---|---|---|---|---|---|---|---|---|---|---|---|---|---|---|---|---|---|---|---|---|---|---|---|---|---|---|---|---|---|---|---|---|---|---|---|---|---|---|---|---|---|---|---|---|---|---|---|\n",
       "| 1 |  4  |   2 | \n",
       "| 2 |  4  |  10 | \n",
       "| 3 |  7  |   4 | \n",
       "| 4 |  7  |  22 | \n",
       "| 5 |  8  |  16 | \n",
       "| 6 |  9  |  10 | \n",
       "| 7 | 10  |  18 | \n",
       "| 8 | 10  |  26 | \n",
       "| 9 | 10  |  34 | \n",
       "| 10 | 11  |  17 | \n",
       "| 11 | 11  |  28 | \n",
       "| 12 | 12  |  14 | \n",
       "| 13 | 12  |  20 | \n",
       "| 14 | 12  |  24 | \n",
       "| 15 | 12  |  28 | \n",
       "| 17 | 13  |  34 | \n",
       "| 18 | 13  |  34 | \n",
       "| 19 | 13  |  46 | \n",
       "| 20 | 14  |  26 | \n",
       "| 21 | 14  |  36 | \n",
       "| 22 | 14  |  60 | \n",
       "| 23 | 14  |  80 | \n",
       "| 24 | 15  |  20 | \n",
       "| 25 | 15  |  26 | \n",
       "| 26 | 15  |  54 | \n",
       "| 27 | 16  |  32 | \n",
       "| 28 | 16  |  40 | \n",
       "| 29 | 17  |  32 | \n",
       "| 30 | 17  |  40 | \n",
       "| 31 | 17  |  50 | \n",
       "| 32 | 18  |  42 | \n",
       "| 33 | 18  |  56 | \n",
       "| 34 | 18  |  76 | \n",
       "| 35 | 18  |  84 | \n",
       "| 36 | 19  |  36 | \n",
       "| 37 | 19  |  46 | \n",
       "| 38 | 19  |  68 | \n",
       "| 39 | 20  |  32 | \n",
       "| 40 | 20  |  48 | \n",
       "| 41 | 20  |  52 | \n",
       "| 42 | 20  |  56 | \n",
       "| 43 | 20  |  64 | \n",
       "| 44 | 22  |  66 | \n",
       "| 45 | 23  |  54 | \n",
       "| 46 | 24  |  70 | \n",
       "| 47 | 24  |  92 | \n",
       "| 48 | 24  |  93 | \n",
       "| 49 | 24  | 120 | \n",
       "| 50 | 25  |  85 | \n",
       "\n",
       "\n"
      ],
      "text/plain": [
       "   speed dist\n",
       "1   4      2 \n",
       "2   4     10 \n",
       "3   7      4 \n",
       "4   7     22 \n",
       "5   8     16 \n",
       "6   9     10 \n",
       "7  10     18 \n",
       "8  10     26 \n",
       "9  10     34 \n",
       "10 11     17 \n",
       "11 11     28 \n",
       "12 12     14 \n",
       "13 12     20 \n",
       "14 12     24 \n",
       "15 12     28 \n",
       "17 13     34 \n",
       "18 13     34 \n",
       "19 13     46 \n",
       "20 14     26 \n",
       "21 14     36 \n",
       "22 14     60 \n",
       "23 14     80 \n",
       "24 15     20 \n",
       "25 15     26 \n",
       "26 15     54 \n",
       "27 16     32 \n",
       "28 16     40 \n",
       "29 17     32 \n",
       "30 17     40 \n",
       "31 17     50 \n",
       "32 18     42 \n",
       "33 18     56 \n",
       "34 18     76 \n",
       "35 18     84 \n",
       "36 19     36 \n",
       "37 19     46 \n",
       "38 19     68 \n",
       "39 20     32 \n",
       "40 20     48 \n",
       "41 20     52 \n",
       "42 20     56 \n",
       "43 20     64 \n",
       "44 22     66 \n",
       "45 23     54 \n",
       "46 24     70 \n",
       "47 24     92 \n",
       "48 24     93 \n",
       "49 24    120 \n",
       "50 25     85 "
      ]
     },
     "metadata": {},
     "output_type": "display_data"
    }
   ],
   "source": [
    "cars[-16,]"
   ]
  },
  {
   "cell_type": "markdown",
   "metadata": {},
   "source": [
    "Hmmm so the negation of the indices does work for creating the test set... "
   ]
  },
  {
   "cell_type": "code",
   "execution_count": 40,
   "metadata": {},
   "outputs": [],
   "source": [
    "# Build the model on training data\n",
    "lmMod <- lm(dist ~ speed, data=trainingData)  # build the model\n",
    "distPred <- predict(lmMod, testData)  # predict distance"
   ]
  },
  {
   "cell_type": "code",
   "execution_count": 41,
   "metadata": {},
   "outputs": [
    {
     "data": {
      "text/plain": [
       "\n",
       "Call:\n",
       "lm(formula = dist ~ speed, data = trainingData)\n",
       "\n",
       "Residuals:\n",
       "    Min      1Q  Median      3Q     Max \n",
       "-23.350 -10.771  -2.137   9.255  42.231 \n",
       "\n",
       "Coefficients:\n",
       "            Estimate Std. Error t value Pr(>|t|)    \n",
       "(Intercept)  -22.657      7.999  -2.833  0.00735 ** \n",
       "speed          4.316      0.487   8.863 8.73e-11 ***\n",
       "---\n",
       "Signif. codes:  0 '***' 0.001 '**' 0.01 '*' 0.05 '.' 0.1 ' ' 1\n",
       "\n",
       "Residual standard error: 15.84 on 38 degrees of freedom\n",
       "Multiple R-squared:  0.674,\tAdjusted R-squared:  0.6654 \n",
       "F-statistic: 78.56 on 1 and 38 DF,  p-value: 8.734e-11\n"
      ]
     },
     "metadata": {},
     "output_type": "display_data"
    }
   ],
   "source": [
    "summary (lmMod)"
   ]
  },
  {
   "cell_type": "markdown",
   "metadata": {},
   "source": [
    "The model's P value at the f statistic...  \n",
    "And the p value for the coeffs are less than the significance level..   \n",
    "And thus can be taken to be be statistically significant"
   ]
  },
  {
   "cell_type": "markdown",
   "metadata": {},
   "source": [
    "The R squared and adj R squared are close enought ot the otriginal model that took all of the data in"
   ]
  },
  {
   "cell_type": "code",
   "execution_count": 42,
   "metadata": {},
   "outputs": [
    {
     "data": {
      "text/plain": [
       "\n",
       "Call:\n",
       "lm(formula = dist ~ speed, data = cars)\n",
       "\n",
       "Residuals:\n",
       "    Min      1Q  Median      3Q     Max \n",
       "-29.069  -9.525  -2.272   9.215  43.201 \n",
       "\n",
       "Coefficients:\n",
       "            Estimate Std. Error t value Pr(>|t|)    \n",
       "(Intercept) -17.5791     6.7584  -2.601   0.0123 *  \n",
       "speed         3.9324     0.4155   9.464 1.49e-12 ***\n",
       "---\n",
       "Signif. codes:  0 '***' 0.001 '**' 0.01 '*' 0.05 '.' 0.1 ' ' 1\n",
       "\n",
       "Residual standard error: 15.38 on 48 degrees of freedom\n",
       "Multiple R-squared:  0.6511,\tAdjusted R-squared:  0.6438 \n",
       "F-statistic: 89.57 on 1 and 48 DF,  p-value: 1.49e-12\n"
      ]
     },
     "metadata": {},
     "output_type": "display_data"
    }
   ],
   "source": [
    "summary(linearMod) # the prev model trained on all of the data"
   ]
  },
  {
   "cell_type": "markdown",
   "metadata": {},
   "source": [
    "### Prediction accuracy and errors"
   ]
  },
  {
   "cell_type": "code",
   "execution_count": 43,
   "metadata": {},
   "outputs": [],
   "source": [
    "actuals_preds <- data.frame(cbind(actuals=testData$dist, predicteds=distPred))  \n",
    "# make actuals_predicteds dataframe."
   ]
  },
  {
   "cell_type": "code",
   "execution_count": 46,
   "metadata": {},
   "outputs": [],
   "source": [
    "correlation_accuracy <- cor(actuals_preds)"
   ]
  },
  {
   "cell_type": "code",
   "execution_count": 47,
   "metadata": {},
   "outputs": [
    {
     "data": {
      "text/html": [
       "<table>\n",
       "<thead><tr><th></th><th scope=col>actuals</th><th scope=col>predicteds</th></tr></thead>\n",
       "<tbody>\n",
       "\t<tr><th scope=row>actuals</th><td>1.0000000</td><td>0.8277535</td></tr>\n",
       "\t<tr><th scope=row>predicteds</th><td>0.8277535</td><td>1.0000000</td></tr>\n",
       "</tbody>\n",
       "</table>\n"
      ],
      "text/latex": [
       "\\begin{tabular}{r|ll}\n",
       "  & actuals & predicteds\\\\\n",
       "\\hline\n",
       "\tactuals & 1.0000000 & 0.8277535\\\\\n",
       "\tpredicteds & 0.8277535 & 1.0000000\\\\\n",
       "\\end{tabular}\n"
      ],
      "text/markdown": [
       "\n",
       "| <!--/--> | actuals | predicteds | \n",
       "|---|---|\n",
       "| actuals | 1.0000000 | 0.8277535 | \n",
       "| predicteds | 0.8277535 | 1.0000000 | \n",
       "\n",
       "\n"
      ],
      "text/plain": [
       "           actuals   predicteds\n",
       "actuals    1.0000000 0.8277535 \n",
       "predicteds 0.8277535 1.0000000 "
      ]
     },
     "metadata": {},
     "output_type": "display_data"
    }
   ],
   "source": [
    "correlation_accuracy #0.8277535 that is to say that the predicted values closely track the actuals"
   ]
  },
  {
   "cell_type": "code",
   "execution_count": 45,
   "metadata": {},
   "outputs": [
    {
     "data": {
      "text/html": [
       "<table>\n",
       "<thead><tr><th></th><th scope=col>actuals</th><th scope=col>predicteds</th></tr></thead>\n",
       "<tbody>\n",
       "\t<tr><th scope=row>1</th><td> 2       </td><td>-5.392776</td></tr>\n",
       "\t<tr><th scope=row>4</th><td>22       </td><td> 7.555787</td></tr>\n",
       "\t<tr><th scope=row>8</th><td>26       </td><td>20.504349</td></tr>\n",
       "\t<tr><th scope=row>20</th><td>26       </td><td>37.769100</td></tr>\n",
       "\t<tr><th scope=row>26</th><td>54       </td><td>42.085287</td></tr>\n",
       "\t<tr><th scope=row>31</th><td>50       </td><td>50.717663</td></tr>\n",
       "</tbody>\n",
       "</table>\n"
      ],
      "text/latex": [
       "\\begin{tabular}{r|ll}\n",
       "  & actuals & predicteds\\\\\n",
       "\\hline\n",
       "\t1 &  2        & -5.392776\\\\\n",
       "\t4 & 22        &  7.555787\\\\\n",
       "\t8 & 26        & 20.504349\\\\\n",
       "\t20 & 26        & 37.769100\\\\\n",
       "\t26 & 54        & 42.085287\\\\\n",
       "\t31 & 50        & 50.717663\\\\\n",
       "\\end{tabular}\n"
      ],
      "text/markdown": [
       "\n",
       "| <!--/--> | actuals | predicteds | \n",
       "|---|---|---|---|---|---|\n",
       "| 1 |  2        | -5.392776 | \n",
       "| 4 | 22        |  7.555787 | \n",
       "| 8 | 26        | 20.504349 | \n",
       "| 20 | 26        | 37.769100 | \n",
       "| 26 | 54        | 42.085287 | \n",
       "| 31 | 50        | 50.717663 | \n",
       "\n",
       "\n"
      ],
      "text/plain": [
       "   actuals predicteds\n",
       "1   2      -5.392776 \n",
       "4  22       7.555787 \n",
       "8  26      20.504349 \n",
       "20 26      37.769100 \n",
       "26 54      42.085287 \n",
       "31 50      50.717663 "
      ]
     },
     "metadata": {},
     "output_type": "display_data"
    }
   ],
   "source": [
    "head(actuals_preds)"
   ]
  },
  {
   "cell_type": "code",
   "execution_count": 48,
   "metadata": {},
   "outputs": [],
   "source": [
    "# Min-Max Accuracy Calculation\n",
    "min_max_accuracy <- mean(apply(actuals_preds, 1, min) / apply(actuals_preds, 1, max))"
   ]
  },
  {
   "cell_type": "markdown",
   "metadata": {},
   "source": [
    "MinMaxAccuracy = mean(min(actuals,predicteds)/max(actuals,predicteds))   \n",
    "chk formula above"
   ]
  },
  {
   "cell_type": "code",
   "execution_count": 49,
   "metadata": {},
   "outputs": [],
   "source": [
    "# MAPE Calculation\n",
    "mape <- mean(abs((actuals_preds$predicteds - actuals_preds$actuals))/actuals_preds$actuals)  "
   ]
  },
  {
   "cell_type": "code",
   "execution_count": 50,
   "metadata": {},
   "outputs": [
    {
     "data": {
      "text/html": [
       "0.699503247384078"
      ],
      "text/latex": [
       "0.699503247384078"
      ],
      "text/markdown": [
       "0.699503247384078"
      ],
      "text/plain": [
       "[1] 0.6995032"
      ]
     },
     "metadata": {},
     "output_type": "display_data"
    }
   ],
   "source": [
    "mape"
   ]
  },
  {
   "cell_type": "code",
   "execution_count": 51,
   "metadata": {},
   "outputs": [
    {
     "name": "stderr",
     "output_type": "stream",
     "text": [
      "also installing the dependencies 'gtools', 'gdata', 'gplots', 'abind', 'ROCR'\n",
      "\n"
     ]
    },
    {
     "name": "stdout",
     "output_type": "stream",
     "text": [
      "package 'gtools' successfully unpacked and MD5 sums checked\n",
      "package 'gdata' successfully unpacked and MD5 sums checked\n",
      "package 'gplots' successfully unpacked and MD5 sums checked\n",
      "package 'abind' successfully unpacked and MD5 sums checked\n",
      "package 'ROCR' successfully unpacked and MD5 sums checked\n",
      "package 'DMwR' successfully unpacked and MD5 sums checked\n",
      "\n",
      "The downloaded binary packages are in\n",
      "\tC:\\Users\\IBM_ADMIN\\AppData\\Local\\Temp\\RtmpK8n8eL\\downloaded_packages\n"
     ]
    }
   ],
   "source": [
    "install.packages('DMwR')"
   ]
  },
  {
   "cell_type": "code",
   "execution_count": 52,
   "metadata": {},
   "outputs": [
    {
     "data": {
      "text/html": [
       "<dl class=dl-horizontal>\n",
       "\t<dt>mae</dt>\n",
       "\t\t<dd>12.0082829046899</dd>\n",
       "\t<dt>mse</dt>\n",
       "\t\t<dd>205.965271045853</dd>\n",
       "\t<dt>rmse</dt>\n",
       "\t\t<dd>14.3514902029668</dd>\n",
       "\t<dt>mape</dt>\n",
       "\t\t<dd>0.699503247384078</dd>\n",
       "</dl>\n"
      ],
      "text/latex": [
       "\\begin{description*}\n",
       "\\item[mae] 12.0082829046899\n",
       "\\item[mse] 205.965271045853\n",
       "\\item[rmse] 14.3514902029668\n",
       "\\item[mape] 0.699503247384078\n",
       "\\end{description*}\n"
      ],
      "text/markdown": [
       "mae\n",
       ":   12.0082829046899mse\n",
       ":   205.965271045853rmse\n",
       ":   14.3514902029668mape\n",
       ":   0.699503247384078\n",
       "\n"
      ],
      "text/plain": [
       "        mae         mse        rmse        mape \n",
       " 12.0082829 205.9652710  14.3514902   0.6995032 "
      ]
     },
     "metadata": {},
     "output_type": "display_data"
    }
   ],
   "source": [
    "DMwR::regr.eval(actuals_preds$actuals, actuals_preds$predicteds)"
   ]
  },
  {
   "cell_type": "markdown",
   "metadata": {},
   "source": [
    "mean absolute error  \n",
    "mean squared error  \n",
    "root mean squared error  \n",
    "Mean absolute percentage deviation  "
   ]
  },
  {
   "cell_type": "code",
   "execution_count": 54,
   "metadata": {},
   "outputs": [
    {
     "name": "stderr",
     "output_type": "stream",
     "text": [
      "also installing the dependency 'latticeExtra'\n",
      "\n"
     ]
    },
    {
     "name": "stdout",
     "output_type": "stream",
     "text": [
      "package 'latticeExtra' successfully unpacked and MD5 sums checked\n",
      "package 'DAAG' successfully unpacked and MD5 sums checked\n",
      "\n",
      "The downloaded binary packages are in\n",
      "\tC:\\Users\\IBM_ADMIN\\AppData\\Local\\Temp\\RtmpK8n8eL\\downloaded_packages\n"
     ]
    }
   ],
   "source": [
    "install.packages('DAAG')"
   ]
  },
  {
   "cell_type": "code",
   "execution_count": 78,
   "metadata": {},
   "outputs": [
    {
     "data": {
      "text/html": [
       "251.278295313108"
      ],
      "text/latex": [
       "251.278295313108"
      ],
      "text/markdown": [
       "251.278295313108"
      ],
      "text/plain": [
       "[1] 251.2783"
      ]
     },
     "metadata": {},
     "output_type": "display_data"
    },
    {
     "data": {
      "image/png": "[encoded data removed]",
      "text/plain": [
       "Plot with title \"Small symbols are predicted values while bigger ones are actuals.\""
      ]
     },
     "metadata": {},
     "output_type": "display_data"
    }
   ],
   "source": [
    "library(DAAG)\n",
    "cvResults <- suppressWarnings(CVlm(#df=cars, #replaced df with data\n",
    "                                    data=cars,\n",
    "                                   form.lm=dist ~ speed,\n",
    "                                   m=5, dots=FALSE, seed=29, \n",
    "                                   legend.pos=\"topleft\", \n",
    "                                   printit=FALSE,\n",
    "                                   main=\"Small symbols are predicted values while bigger ones are actuals.\")); \n",
    "# performs the CV\n",
    "attr(cvResults, 'ms')  "
   ]
  },
  {
   "cell_type": "markdown",
   "metadata": {},
   "source": [
    "## and lo behold....."
   ]
  },
  {
   "cell_type": "code",
   "execution_count": null,
   "metadata": {},
   "outputs": [],
   "source": []
  }
 ],
 "metadata": {
  "kernelspec": {
   "display_name": "R",
   "language": "R",
   "name": "ir"
  },
  "language_info": {
   "codemirror_mode": "r",
   "file_extension": ".r",
   "mimetype": "text/x-r-source",
   "name": "R",
   "pygments_lexer": "r",
   "version": "3.4.3"
  }
 },
 "nbformat": 4,
 "nbformat_minor": 2
}
