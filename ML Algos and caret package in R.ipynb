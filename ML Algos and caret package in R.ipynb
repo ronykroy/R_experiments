{
 "cells": [
  {
   "cell_type": "markdown",
   "metadata": {},
   "source": [
    "Generally accepted that it is challenging to keep a track of developments relatedto packages in R..  \n",
    "It receives less coverage than Keras or pytorch or sci kit learn packages.."
   ]
  },
  {
   "cell_type": "code",
   "execution_count": 1,
   "metadata": {},
   "outputs": [
    {
     "name": "stderr",
     "output_type": "stream",
     "text": [
      "Warning message:\n",
      "\"package 'skimr' is not available (for R version 3.4.3)\""
     ]
    },
    {
     "name": "stdout",
     "output_type": "stream",
     "text": [
      "package 'caret' successfully unpacked and MD5 sums checked\n",
      "package 'RANN' successfully unpacked and MD5 sums checked\n",
      "package 'randomForest' successfully unpacked and MD5 sums checked\n",
      "package 'fastAdaboost' successfully unpacked and MD5 sums checked\n",
      "package 'gbm' successfully unpacked and MD5 sums checked\n",
      "package 'xgboost' successfully unpacked and MD5 sums checked\n",
      "package 'caretEnsemble' successfully unpacked and MD5 sums checked\n",
      "package 'C50' successfully unpacked and MD5 sums checked\n",
      "package 'earth' successfully unpacked and MD5 sums checked\n",
      "\n",
      "The downloaded binary packages are in\n",
      "\tC:\\Users\\IBM_ADMIN\\AppData\\Local\\Temp\\RtmpWMGc29\\downloaded_packages\n"
     ]
    }
   ],
   "source": [
    "install.packages(c('caret', 'skimr', 'RANN', 'randomForest', 'fastAdaboost', 'gbm', 'xgboost', 'caretEnsemble', 'C50', 'earth'))"
   ]
  },
  {
   "cell_type": "markdown",
   "metadata": {},
   "source": [
    "Steps invvoled.. \n",
    "Data Preparation and Preprocessing  \n",
    "Visualize the importance of variables  \n",
    "Feature Selection using RFE  \n",
    "Training and Tuning the model  \n",
    "Ensembling the predictions  "
   ]
  },
  {
   "cell_type": "markdown",
   "metadata": {},
   "source": [
    "The Orange Juice Data, originally made available in the ISLR package.  \n",
    "The goal of this dataset is to predict which of the two brands of orange juices did the customers buy.  \n",
    "1070 rows with 18 columns  \n",
    "Response variable is ‘Purchase’ which takes either the value ‘CH'(citrus hill) or ‘MM'(minute maid).  "
   ]
  },
  {
   "cell_type": "code",
   "execution_count": 18,
   "metadata": {},
   "outputs": [
    {
     "name": "stderr",
     "output_type": "stream",
     "text": [
      "also installing the dependencies 'memoise', 'git2r'\n",
      "\n"
     ]
    },
    {
     "name": "stdout",
     "output_type": "stream",
     "text": [
      "package 'memoise' successfully unpacked and MD5 sums checked\n",
      "package 'git2r' successfully unpacked and MD5 sums checked\n",
      "package 'devtools' successfully unpacked and MD5 sums checked\n",
      "\n",
      "The downloaded binary packages are in\n",
      "\tC:\\Users\\IBM_ADMIN\\AppData\\Local\\Temp\\RtmpWMGc29\\downloaded_packages\n"
     ]
    }
   ],
   "source": [
    "install.packages(\"devtools\")"
   ]
  },
  {
   "cell_type": "code",
   "execution_count": 19,
   "metadata": {},
   "outputs": [
    {
     "name": "stderr",
     "output_type": "stream",
     "text": [
      "Downloading GitHub repo ropenscilabs/skimr@master\n",
      "from URL https://api.github.com/repos/ropenscilabs/skimr/zipball/master\n",
      "Installing skimr\n",
      "Installing 1 package: pander\n"
     ]
    },
    {
     "name": "stdout",
     "output_type": "stream",
     "text": [
      "package 'pander' successfully unpacked and MD5 sums checked\n",
      "\n",
      "The downloaded binary packages are in\n",
      "\tC:\\Users\\IBM_ADMIN\\AppData\\Local\\Temp\\RtmpWMGc29\\downloaded_packages\n"
     ]
    },
    {
     "name": "stderr",
     "output_type": "stream",
     "text": [
      "\"C:/Users/IBM_ADMIN/Anaconda3/lib/R/bin/x64/R\" --no-site-file --no-environ  \\\n",
      "  --no-save --no-restore --quiet CMD INSTALL  \\\n",
      "  \"C:/Users/IBM_ADMIN/AppData/Local/Temp/RtmpWMGc29/devtoolse544f023c29/ropenscilabs-skimr-a37dc16\"  \\\n",
      "  --library=\"C:/Users/IBM_ADMIN/Anaconda3/Lib/R/library\" --install-tests \n",
      "\n"
     ]
    }
   ],
   "source": [
    "devtools::install_github(\"ropenscilabs/skimr\")"
   ]
  },
  {
   "cell_type": "code",
   "execution_count": 15,
   "metadata": {},
   "outputs": [
    {
     "name": "stderr",
     "output_type": "stream",
     "text": [
      "Warning message:\n",
      "\"package 'skimr' is not available (for R version 3.4.3)\""
     ]
    }
   ],
   "source": [
    "install.packages(\"skimr\")"
   ]
  },
  {
   "cell_type": "code",
   "execution_count": 3,
   "metadata": {},
   "outputs": [
    {
     "name": "stderr",
     "output_type": "stream",
     "text": [
      "Loading required package: lattice\n",
      "Loading required package: ggplot2\n"
     ]
    }
   ],
   "source": [
    "# Load the caret package\n",
    "library(caret)\n"
   ]
  },
  {
   "cell_type": "code",
   "execution_count": 6,
   "metadata": {},
   "outputs": [
    {
     "name": "stdout",
     "output_type": "stream",
     "text": [
      "'data.frame':\t1070 obs. of  18 variables:\n",
      " $ Purchase      : Factor w/ 2 levels \"CH\",\"MM\": 1 1 1 2 1 1 1 1 1 1 ...\n",
      " $ WeekofPurchase: int  237 239 245 227 228 230 232 234 235 238 ...\n",
      " $ StoreID       : int  1 1 1 1 7 7 7 7 7 7 ...\n",
      " $ PriceCH       : num  1.75 1.75 1.86 1.69 1.69 1.69 1.69 1.75 1.75 1.75 ...\n",
      " $ PriceMM       : num  1.99 1.99 2.09 1.69 1.69 1.99 1.99 1.99 1.99 1.99 ...\n",
      " $ DiscCH        : num  0 0 0.17 0 0 0 0 0 0 0 ...\n",
      " $ DiscMM        : num  0 0.3 0 0 0 0 0.4 0.4 0.4 0.4 ...\n",
      " $ SpecialCH     : int  0 0 0 0 0 0 1 1 0 0 ...\n",
      " $ SpecialMM     : int  0 1 0 0 0 1 1 0 0 0 ...\n",
      " $ LoyalCH       : num  0.5 0.6 0.68 0.4 0.957 ...\n",
      " $ SalePriceMM   : num  1.99 1.69 2.09 1.69 1.69 1.99 1.59 1.59 1.59 1.59 ...\n",
      " $ SalePriceCH   : num  1.75 1.75 1.69 1.69 1.69 1.69 1.69 1.75 1.75 1.75 ...\n",
      " $ PriceDiff     : num  0.24 -0.06 0.4 0 0 0.3 -0.1 -0.16 -0.16 -0.16 ...\n",
      " $ Store7        : Factor w/ 2 levels \"No\",\"Yes\": 1 1 1 1 2 2 2 2 2 2 ...\n",
      " $ PctDiscMM     : num  0 0.151 0 0 0 ...\n",
      " $ PctDiscCH     : num  0 0 0.0914 0 0 ...\n",
      " $ ListPriceDiff : num  0.24 0.24 0.23 0 0 0.3 0.3 0.24 0.24 0.24 ...\n",
      " $ STORE         : int  1 1 1 1 0 0 0 0 0 0 ...\n"
     ]
    }
   ],
   "source": [
    "# Import dataset\n",
    "orange <- read.csv('https://raw.githubusercontent.com/selva86/datasets/master/orange_juice_withmissing.csv')\n",
    "\n",
    "# Structure of the dataframe\n",
    "str(orange)"
   ]
  },
  {
   "cell_type": "code",
   "execution_count": 7,
   "metadata": {},
   "outputs": [
    {
     "data": {
      "text/html": [
       "<table>\n",
       "<thead><tr><th scope=col>Purchase</th><th scope=col>WeekofPurchase</th><th scope=col>StoreID</th><th scope=col>PriceCH</th><th scope=col>PriceMM</th><th scope=col>DiscCH</th><th scope=col>DiscMM</th><th scope=col>SpecialCH</th><th scope=col>SpecialMM</th><th scope=col>LoyalCH</th></tr></thead>\n",
       "<tbody>\n",
       "\t<tr><td>CH      </td><td>237     </td><td>1       </td><td>1.75    </td><td>1.99    </td><td>0.00    </td><td>0.0     </td><td>0       </td><td>0       </td><td>0.500000</td></tr>\n",
       "\t<tr><td>CH      </td><td>239     </td><td>1       </td><td>1.75    </td><td>1.99    </td><td>0.00    </td><td>0.3     </td><td>0       </td><td>1       </td><td>0.600000</td></tr>\n",
       "\t<tr><td>CH      </td><td>245     </td><td>1       </td><td>1.86    </td><td>2.09    </td><td>0.17    </td><td>0.0     </td><td>0       </td><td>0       </td><td>0.680000</td></tr>\n",
       "\t<tr><td>MM      </td><td>227     </td><td>1       </td><td>1.69    </td><td>1.69    </td><td>0.00    </td><td>0.0     </td><td>0       </td><td>0       </td><td>0.400000</td></tr>\n",
       "\t<tr><td>CH      </td><td>228     </td><td>7       </td><td>1.69    </td><td>1.69    </td><td>0.00    </td><td>0.0     </td><td>0       </td><td>0       </td><td>0.956535</td></tr>\n",
       "\t<tr><td>CH      </td><td>230     </td><td>7       </td><td>1.69    </td><td>1.99    </td><td>0.00    </td><td>0.0     </td><td>0       </td><td>1       </td><td>0.965228</td></tr>\n",
       "</tbody>\n",
       "</table>\n"
      ],
      "text/latex": [
       "\\begin{tabular}{r|llllllllll}\n",
       " Purchase & WeekofPurchase & StoreID & PriceCH & PriceMM & DiscCH & DiscMM & SpecialCH & SpecialMM & LoyalCH\\\\\n",
       "\\hline\n",
       "\t CH       & 237      & 1        & 1.75     & 1.99     & 0.00     & 0.0      & 0        & 0        & 0.500000\\\\\n",
       "\t CH       & 239      & 1        & 1.75     & 1.99     & 0.00     & 0.3      & 0        & 1        & 0.600000\\\\\n",
       "\t CH       & 245      & 1        & 1.86     & 2.09     & 0.17     & 0.0      & 0        & 0        & 0.680000\\\\\n",
       "\t MM       & 227      & 1        & 1.69     & 1.69     & 0.00     & 0.0      & 0        & 0        & 0.400000\\\\\n",
       "\t CH       & 228      & 7        & 1.69     & 1.69     & 0.00     & 0.0      & 0        & 0        & 0.956535\\\\\n",
       "\t CH       & 230      & 7        & 1.69     & 1.99     & 0.00     & 0.0      & 0        & 1        & 0.965228\\\\\n",
       "\\end{tabular}\n"
      ],
      "text/markdown": [
       "\n",
       "Purchase | WeekofPurchase | StoreID | PriceCH | PriceMM | DiscCH | DiscMM | SpecialCH | SpecialMM | LoyalCH | \n",
       "|---|---|---|---|---|---|\n",
       "| CH       | 237      | 1        | 1.75     | 1.99     | 0.00     | 0.0      | 0        | 0        | 0.500000 | \n",
       "| CH       | 239      | 1        | 1.75     | 1.99     | 0.00     | 0.3      | 0        | 1        | 0.600000 | \n",
       "| CH       | 245      | 1        | 1.86     | 2.09     | 0.17     | 0.0      | 0        | 0        | 0.680000 | \n",
       "| MM       | 227      | 1        | 1.69     | 1.69     | 0.00     | 0.0      | 0        | 0        | 0.400000 | \n",
       "| CH       | 228      | 7        | 1.69     | 1.69     | 0.00     | 0.0      | 0        | 0        | 0.956535 | \n",
       "| CH       | 230      | 7        | 1.69     | 1.99     | 0.00     | 0.0      | 0        | 1        | 0.965228 | \n",
       "\n",
       "\n"
      ],
      "text/plain": [
       "  Purchase WeekofPurchase StoreID PriceCH PriceMM DiscCH DiscMM SpecialCH\n",
       "1 CH       237            1       1.75    1.99    0.00   0.0    0        \n",
       "2 CH       239            1       1.75    1.99    0.00   0.3    0        \n",
       "3 CH       245            1       1.86    2.09    0.17   0.0    0        \n",
       "4 MM       227            1       1.69    1.69    0.00   0.0    0        \n",
       "5 CH       228            7       1.69    1.69    0.00   0.0    0        \n",
       "6 CH       230            7       1.69    1.99    0.00   0.0    0        \n",
       "  SpecialMM LoyalCH \n",
       "1 0         0.500000\n",
       "2 1         0.600000\n",
       "3 0         0.680000\n",
       "4 0         0.400000\n",
       "5 0         0.956535\n",
       "6 1         0.965228"
      ]
     },
     "metadata": {},
     "output_type": "display_data"
    }
   ],
   "source": [
    "# See top 6 rows and 10 columns\n",
    "head(orange[, 1:10])"
   ]
  },
  {
   "cell_type": "code",
   "execution_count": 8,
   "metadata": {},
   "outputs": [],
   "source": [
    "# Create the training and test datasets\n",
    "set.seed(100)"
   ]
  },
  {
   "cell_type": "code",
   "execution_count": 9,
   "metadata": {},
   "outputs": [],
   "source": [
    "# Get row numbers for the training data\n",
    "trainRowNumbers <- createDataPartition(orange$Purchase, p=0.8, list=FALSE)"
   ]
  },
  {
   "cell_type": "code",
   "execution_count": 11,
   "metadata": {},
   "outputs": [],
   "source": [
    "# Create the training  dataset\n",
    "trainData <- orange[trainRowNumbers,]"
   ]
  },
  {
   "cell_type": "code",
   "execution_count": 12,
   "metadata": {},
   "outputs": [],
   "source": [
    "# Create the test dataset\n",
    "testData <- orange[-trainRowNumbers,]"
   ]
  },
  {
   "cell_type": "code",
   "execution_count": 13,
   "metadata": {},
   "outputs": [],
   "source": [
    "# Store X and Y for later use.\n",
    "x = trainData[, 2:18]\n",
    "y = trainData$Purchase"
   ]
  },
  {
   "cell_type": "markdown",
   "metadata": {},
   "source": [
    "skimr::skim_to_wide() produces a nice dataframe containing the descriptive stats of each of the columns"
   ]
  },
  {
   "cell_type": "code",
   "execution_count": 20,
   "metadata": {},
   "outputs": [
    {
     "data": {
      "text/html": [
       "<table>\n",
       "<thead><tr><th scope=col>type</th><th scope=col>variable</th><th scope=col>missing</th><th scope=col>complete</th><th scope=col>n</th><th scope=col>mean</th><th scope=col>sd</th><th scope=col>p0</th><th scope=col>p50</th><th scope=col>p100</th><th scope=col>hist</th></tr></thead>\n",
       "<tbody>\n",
       "\t<tr><td>factor                                                          </td><td>Purchase                                                        </td><td>0                                                               </td><td>857                                                             </td><td>857                                                             </td><td>NA                                                              </td><td>NA                                                              </td><td>NA                                                              </td><td>NA                                                              </td><td>NA                                                              </td><td>NA                                                              </td></tr>\n",
       "\t<tr><td>factor                                                          </td><td>Store7                                                          </td><td>0                                                               </td><td>857                                                             </td><td>857                                                             </td><td>NA                                                              </td><td>NA                                                              </td><td>NA                                                              </td><td>NA                                                              </td><td>NA                                                              </td><td>NA                                                              </td></tr>\n",
       "\t<tr><td>integer                                                                                                         </td><td><span style=white-space:pre-wrap>SpecialCH     </span>                                                          </td><td>2                                                                                                               </td><td>855                                                                                                             </td><td>857                                                                                                             </td><td><span style=white-space:pre-wrap>  0.16</span>                                                                  </td><td> 0.36                                                                                                           </td><td><span style=white-space:pre-wrap>0       </span>                                                                </td><td><span style=white-space:pre-wrap>0   </span>                                                                    </td><td><span style=white-space:pre-wrap>1   </span>                                                                    </td><td>&lt;U+2587&gt;&lt;U+2581&gt;&lt;U+2581&gt;&lt;U+2581&gt;&lt;U+2581&gt;&lt;U+2581&gt;&lt;U+2581&gt;&lt;U+2582&gt;</td></tr>\n",
       "\t<tr><td>integer                                                                                                         </td><td><span style=white-space:pre-wrap>SpecialMM     </span>                                                          </td><td>4                                                                                                               </td><td>853                                                                                                             </td><td>857                                                                                                             </td><td><span style=white-space:pre-wrap>  0.15</span>                                                                  </td><td> 0.36                                                                                                           </td><td><span style=white-space:pre-wrap>0       </span>                                                                </td><td><span style=white-space:pre-wrap>0   </span>                                                                    </td><td><span style=white-space:pre-wrap>1   </span>                                                                    </td><td>&lt;U+2587&gt;&lt;U+2581&gt;&lt;U+2581&gt;&lt;U+2581&gt;&lt;U+2581&gt;&lt;U+2581&gt;&lt;U+2581&gt;&lt;U+2582&gt;</td></tr>\n",
       "\t<tr><td>integer                                                                                                         </td><td><span style=white-space:pre-wrap>STORE         </span>                                                          </td><td>2                                                                                                               </td><td>855                                                                                                             </td><td>857                                                                                                             </td><td><span style=white-space:pre-wrap>  1.66</span>                                                                  </td><td> 1.44                                                                                                           </td><td><span style=white-space:pre-wrap>0       </span>                                                                </td><td><span style=white-space:pre-wrap>2   </span>                                                                    </td><td><span style=white-space:pre-wrap>4   </span>                                                                    </td><td>&lt;U+2587&gt;&lt;U+2583&gt;&lt;U+2581&gt;&lt;U+2585&gt;&lt;U+2581&gt;&lt;U+2585&gt;&lt;U+2581&gt;&lt;U+2583&gt;</td></tr>\n",
       "\t<tr><td>integer                                                                                                         </td><td><span style=white-space:pre-wrap>StoreID       </span>                                                          </td><td>1                                                                                                               </td><td>856                                                                                                             </td><td>857                                                                                                             </td><td><span style=white-space:pre-wrap>  3.95</span>                                                                  </td><td> 2.29                                                                                                           </td><td><span style=white-space:pre-wrap>1       </span>                                                                </td><td><span style=white-space:pre-wrap>3   </span>                                                                    </td><td><span style=white-space:pre-wrap>7   </span>                                                                    </td><td>&lt;U+2583&gt;&lt;U+2585&gt;&lt;U+2585&gt;&lt;U+2583&gt;&lt;U+2581&gt;&lt;U+2581&gt;&lt;U+2581&gt;&lt;U+2587&gt;</td></tr>\n",
       "\t<tr><td>integer                                                                                                         </td><td>WeekofPurchase                                                                                                  </td><td>0                                                                                                               </td><td>857                                                                                                             </td><td>857                                                                                                             </td><td>254.17                                                                                                          </td><td>15.59                                                                                                           </td><td><span style=white-space:pre-wrap>227     </span>                                                                </td><td>257                                                                                                             </td><td>278                                                                                                             </td><td>&lt;U+2586&gt;&lt;U+2586&gt;&lt;U+2585&gt;&lt;U+2583&gt;&lt;U+2586&gt;&lt;U+2587&gt;&lt;U+2586&gt;&lt;U+2587&gt;</td></tr>\n",
       "\t<tr><td>numeric                                                                                                         </td><td><span style=white-space:pre-wrap>DiscCH        </span>                                                          </td><td>2                                                                                                               </td><td>855                                                                                                             </td><td>857                                                                                                             </td><td>0.054                                                                                                           </td><td>0.12                                                                                                            </td><td><span style=white-space:pre-wrap> 0      </span>                                                                </td><td><span style=white-space:pre-wrap>0   </span>                                                                    </td><td>0.5                                                                                                             </td><td>&lt;U+2587&gt;&lt;U+2581&gt;&lt;U+2581&gt;&lt;U+2581&gt;&lt;U+2581&gt;&lt;U+2581&gt;&lt;U+2581&gt;&lt;U+2581&gt;</td></tr>\n",
       "\t<tr><td>numeric                                                                                                         </td><td><span style=white-space:pre-wrap>DiscMM        </span>                                                          </td><td>3                                                                                                               </td><td>854                                                                                                             </td><td>857                                                                                                             </td><td><span style=white-space:pre-wrap>0.12  </span>                                                                  </td><td>0.21                                                                                                            </td><td><span style=white-space:pre-wrap> 0      </span>                                                                </td><td><span style=white-space:pre-wrap>0   </span>                                                                    </td><td>0.8                                                                                                             </td><td>&lt;U+2587&gt;&lt;U+2581&gt;&lt;U+2581&gt;&lt;U+2582&gt;&lt;U+2581&gt;&lt;U+2581&gt;&lt;U+2581&gt;&lt;U+2581&gt;</td></tr>\n",
       "\t<tr><td>numeric                                                                                                         </td><td>ListPriceDiff                                                                                                   </td><td>0                                                                                                               </td><td>857                                                                                                             </td><td>857                                                                                                             </td><td><span style=white-space:pre-wrap>0.22  </span>                                                                  </td><td>0.11                                                                                                            </td><td><span style=white-space:pre-wrap> 0      </span>                                                                </td><td>0.24                                                                                                            </td><td>0.44                                                                                                            </td><td>&lt;U+2582&gt;&lt;U+2582&gt;&lt;U+2582&gt;&lt;U+2582&gt;&lt;U+2587&gt;&lt;U+2586&gt;&lt;U+2581&gt;&lt;U+2581&gt;</td></tr>\n",
       "\t<tr><td>numeric                                                                                                         </td><td><span style=white-space:pre-wrap>LoyalCH       </span>                                                          </td><td>5                                                                                                               </td><td>852                                                                                                             </td><td>857                                                                                                             </td><td><span style=white-space:pre-wrap>0.56  </span>                                                                  </td><td>0.31                                                                                                            </td><td> 1.1e-05                                                                                                        </td><td>0.6                                                                                                             </td><td><span style=white-space:pre-wrap>1   </span>                                                                    </td><td>&lt;U+2585&gt;&lt;U+2582&gt;&lt;U+2583&gt;&lt;U+2583&gt;&lt;U+2586&gt;&lt;U+2583&gt;&lt;U+2585&gt;&lt;U+2587&gt;</td></tr>\n",
       "\t<tr><td>numeric                                                                                                         </td><td><span style=white-space:pre-wrap>PctDiscCH     </span>                                                          </td><td>2                                                                                                               </td><td>855                                                                                                             </td><td>857                                                                                                             </td><td>0.028                                                                                                           </td><td>0.063                                                                                                           </td><td><span style=white-space:pre-wrap> 0      </span>                                                                </td><td><span style=white-space:pre-wrap>0   </span>                                                                    </td><td>0.25                                                                                                            </td><td>&lt;U+2587&gt;&lt;U+2581&gt;&lt;U+2581&gt;&lt;U+2581&gt;&lt;U+2581&gt;&lt;U+2581&gt;&lt;U+2581&gt;&lt;U+2581&gt;</td></tr>\n",
       "\t<tr><td>numeric                                                                                                         </td><td><span style=white-space:pre-wrap>PctDiscMM     </span>                                                          </td><td>2                                                                                                               </td><td>855                                                                                                             </td><td>857                                                                                                             </td><td>0.058                                                                                                           </td><td>0.099                                                                                                           </td><td><span style=white-space:pre-wrap> 0      </span>                                                                </td><td><span style=white-space:pre-wrap>0   </span>                                                                    </td><td>0.4                                                                                                             </td><td>&lt;U+2587&gt;&lt;U+2581&gt;&lt;U+2581&gt;&lt;U+2582&gt;&lt;U+2581&gt;&lt;U+2581&gt;&lt;U+2581&gt;&lt;U+2581&gt;</td></tr>\n",
       "\t<tr><td>numeric                                                                                                         </td><td><span style=white-space:pre-wrap>PriceCH       </span>                                                          </td><td>1                                                                                                               </td><td>856                                                                                                             </td><td>857                                                                                                             </td><td><span style=white-space:pre-wrap>1.87  </span>                                                                  </td><td><span style=white-space:pre-wrap>0.1  </span>                                                                   </td><td><span style=white-space:pre-wrap> 1.69   </span>                                                                </td><td>1.86                                                                                                            </td><td>2.09                                                                                                            </td><td>&lt;U+2582&gt;&lt;U+2585&gt;&lt;U+2581&gt;&lt;U+2587&gt;&lt;U+2581&gt;&lt;U+2581&gt;&lt;U+2585&gt;&lt;U+2581&gt;</td></tr>\n",
       "\t<tr><td>numeric                                                                                                         </td><td><span style=white-space:pre-wrap>PriceDiff     </span>                                                          </td><td>1                                                                                                               </td><td>856                                                                                                             </td><td>857                                                                                                             </td><td><span style=white-space:pre-wrap>0.15  </span>                                                                  </td><td>0.27                                                                                                            </td><td><span style=white-space:pre-wrap>-0.67   </span>                                                                </td><td>0.23                                                                                                            </td><td>0.64                                                                                                            </td><td>&lt;U+2581&gt;&lt;U+2581&gt;&lt;U+2582&gt;&lt;U+2582&gt;&lt;U+2583&gt;&lt;U+2587&gt;&lt;U+2585&gt;&lt;U+2582&gt;</td></tr>\n",
       "\t<tr><td>numeric                                                                                                         </td><td><span style=white-space:pre-wrap>PriceMM       </span>                                                          </td><td>1                                                                                                               </td><td>856                                                                                                             </td><td>857                                                                                                             </td><td><span style=white-space:pre-wrap>2.08  </span>                                                                  </td><td>0.14                                                                                                            </td><td><span style=white-space:pre-wrap> 1.69   </span>                                                                </td><td>2.09                                                                                                            </td><td>2.29                                                                                                            </td><td>&lt;U+2581&gt;&lt;U+2581&gt;&lt;U+2581&gt;&lt;U+2583&gt;&lt;U+2581&gt;&lt;U+2587&gt;&lt;U+2583&gt;&lt;U+2582&gt;</td></tr>\n",
       "\t<tr><td>numeric                                                                                                         </td><td><span style=white-space:pre-wrap>SalePriceCH   </span>                                                          </td><td>1                                                                                                               </td><td>856                                                                                                             </td><td>857                                                                                                             </td><td><span style=white-space:pre-wrap>1.81  </span>                                                                  </td><td>0.15                                                                                                            </td><td><span style=white-space:pre-wrap> 1.39   </span>                                                                </td><td>1.86                                                                                                            </td><td>2.09                                                                                                            </td><td>&lt;U+2581&gt;&lt;U+2581&gt;&lt;U+2581&gt;&lt;U+2582&gt;&lt;U+2586&gt;&lt;U+2587&gt;&lt;U+2585&gt;&lt;U+2581&gt;</td></tr>\n",
       "\t<tr><td>numeric                                                                                                         </td><td><span style=white-space:pre-wrap>SalePriceMM   </span>                                                          </td><td>3                                                                                                               </td><td>854                                                                                                             </td><td>857                                                                                                             </td><td><span style=white-space:pre-wrap>1.96  </span>                                                                  </td><td>0.25                                                                                                            </td><td><span style=white-space:pre-wrap> 1.19   </span>                                                                </td><td>2.09                                                                                                            </td><td>2.29                                                                                                            </td><td>&lt;U+2581&gt;&lt;U+2581&gt;&lt;U+2583&gt;&lt;U+2583&gt;&lt;U+2581&gt;&lt;U+2582&gt;&lt;U+2587&gt;&lt;U+2586&gt;</td></tr>\n",
       "</tbody>\n",
       "</table>\n"
      ],
      "text/latex": [
       "\\begin{tabular}{r|lllllllllll}\n",
       " type & variable & missing & complete & n & mean & sd & p0 & p50 & p100 & hist\\\\\n",
       "\\hline\n",
       "\t factor                                                           & Purchase                                                         & 0                                                                & 857                                                              & 857                                                              & NA                                                               & NA                                                               & NA                                                               & NA                                                               & NA                                                               & NA                                                              \\\\\n",
       "\t factor                                                           & Store7                                                           & 0                                                                & 857                                                              & 857                                                              & NA                                                               & NA                                                               & NA                                                               & NA                                                               & NA                                                               & NA                                                              \\\\\n",
       "\t integer                                                          & SpecialCH                                                        & 2                                                                & 855                                                              & 857                                                              &   0.16                                                           &  0.36                                                            & 0                                                                & 0                                                                & 1                                                                & <U+2587><U+2581><U+2581><U+2581><U+2581><U+2581><U+2581><U+2582>\\\\\n",
       "\t integer                                                          & SpecialMM                                                        & 4                                                                & 853                                                              & 857                                                              &   0.15                                                           &  0.36                                                            & 0                                                                & 0                                                                & 1                                                                & <U+2587><U+2581><U+2581><U+2581><U+2581><U+2581><U+2581><U+2582>\\\\\n",
       "\t integer                                                          & STORE                                                            & 2                                                                & 855                                                              & 857                                                              &   1.66                                                           &  1.44                                                            & 0                                                                & 2                                                                & 4                                                                & <U+2587><U+2583><U+2581><U+2585><U+2581><U+2585><U+2581><U+2583>\\\\\n",
       "\t integer                                                          & StoreID                                                          & 1                                                                & 856                                                              & 857                                                              &   3.95                                                           &  2.29                                                            & 1                                                                & 3                                                                & 7                                                                & <U+2583><U+2585><U+2585><U+2583><U+2581><U+2581><U+2581><U+2587>\\\\\n",
       "\t integer                                                          & WeekofPurchase                                                   & 0                                                                & 857                                                              & 857                                                              & 254.17                                                           & 15.59                                                            & 227                                                              & 257                                                              & 278                                                              & <U+2586><U+2586><U+2585><U+2583><U+2586><U+2587><U+2586><U+2587>\\\\\n",
       "\t numeric                                                          & DiscCH                                                           & 2                                                                & 855                                                              & 857                                                              & 0.054                                                            & 0.12                                                             &  0                                                               & 0                                                                & 0.5                                                              & <U+2587><U+2581><U+2581><U+2581><U+2581><U+2581><U+2581><U+2581>\\\\\n",
       "\t numeric                                                          & DiscMM                                                           & 3                                                                & 854                                                              & 857                                                              & 0.12                                                             & 0.21                                                             &  0                                                               & 0                                                                & 0.8                                                              & <U+2587><U+2581><U+2581><U+2582><U+2581><U+2581><U+2581><U+2581>\\\\\n",
       "\t numeric                                                          & ListPriceDiff                                                    & 0                                                                & 857                                                              & 857                                                              & 0.22                                                             & 0.11                                                             &  0                                                               & 0.24                                                             & 0.44                                                             & <U+2582><U+2582><U+2582><U+2582><U+2587><U+2586><U+2581><U+2581>\\\\\n",
       "\t numeric                                                          & LoyalCH                                                          & 5                                                                & 852                                                              & 857                                                              & 0.56                                                             & 0.31                                                             &  1.1e-05                                                         & 0.6                                                              & 1                                                                & <U+2585><U+2582><U+2583><U+2583><U+2586><U+2583><U+2585><U+2587>\\\\\n",
       "\t numeric                                                          & PctDiscCH                                                        & 2                                                                & 855                                                              & 857                                                              & 0.028                                                            & 0.063                                                            &  0                                                               & 0                                                                & 0.25                                                             & <U+2587><U+2581><U+2581><U+2581><U+2581><U+2581><U+2581><U+2581>\\\\\n",
       "\t numeric                                                          & PctDiscMM                                                        & 2                                                                & 855                                                              & 857                                                              & 0.058                                                            & 0.099                                                            &  0                                                               & 0                                                                & 0.4                                                              & <U+2587><U+2581><U+2581><U+2582><U+2581><U+2581><U+2581><U+2581>\\\\\n",
       "\t numeric                                                          & PriceCH                                                          & 1                                                                & 856                                                              & 857                                                              & 1.87                                                             & 0.1                                                              &  1.69                                                            & 1.86                                                             & 2.09                                                             & <U+2582><U+2585><U+2581><U+2587><U+2581><U+2581><U+2585><U+2581>\\\\\n",
       "\t numeric                                                          & PriceDiff                                                        & 1                                                                & 856                                                              & 857                                                              & 0.15                                                             & 0.27                                                             & -0.67                                                            & 0.23                                                             & 0.64                                                             & <U+2581><U+2581><U+2582><U+2582><U+2583><U+2587><U+2585><U+2582>\\\\\n",
       "\t numeric                                                          & PriceMM                                                          & 1                                                                & 856                                                              & 857                                                              & 2.08                                                             & 0.14                                                             &  1.69                                                            & 2.09                                                             & 2.29                                                             & <U+2581><U+2581><U+2581><U+2583><U+2581><U+2587><U+2583><U+2582>\\\\\n",
       "\t numeric                                                          & SalePriceCH                                                      & 1                                                                & 856                                                              & 857                                                              & 1.81                                                             & 0.15                                                             &  1.39                                                            & 1.86                                                             & 2.09                                                             & <U+2581><U+2581><U+2581><U+2582><U+2586><U+2587><U+2585><U+2581>\\\\\n",
       "\t numeric                                                          & SalePriceMM                                                      & 3                                                                & 854                                                              & 857                                                              & 1.96                                                             & 0.25                                                             &  1.19                                                            & 2.09                                                             & 2.29                                                             & <U+2581><U+2581><U+2583><U+2583><U+2581><U+2582><U+2587><U+2586>\\\\\n",
       "\\end{tabular}\n"
      ],
      "text/markdown": [
       "\n",
       "type | variable | missing | complete | n | mean | sd | p0 | p50 | p100 | hist | \n",
       "|---|---|---|---|---|---|---|---|---|---|---|---|---|---|---|---|---|---|\n",
       "| factor                                                           | Purchase                                                         | 0                                                                | 857                                                              | 857                                                              | NA                                                               | NA                                                               | NA                                                               | NA                                                               | NA                                                               | NA                                                               | \n",
       "| factor                                                           | Store7                                                           | 0                                                                | 857                                                              | 857                                                              | NA                                                               | NA                                                               | NA                                                               | NA                                                               | NA                                                               | NA                                                               | \n",
       "| integer                                                          | SpecialCH                                                        | 2                                                                | 855                                                              | 857                                                              |   0.16                                                           |  0.36                                                            | 0                                                                | 0                                                                | 1                                                                | <U+2587><U+2581><U+2581><U+2581><U+2581><U+2581><U+2581><U+2582> | \n",
       "| integer                                                          | SpecialMM                                                        | 4                                                                | 853                                                              | 857                                                              |   0.15                                                           |  0.36                                                            | 0                                                                | 0                                                                | 1                                                                | <U+2587><U+2581><U+2581><U+2581><U+2581><U+2581><U+2581><U+2582> | \n",
       "| integer                                                          | STORE                                                            | 2                                                                | 855                                                              | 857                                                              |   1.66                                                           |  1.44                                                            | 0                                                                | 2                                                                | 4                                                                | <U+2587><U+2583><U+2581><U+2585><U+2581><U+2585><U+2581><U+2583> | \n",
       "| integer                                                          | StoreID                                                          | 1                                                                | 856                                                              | 857                                                              |   3.95                                                           |  2.29                                                            | 1                                                                | 3                                                                | 7                                                                | <U+2583><U+2585><U+2585><U+2583><U+2581><U+2581><U+2581><U+2587> | \n",
       "| integer                                                          | WeekofPurchase                                                   | 0                                                                | 857                                                              | 857                                                              | 254.17                                                           | 15.59                                                            | 227                                                              | 257                                                              | 278                                                              | <U+2586><U+2586><U+2585><U+2583><U+2586><U+2587><U+2586><U+2587> | \n",
       "| numeric                                                          | DiscCH                                                           | 2                                                                | 855                                                              | 857                                                              | 0.054                                                            | 0.12                                                             |  0                                                               | 0                                                                | 0.5                                                              | <U+2587><U+2581><U+2581><U+2581><U+2581><U+2581><U+2581><U+2581> | \n",
       "| numeric                                                          | DiscMM                                                           | 3                                                                | 854                                                              | 857                                                              | 0.12                                                             | 0.21                                                             |  0                                                               | 0                                                                | 0.8                                                              | <U+2587><U+2581><U+2581><U+2582><U+2581><U+2581><U+2581><U+2581> | \n",
       "| numeric                                                          | ListPriceDiff                                                    | 0                                                                | 857                                                              | 857                                                              | 0.22                                                             | 0.11                                                             |  0                                                               | 0.24                                                             | 0.44                                                             | <U+2582><U+2582><U+2582><U+2582><U+2587><U+2586><U+2581><U+2581> | \n",
       "| numeric                                                          | LoyalCH                                                          | 5                                                                | 852                                                              | 857                                                              | 0.56                                                             | 0.31                                                             |  1.1e-05                                                         | 0.6                                                              | 1                                                                | <U+2585><U+2582><U+2583><U+2583><U+2586><U+2583><U+2585><U+2587> | \n",
       "| numeric                                                          | PctDiscCH                                                        | 2                                                                | 855                                                              | 857                                                              | 0.028                                                            | 0.063                                                            |  0                                                               | 0                                                                | 0.25                                                             | <U+2587><U+2581><U+2581><U+2581><U+2581><U+2581><U+2581><U+2581> | \n",
       "| numeric                                                          | PctDiscMM                                                        | 2                                                                | 855                                                              | 857                                                              | 0.058                                                            | 0.099                                                            |  0                                                               | 0                                                                | 0.4                                                              | <U+2587><U+2581><U+2581><U+2582><U+2581><U+2581><U+2581><U+2581> | \n",
       "| numeric                                                          | PriceCH                                                          | 1                                                                | 856                                                              | 857                                                              | 1.87                                                             | 0.1                                                              |  1.69                                                            | 1.86                                                             | 2.09                                                             | <U+2582><U+2585><U+2581><U+2587><U+2581><U+2581><U+2585><U+2581> | \n",
       "| numeric                                                          | PriceDiff                                                        | 1                                                                | 856                                                              | 857                                                              | 0.15                                                             | 0.27                                                             | -0.67                                                            | 0.23                                                             | 0.64                                                             | <U+2581><U+2581><U+2582><U+2582><U+2583><U+2587><U+2585><U+2582> | \n",
       "| numeric                                                          | PriceMM                                                          | 1                                                                | 856                                                              | 857                                                              | 2.08                                                             | 0.14                                                             |  1.69                                                            | 2.09                                                             | 2.29                                                             | <U+2581><U+2581><U+2581><U+2583><U+2581><U+2587><U+2583><U+2582> | \n",
       "| numeric                                                          | SalePriceCH                                                      | 1                                                                | 856                                                              | 857                                                              | 1.81                                                             | 0.15                                                             |  1.39                                                            | 1.86                                                             | 2.09                                                             | <U+2581><U+2581><U+2581><U+2582><U+2586><U+2587><U+2585><U+2581> | \n",
       "| numeric                                                          | SalePriceMM                                                      | 3                                                                | 854                                                              | 857                                                              | 1.96                                                             | 0.25                                                             |  1.19                                                            | 2.09                                                             | 2.29                                                             | <U+2581><U+2581><U+2583><U+2583><U+2581><U+2582><U+2587><U+2586> | \n",
       "\n",
       "\n"
      ],
      "text/plain": [
       "   type    variable       missing complete n   mean   sd    p0       p50  p100\n",
       "1  factor  Purchase       0       857      857 NA     NA    NA       NA   NA  \n",
       "2  factor  Store7         0       857      857 NA     NA    NA       NA   NA  \n",
       "3  integer SpecialCH      2       855      857   0.16  0.36 0        0    1   \n",
       "4  integer SpecialMM      4       853      857   0.15  0.36 0        0    1   \n",
       "5  integer STORE          2       855      857   1.66  1.44 0        2    4   \n",
       "6  integer StoreID        1       856      857   3.95  2.29 1        3    7   \n",
       "7  integer WeekofPurchase 0       857      857 254.17 15.59 227      257  278 \n",
       "8  numeric DiscCH         2       855      857 0.054  0.12   0       0    0.5 \n",
       "9  numeric DiscMM         3       854      857 0.12   0.21   0       0    0.8 \n",
       "10 numeric ListPriceDiff  0       857      857 0.22   0.11   0       0.24 0.44\n",
       "11 numeric LoyalCH        5       852      857 0.56   0.31   1.1e-05 0.6  1   \n",
       "12 numeric PctDiscCH      2       855      857 0.028  0.063  0       0    0.25\n",
       "13 numeric PctDiscMM      2       855      857 0.058  0.099  0       0    0.4 \n",
       "14 numeric PriceCH        1       856      857 1.87   0.1    1.69    1.86 2.09\n",
       "15 numeric PriceDiff      1       856      857 0.15   0.27  -0.67    0.23 0.64\n",
       "16 numeric PriceMM        1       856      857 2.08   0.14   1.69    2.09 2.29\n",
       "17 numeric SalePriceCH    1       856      857 1.81   0.15   1.39    1.86 2.09\n",
       "18 numeric SalePriceMM    3       854      857 1.96   0.25   1.19    2.09 2.29\n",
       "   hist                                                            \n",
       "1  NA                                                              \n",
       "2  NA                                                              \n",
       "3  <U+2587><U+2581><U+2581><U+2581><U+2581><U+2581><U+2581><U+2582>\n",
       "4  <U+2587><U+2581><U+2581><U+2581><U+2581><U+2581><U+2581><U+2582>\n",
       "5  <U+2587><U+2583><U+2581><U+2585><U+2581><U+2585><U+2581><U+2583>\n",
       "6  <U+2583><U+2585><U+2585><U+2583><U+2581><U+2581><U+2581><U+2587>\n",
       "7  <U+2586><U+2586><U+2585><U+2583><U+2586><U+2587><U+2586><U+2587>\n",
       "8  <U+2587><U+2581><U+2581><U+2581><U+2581><U+2581><U+2581><U+2581>\n",
       "9  <U+2587><U+2581><U+2581><U+2582><U+2581><U+2581><U+2581><U+2581>\n",
       "10 <U+2582><U+2582><U+2582><U+2582><U+2587><U+2586><U+2581><U+2581>\n",
       "11 <U+2585><U+2582><U+2583><U+2583><U+2586><U+2583><U+2585><U+2587>\n",
       "12 <U+2587><U+2581><U+2581><U+2581><U+2581><U+2581><U+2581><U+2581>\n",
       "13 <U+2587><U+2581><U+2581><U+2582><U+2581><U+2581><U+2581><U+2581>\n",
       "14 <U+2582><U+2585><U+2581><U+2587><U+2581><U+2581><U+2585><U+2581>\n",
       "15 <U+2581><U+2581><U+2582><U+2582><U+2583><U+2587><U+2585><U+2582>\n",
       "16 <U+2581><U+2581><U+2581><U+2583><U+2581><U+2587><U+2583><U+2582>\n",
       "17 <U+2581><U+2581><U+2581><U+2582><U+2586><U+2587><U+2585><U+2581>\n",
       "18 <U+2581><U+2581><U+2583><U+2583><U+2581><U+2582><U+2587><U+2586>"
      ]
     },
     "metadata": {},
     "output_type": "display_data"
    }
   ],
   "source": [
    "library(skimr)\n",
    "skimmed <- skim_to_wide(trainData)\n",
    "skimmed[, c(1:5, 9:11, 13, 15:16)]"
   ]
  },
  {
   "cell_type": "markdown",
   "metadata": {},
   "source": [
    "There are NAs and missing values..."
   ]
  },
  {
   "cell_type": "code",
   "execution_count": 21,
   "metadata": {},
   "outputs": [
    {
     "data": {
      "text/plain": [
       "Created from 828 samples and 18 variables\n",
       "\n",
       "Pre-processing:\n",
       "  - centered (16)\n",
       "  - ignored (2)\n",
       "  - 5 nearest neighbor imputation (16)\n",
       "  - scaled (16)\n"
      ]
     },
     "metadata": {},
     "output_type": "display_data"
    }
   ],
   "source": [
    "# Create the knn imputation model on the training data\n",
    "preProcess_missingdata_model <- preProcess(trainData, method='knnImpute')\n",
    "preProcess_missingdata_model"
   ]
  },
  {
   "cell_type": "markdown",
   "metadata": {},
   "source": [
    "#Coolness"
   ]
  },
  {
   "cell_type": "code",
   "execution_count": 22,
   "metadata": {},
   "outputs": [
    {
     "data": {
      "text/html": [
       "FALSE"
      ],
      "text/latex": [
       "FALSE"
      ],
      "text/markdown": [
       "FALSE"
      ],
      "text/plain": [
       "[1] FALSE"
      ]
     },
     "metadata": {},
     "output_type": "display_data"
    }
   ],
   "source": [
    "# Use the imputation model to predict the values of missing data points\n",
    "library(RANN)  # required for knnInpute\n",
    "trainData <- predict(preProcess_missingdata_model, newdata = trainData)\n",
    "anyNA(trainData)"
   ]
  },
  {
   "cell_type": "code",
   "execution_count": 24,
   "metadata": {},
   "outputs": [],
   "source": [
    "# One-Hot Encoding\n",
    "# Creating dummy variables is converting a categorical variable to as many binary variables as here are categories.\n",
    "# dummy vars is a funciton in caret R, \n",
    "# y = bx + c means that y ~ x\n",
    "# ~ . means use other columns that are not otherwise used...\n",
    "dummies_model <- dummyVars(Purchase ~ ., data=trainData)"
   ]
  },
  {
   "cell_type": "code",
   "execution_count": 25,
   "metadata": {},
   "outputs": [
    {
     "name": "stderr",
     "output_type": "stream",
     "text": [
      "Warning message in model.frame.default(Terms, newdata, na.action = na.action, xlev = object$lvls):\n",
      "\"variable 'Purchase' is not a factor\""
     ]
    }
   ],
   "source": [
    "# Create the dummy variables using predict. The Y variable (Purchase) will not be present in trainData_mat.\n",
    "trainData_mat <- predict(dummies_model, newdata = trainData)"
   ]
  },
  {
   "cell_type": "code",
   "execution_count": 26,
   "metadata": {},
   "outputs": [],
   "source": [
    "# # Convert to dataframe\n",
    "trainData <- data.frame(trainData_mat)"
   ]
  },
  {
   "cell_type": "code",
   "execution_count": 27,
   "metadata": {},
   "outputs": [
    {
     "name": "stdout",
     "output_type": "stream",
     "text": [
      "'data.frame':\t857 obs. of  18 variables:\n",
      " $ WeekofPurchase: num  -1.1 -1.74 -1.68 -1.29 -1.04 ...\n",
      " $ StoreID       : num  -1.29 -1.29 1.33 1.33 1.33 ...\n",
      " $ PriceCH       : num  -1.14 -1.73 -1.73 -1.14 -1.14 ...\n",
      " $ PriceMM       : num  -0.688 -2.898 -2.898 -0.688 -0.688 ...\n",
      " $ DiscCH        : num  -0.452 -0.452 -0.452 -0.452 -0.452 ...\n",
      " $ DiscMM        : num  -0.582 -0.582 -0.582 1.341 1.341 ...\n",
      " $ SpecialCH     : num  -0.429 -0.429 -0.429 2.329 -0.429 ...\n",
      " $ SpecialMM     : num  -0.42 -0.42 -0.42 -0.42 -0.42 ...\n",
      " $ LoyalCH       : num  -0.205 -0.525 1.256 1.324 1.35 ...\n",
      " $ SalePriceMM   : num  0.113 -1.101 -1.101 -1.506 -1.506 ...\n",
      " $ SalePriceCH   : num  -0.431 -0.844 -0.844 -0.431 -0.431 ...\n",
      " $ PriceDiff     : num  0.341 -0.563 -0.563 -1.165 -1.165 ...\n",
      " $ Store7.No     : num  1 1 0 0 0 0 0 0 0 1 ...\n",
      " $ Store7.Yes    : num  0 0 1 1 1 1 1 1 1 0 ...\n",
      " $ PctDiscMM     : num  -0.588 -0.588 -0.588 1.447 1.447 ...\n",
      " $ PctDiscCH     : num  -0.448 -0.448 -0.448 -0.448 -0.448 ...\n",
      " $ ListPriceDiff : num  0.211 -1.988 -1.988 0.211 0.211 ...\n",
      " $ STORE         : num  -0.457 -0.457 -1.15 -1.15 -1.15 ...\n"
     ]
    }
   ],
   "source": [
    "# # See the structure of the new dataset\n",
    "str(trainData)"
   ]
  },
  {
   "cell_type": "code",
   "execution_count": 28,
   "metadata": {},
   "outputs": [],
   "source": [
    "preProcess_range_model <- preProcess(trainData, method='range')\n",
    "trainData <- predict(preProcess_range_model, newdata = trainData)"
   ]
  },
  {
   "cell_type": "markdown",
   "metadata": {},
   "source": [
    "### Other types of preprocessing available in R for the data ...\n",
    "\n",
    "    range: Normalize values so it ranges between 0 and 1\n",
    "    center: Subtract Mean\n",
    "    scale: Divide by standard deviation\n",
    "    BoxCox: Remove skewness leading to normality. Values must be > 0\n",
    "    YeoJohnson: Like BoxCox, but works for negative values.\n",
    "    expoTrans: Exponential transformation, works for negative values.\n",
    "    pca: Replace with principal components\n",
    "    ica: Replace with independent components\n",
    "    spatialSign: Project the data to a unit circle"
   ]
  },
  {
   "cell_type": "code",
   "execution_count": 29,
   "metadata": {},
   "outputs": [],
   "source": [
    "# Append the Y variable\n",
    "trainData$Purchase <- y"
   ]
  },
  {
   "cell_type": "code",
   "execution_count": 31,
   "metadata": {},
   "outputs": [
    {
     "data": {
      "text/html": [
       "<table>\n",
       "<thead><tr><th></th><th scope=col>WeekofPurchase</th><th scope=col>StoreID</th><th scope=col>PriceCH</th><th scope=col>PriceMM</th><th scope=col>DiscCH</th><th scope=col>DiscMM</th><th scope=col>SpecialCH</th><th scope=col>SpecialMM</th><th scope=col>LoyalCH</th><th scope=col>SalePriceMM</th></tr></thead>\n",
       "<tbody>\n",
       "\t<tr><th scope=row>min</th><td>0</td><td>0</td><td>0</td><td>0</td><td>0</td><td>0</td><td>0</td><td>0</td><td>0</td><td>0</td></tr>\n",
       "\t<tr><th scope=row>max</th><td>1</td><td>1</td><td>1</td><td>1</td><td>1</td><td>1</td><td>1</td><td>1</td><td>1</td><td>1</td></tr>\n",
       "</tbody>\n",
       "</table>\n"
      ],
      "text/latex": [
       "\\begin{tabular}{r|llllllllll}\n",
       "  & WeekofPurchase & StoreID & PriceCH & PriceMM & DiscCH & DiscMM & SpecialCH & SpecialMM & LoyalCH & SalePriceMM\\\\\n",
       "\\hline\n",
       "\tmin & 0 & 0 & 0 & 0 & 0 & 0 & 0 & 0 & 0 & 0\\\\\n",
       "\tmax & 1 & 1 & 1 & 1 & 1 & 1 & 1 & 1 & 1 & 1\\\\\n",
       "\\end{tabular}\n"
      ],
      "text/markdown": [
       "\n",
       "| <!--/--> | WeekofPurchase | StoreID | PriceCH | PriceMM | DiscCH | DiscMM | SpecialCH | SpecialMM | LoyalCH | SalePriceMM | \n",
       "|---|---|\n",
       "| min | 0 | 0 | 0 | 0 | 0 | 0 | 0 | 0 | 0 | 0 | \n",
       "| max | 1 | 1 | 1 | 1 | 1 | 1 | 1 | 1 | 1 | 1 | \n",
       "\n",
       "\n"
      ],
      "text/plain": [
       "    WeekofPurchase StoreID PriceCH PriceMM DiscCH DiscMM SpecialCH SpecialMM\n",
       "min 0              0       0       0       0      0      0         0        \n",
       "max 1              1       1       1       1      1      1         1        \n",
       "    LoyalCH SalePriceMM\n",
       "min 0       0          \n",
       "max 1       1          "
      ]
     },
     "metadata": {},
     "output_type": "display_data"
    }
   ],
   "source": [
    "apply(trainData[, 1:10], 2, FUN=function(x){c('min'=min(x), 'max'=max(x))})"
   ]
  },
  {
   "cell_type": "markdown",
   "metadata": {},
   "source": [
    "Thus all the predictors now range between 0 and 1."
   ]
  },
  {
   "cell_type": "code",
   "execution_count": 33,
   "metadata": {},
   "outputs": [
    {
     "data": {},
     "metadata": {},
     "output_type": "display_data"
    },
    {
     "data": {
      "image/png": "[encoded data removed]",
      "text/plain": [
       "plot without title"
      ]
     },
     "metadata": {},
     "output_type": "display_data"
    }
   ],
   "source": [
    "featurePlot(x = trainData[, 1:18], \n",
    "            y = trainData$Purchase, \n",
    "            plot = \"box\",\n",
    "            strip=strip.custom(par.strip.text=list(cex=.7)),\n",
    "            scales = list(x = list(relation=\"free\"), \n",
    "                          y = list(relation=\"free\")))"
   ]
  },
  {
   "cell_type": "markdown",
   "metadata": {},
   "source": [
    "LoyalCH has startk differences in the placement of the mean and the box...  \n",
    "eyeballing it indicates that it is a significant factor to the OP"
   ]
  },
  {
   "cell_type": "code",
   "execution_count": 34,
   "metadata": {},
   "outputs": [
    {
     "data": {},
     "metadata": {},
     "output_type": "display_data"
    },
    {
     "data": {
      "image/png": "[encoded data removed]",
      "text/plain": [
       "plot without title"
      ]
     },
     "metadata": {},
     "output_type": "display_data"
    }
   ],
   "source": [
    "featurePlot(x = trainData[, 1:18], \n",
    "            y = trainData$Purchase, \n",
    "            plot = \"density\",\n",
    "            strip=strip.custom(par.strip.text=list(cex=.7)),\n",
    "            scales = list(x = list(relation=\"free\"), \n",
    "                          y = list(relation=\"free\")))"
   ]
  },
  {
   "cell_type": "markdown",
   "metadata": {},
   "source": [
    "Check for stark difference both in terms of the   \n",
    "height (kurtosis) and  How much more peaky it is relative to a NDistributionm   \n",
    "placement (skewness): Where the mean is relative to the mean of a NDistribution"
   ]
  },
  {
   "cell_type": "markdown",
   "metadata": {},
   "source": [
    "Eyeballing the plots we can see: week of purchase. loyal ch, and store no 7 yes/no are imp  \n",
    "we can only determine what is important.. this way..   \n",
    "we cant say what isnt important.. this way  "
   ]
  },
  {
   "cell_type": "markdown",
   "metadata": {},
   "source": [
    "Most machine learning algorithms are able to determine what features are important to predict the Y.   \n",
    "In some scenarios, need to be careful to include only variables that may be significantly important\n",
    "and makes strong business sense.  \n",
    "in banking, economics and financial institutions"
   ]
  },
  {
   "cell_type": "markdown",
   "metadata": {},
   "source": [
    "Other use cases for these kind of feature extraction...  \n",
    "exploratory analysis to determine important predictors and report it as a metric in your analytics dashboard. "
   ]
  },
  {
   "cell_type": "markdown",
   "metadata": {},
   "source": [
    "Recursive feature elimination (RFE)"
   ]
  },
  {
   "cell_type": "code",
   "execution_count": 37,
   "metadata": {},
   "outputs": [
    {
     "name": "stderr",
     "output_type": "stream",
     "text": [
      "Loading required package: randomForest\n",
      "randomForest 4.6-12\n",
      "Type rfNews() to see new features/changes/bug fixes.\n",
      "\n",
      "Attaching package: 'randomForest'\n",
      "\n",
      "The following object is masked from 'package:ggplot2':\n",
      "\n",
      "    margin\n",
      "\n"
     ]
    },
    {
     "data": {
      "text/plain": [
       "\n",
       "Recursive feature selection\n",
       "\n",
       "Outer resampling method: Cross-Validated (10 fold, repeated 5 times) \n",
       "\n",
       "Resampling performance over subset size:\n",
       "\n",
       " Variables Accuracy  Kappa AccuracySD KappaSD Selected\n",
       "         1   0.7433 0.4554    0.04107 0.08692         \n",
       "         2   0.8143 0.6063    0.04037 0.08559         \n",
       "         3   0.8187 0.6147    0.04194 0.08896        *\n",
       "         4   0.8058 0.5904    0.04253 0.08750         \n",
       "         5   0.7988 0.5743    0.04379 0.09258         \n",
       "        10   0.8024 0.5810    0.04464 0.09557         \n",
       "        15   0.8070 0.5879    0.04215 0.09079         \n",
       "        18   0.8065 0.5879    0.03882 0.08297         \n",
       "\n",
       "The top 3 variables (out of 3):\n",
       "   LoyalCH, PriceDiff, StoreID\n"
      ]
     },
     "metadata": {},
     "output_type": "display_data"
    }
   ],
   "source": [
    "set.seed(100)\n",
    "options(warn=-1)\n",
    "\n",
    "subsets <- c(1:5, 10, 15, 18)\n",
    "\n",
    "ctrl <- rfeControl(functions = rfFuncs,\n",
    "                   method = \"repeatedcv\",\n",
    "                   repeats = 5,\n",
    "                   verbose = FALSE)\n",
    "\n",
    "lmProfile <- rfe(x=trainData[, 1:18], y=trainData$Purchase,\n",
    "                 sizes = subsets,\n",
    "                 rfeControl = ctrl)\n",
    "\n",
    "lmProfile"
   ]
  },
  {
   "cell_type": "markdown",
   "metadata": {},
   "source": [
    "sizes determines what all model sizes (the number of most important features) the rfe should consider. In above case, it iterates models of size 1 to 5, 10, 15 and 18  \n",
    "subsets variable."
   ]
  },
  {
   "cell_type": "markdown",
   "metadata": {},
   "source": [
    "ctrl object houses the rfectrl parameter/object   \n",
    "repeatedcv repeated cross validaiton k means kind   \n",
    "done 5 times.. "
   ]
  },
  {
   "cell_type": "markdown",
   "metadata": {},
   "source": [
    "Kappa here is cohens kappa (verify) a measure of inter rater agreement  \n",
    "Rfe indicates that a model of 3 variables is enough to predict the op  \n",
    "It doesn't mean that one should neglect the other variables especially when there is evidence that there is information contained in rest of the variables to explain the relationship between x and y  \n",
    "And furhter this is a small data set which doesnt give several of the smaller variables enough clout to weigh in "
   ]
  },
  {
   "cell_type": "markdown",
   "metadata": {},
   "source": [
    "The best part of caret...  \n",
    "All models under one umbrella ...\n",
    "No need of running pillar to post for the updates unde individual algorithms..   \n",
    "Man that s a sore point in python :P"
   ]
  },
  {
   "cell_type": "code",
   "execution_count": 38,
   "metadata": {},
   "outputs": [
    {
     "data": {
      "text/html": [
       "<span style=white-space:pre-wrap>'ada,  AdaBag,  AdaBoost.M1,  adaboost,  amdai,  ANFIS,  avNNet,  awnb,  awtan,  bag,  bagEarth,  bagEarthGCV,  bagFDA,  bagFDAGCV,  bam,  bartMachine,  bayesglm,  binda,  blackboost,  blasso,  blassoAveraged,  bridge,  brnn,  BstLm,  bstSm,  bstTree,  C5.0,  C5.0Cost,  C5.0Rules,  C5.0Tree,  cforest,  chaid,  CSimca,  ctree,  ctree2,  cubist,  dda,  deepboost,  DENFIS,  dnn,  dwdLinear,  dwdPoly,  dwdRadial,  earth,  elm,  enet,  evtree,  extraTrees,  fda,  FH.GBML,  FIR.DM,  foba,  FRBCS.CHI,  FRBCS.W,  FS.HGD,  gam,  gamboost,  gamLoess,  gamSpline,  gaussprLinear,  gaussprPoly,  gaussprRadial,  gbm_h2o,  gbm,  gcvEarth,  GFS.FR.MOGUL,  GFS.GCCL,  GFS.LT.RS,  GFS.THRIFT,  glm.nb,  glm,  glmboost,  glmnet_h2o,  glmnet,  glmStepAIC,  gpls,  hda,  hdda,  hdrda,  HYFIS,  icr,  J48,  JRip,  kernelpls,  kknn,  knn,  krlsPoly,  krlsRadial,  lars,  lars2,  lasso,  lda,  lda2,  leapBackward,  leapForward,  leapSeq,  Linda,  lm,  lmStepAIC,  LMT,  loclda,  logicBag,  LogitBoost,  logreg,  lssvmLinear,  lssvmPoly,  lssvmRadial,  lvq,  M5,  M5Rules,  manb,  mda,  Mlda,  mlp,  mlpML,  mlpSGD,  mlpWeightDecay,  mlpWeightDecayML,  monmlp,  msaenet,  multinom,  naive_bayes,  nb,  nbDiscrete,  nbSearch,  neuralnet,  nnet,  nnls,  nodeHarvest,  oblique.tree,  OneR,  ordinalNet,  ORFlog,  ORFpls,  ORFridge,  ORFsvm,  ownn,  pam,  parRF,  PART,  partDSA,  pcaNNet,  pcr,  pda,  pda2,  penalized,  PenalizedLDA,  plr,  pls,  plsRglm,  polr,  ppr,  PRIM,  protoclass,  pythonKnnReg,  qda,  QdaCov,  qrf,  qrnn,  randomGLM,  ranger,  rbf,  rbfDDA,  Rborist,  rda,  regLogistic,  relaxo,  rf,  rFerns,  RFlda,  rfRules,  ridge,  rlda,  rlm,  rmda,  rocc,  rotationForest,  rotationForestCp,  rpart,  rpart1SE,  rpart2,  rpartCost,  rpartScore,  rqlasso,  rqnc,  RRF,  RRFglobal,  rrlda,  RSimca,  rvmLinear,  rvmPoly,  rvmRadial,  SBC,  sda,  sdwd,  simpls,  SLAVE,  slda,  smda,  snn,  sparseLDA,  spikeslab,  spls,  stepLDA,  stepQDA,  superpc,  svmBoundrangeString,  svmExpoString,  svmLinear,  svmLinear2,  svmLinear3,  svmLinearWeights,  svmLinearWeights2,  svmPoly,  svmRadial,  svmRadialCost,  svmRadialSigma,  svmRadialWeights,  svmSpectrumString,  tan,  tanSearch,  treebag,  vbmpRadial,  vglmAdjCat,  vglmContRatio,  vglmCumulative,  widekernelpls,  WM,  wsrf,  xgbLinear,  xgbTree,  xyf'</span>"
      ],
      "text/latex": [
       "'ada,  AdaBag,  AdaBoost.M1,  adaboost,  amdai,  ANFIS,  avNNet,  awnb,  awtan,  bag,  bagEarth,  bagEarthGCV,  bagFDA,  bagFDAGCV,  bam,  bartMachine,  bayesglm,  binda,  blackboost,  blasso,  blassoAveraged,  bridge,  brnn,  BstLm,  bstSm,  bstTree,  C5.0,  C5.0Cost,  C5.0Rules,  C5.0Tree,  cforest,  chaid,  CSimca,  ctree,  ctree2,  cubist,  dda,  deepboost,  DENFIS,  dnn,  dwdLinear,  dwdPoly,  dwdRadial,  earth,  elm,  enet,  evtree,  extraTrees,  fda,  FH.GBML,  FIR.DM,  foba,  FRBCS.CHI,  FRBCS.W,  FS.HGD,  gam,  gamboost,  gamLoess,  gamSpline,  gaussprLinear,  gaussprPoly,  gaussprRadial,  gbm\\_h2o,  gbm,  gcvEarth,  GFS.FR.MOGUL,  GFS.GCCL,  GFS.LT.RS,  GFS.THRIFT,  glm.nb,  glm,  glmboost,  glmnet\\_h2o,  glmnet,  glmStepAIC,  gpls,  hda,  hdda,  hdrda,  HYFIS,  icr,  J48,  JRip,  kernelpls,  kknn,  knn,  krlsPoly,  krlsRadial,  lars,  lars2,  lasso,  lda,  lda2,  leapBackward,  leapForward,  leapSeq,  Linda,  lm,  lmStepAIC,  LMT,  loclda,  logicBag,  LogitBoost,  logreg,  lssvmLinear,  lssvmPoly,  lssvmRadial,  lvq,  M5,  M5Rules,  manb,  mda,  Mlda,  mlp,  mlpML,  mlpSGD,  mlpWeightDecay,  mlpWeightDecayML,  monmlp,  msaenet,  multinom,  naive\\_bayes,  nb,  nbDiscrete,  nbSearch,  neuralnet,  nnet,  nnls,  nodeHarvest,  oblique.tree,  OneR,  ordinalNet,  ORFlog,  ORFpls,  ORFridge,  ORFsvm,  ownn,  pam,  parRF,  PART,  partDSA,  pcaNNet,  pcr,  pda,  pda2,  penalized,  PenalizedLDA,  plr,  pls,  plsRglm,  polr,  ppr,  PRIM,  protoclass,  pythonKnnReg,  qda,  QdaCov,  qrf,  qrnn,  randomGLM,  ranger,  rbf,  rbfDDA,  Rborist,  rda,  regLogistic,  relaxo,  rf,  rFerns,  RFlda,  rfRules,  ridge,  rlda,  rlm,  rmda,  rocc,  rotationForest,  rotationForestCp,  rpart,  rpart1SE,  rpart2,  rpartCost,  rpartScore,  rqlasso,  rqnc,  RRF,  RRFglobal,  rrlda,  RSimca,  rvmLinear,  rvmPoly,  rvmRadial,  SBC,  sda,  sdwd,  simpls,  SLAVE,  slda,  smda,  snn,  sparseLDA,  spikeslab,  spls,  stepLDA,  stepQDA,  superpc,  svmBoundrangeString,  svmExpoString,  svmLinear,  svmLinear2,  svmLinear3,  svmLinearWeights,  svmLinearWeights2,  svmPoly,  svmRadial,  svmRadialCost,  svmRadialSigma,  svmRadialWeights,  svmSpectrumString,  tan,  tanSearch,  treebag,  vbmpRadial,  vglmAdjCat,  vglmContRatio,  vglmCumulative,  widekernelpls,  WM,  wsrf,  xgbLinear,  xgbTree,  xyf'"
      ],
      "text/markdown": [
       "<span style=white-space:pre-wrap>'ada,  AdaBag,  AdaBoost.M1,  adaboost,  amdai,  ANFIS,  avNNet,  awnb,  awtan,  bag,  bagEarth,  bagEarthGCV,  bagFDA,  bagFDAGCV,  bam,  bartMachine,  bayesglm,  binda,  blackboost,  blasso,  blassoAveraged,  bridge,  brnn,  BstLm,  bstSm,  bstTree,  C5.0,  C5.0Cost,  C5.0Rules,  C5.0Tree,  cforest,  chaid,  CSimca,  ctree,  ctree2,  cubist,  dda,  deepboost,  DENFIS,  dnn,  dwdLinear,  dwdPoly,  dwdRadial,  earth,  elm,  enet,  evtree,  extraTrees,  fda,  FH.GBML,  FIR.DM,  foba,  FRBCS.CHI,  FRBCS.W,  FS.HGD,  gam,  gamboost,  gamLoess,  gamSpline,  gaussprLinear,  gaussprPoly,  gaussprRadial,  gbm_h2o,  gbm,  gcvEarth,  GFS.FR.MOGUL,  GFS.GCCL,  GFS.LT.RS,  GFS.THRIFT,  glm.nb,  glm,  glmboost,  glmnet_h2o,  glmnet,  glmStepAIC,  gpls,  hda,  hdda,  hdrda,  HYFIS,  icr,  J48,  JRip,  kernelpls,  kknn,  knn,  krlsPoly,  krlsRadial,  lars,  lars2,  lasso,  lda,  lda2,  leapBackward,  leapForward,  leapSeq,  Linda,  lm,  lmStepAIC,  LMT,  loclda,  logicBag,  LogitBoost,  logreg,  lssvmLinear,  lssvmPoly,  lssvmRadial,  lvq,  M5,  M5Rules,  manb,  mda,  Mlda,  mlp,  mlpML,  mlpSGD,  mlpWeightDecay,  mlpWeightDecayML,  monmlp,  msaenet,  multinom,  naive_bayes,  nb,  nbDiscrete,  nbSearch,  neuralnet,  nnet,  nnls,  nodeHarvest,  oblique.tree,  OneR,  ordinalNet,  ORFlog,  ORFpls,  ORFridge,  ORFsvm,  ownn,  pam,  parRF,  PART,  partDSA,  pcaNNet,  pcr,  pda,  pda2,  penalized,  PenalizedLDA,  plr,  pls,  plsRglm,  polr,  ppr,  PRIM,  protoclass,  pythonKnnReg,  qda,  QdaCov,  qrf,  qrnn,  randomGLM,  ranger,  rbf,  rbfDDA,  Rborist,  rda,  regLogistic,  relaxo,  rf,  rFerns,  RFlda,  rfRules,  ridge,  rlda,  rlm,  rmda,  rocc,  rotationForest,  rotationForestCp,  rpart,  rpart1SE,  rpart2,  rpartCost,  rpartScore,  rqlasso,  rqnc,  RRF,  RRFglobal,  rrlda,  RSimca,  rvmLinear,  rvmPoly,  rvmRadial,  SBC,  sda,  sdwd,  simpls,  SLAVE,  slda,  smda,  snn,  sparseLDA,  spikeslab,  spls,  stepLDA,  stepQDA,  superpc,  svmBoundrangeString,  svmExpoString,  svmLinear,  svmLinear2,  svmLinear3,  svmLinearWeights,  svmLinearWeights2,  svmPoly,  svmRadial,  svmRadialCost,  svmRadialSigma,  svmRadialWeights,  svmSpectrumString,  tan,  tanSearch,  treebag,  vbmpRadial,  vglmAdjCat,  vglmContRatio,  vglmCumulative,  widekernelpls,  WM,  wsrf,  xgbLinear,  xgbTree,  xyf'</span>"
      ],
      "text/plain": [
       "[1] \"ada,  AdaBag,  AdaBoost.M1,  adaboost,  amdai,  ANFIS,  avNNet,  awnb,  awtan,  bag,  bagEarth,  bagEarthGCV,  bagFDA,  bagFDAGCV,  bam,  bartMachine,  bayesglm,  binda,  blackboost,  blasso,  blassoAveraged,  bridge,  brnn,  BstLm,  bstSm,  bstTree,  C5.0,  C5.0Cost,  C5.0Rules,  C5.0Tree,  cforest,  chaid,  CSimca,  ctree,  ctree2,  cubist,  dda,  deepboost,  DENFIS,  dnn,  dwdLinear,  dwdPoly,  dwdRadial,  earth,  elm,  enet,  evtree,  extraTrees,  fda,  FH.GBML,  FIR.DM,  foba,  FRBCS.CHI,  FRBCS.W,  FS.HGD,  gam,  gamboost,  gamLoess,  gamSpline,  gaussprLinear,  gaussprPoly,  gaussprRadial,  gbm_h2o,  gbm,  gcvEarth,  GFS.FR.MOGUL,  GFS.GCCL,  GFS.LT.RS,  GFS.THRIFT,  glm.nb,  glm,  glmboost,  glmnet_h2o,  glmnet,  glmStepAIC,  gpls,  hda,  hdda,  hdrda,  HYFIS,  icr,  J48,  JRip,  kernelpls,  kknn,  knn,  krlsPoly,  krlsRadial,  lars,  lars2,  lasso,  lda,  lda2,  leapBackward,  leapForward,  leapSeq,  Linda,  lm,  lmStepAIC,  LMT,  loclda,  logicBag,  LogitBoost,  logreg,  lssvmLinear,  lssvmPoly,  lssvmRadial,  lvq,  M5,  M5Rules,  manb,  mda,  Mlda,  mlp,  mlpML,  mlpSGD,  mlpWeightDecay,  mlpWeightDecayML,  monmlp,  msaenet,  multinom,  naive_bayes,  nb,  nbDiscrete,  nbSearch,  neuralnet,  nnet,  nnls,  nodeHarvest,  oblique.tree,  OneR,  ordinalNet,  ORFlog,  ORFpls,  ORFridge,  ORFsvm,  ownn,  pam,  parRF,  PART,  partDSA,  pcaNNet,  pcr,  pda,  pda2,  penalized,  PenalizedLDA,  plr,  pls,  plsRglm,  polr,  ppr,  PRIM,  protoclass,  pythonKnnReg,  qda,  QdaCov,  qrf,  qrnn,  randomGLM,  ranger,  rbf,  rbfDDA,  Rborist,  rda,  regLogistic,  relaxo,  rf,  rFerns,  RFlda,  rfRules,  ridge,  rlda,  rlm,  rmda,  rocc,  rotationForest,  rotationForestCp,  rpart,  rpart1SE,  rpart2,  rpartCost,  rpartScore,  rqlasso,  rqnc,  RRF,  RRFglobal,  rrlda,  RSimca,  rvmLinear,  rvmPoly,  rvmRadial,  SBC,  sda,  sdwd,  simpls,  SLAVE,  slda,  smda,  snn,  sparseLDA,  spikeslab,  spls,  stepLDA,  stepQDA,  superpc,  svmBoundrangeString,  svmExpoString,  svmLinear,  svmLinear2,  svmLinear3,  svmLinearWeights,  svmLinearWeights2,  svmPoly,  svmRadial,  svmRadialCost,  svmRadialSigma,  svmRadialWeights,  svmSpectrumString,  tan,  tanSearch,  treebag,  vbmpRadial,  vglmAdjCat,  vglmContRatio,  vglmCumulative,  widekernelpls,  WM,  wsrf,  xgbLinear,  xgbTree,  xyf\""
      ]
     },
     "metadata": {},
     "output_type": "display_data"
    }
   ],
   "source": [
    "# See available algorithms in caret\n",
    "modelnames <- paste(names(getModelInfo()), collapse=',  ')\n",
    "modelnames"
   ]
  },
  {
   "cell_type": "code",
   "execution_count": 41,
   "metadata": {},
   "outputs": [
    {
     "data": {
      "text/html": [
       "<table>\n",
       "<thead><tr><th scope=col>model</th><th scope=col>parameter</th><th scope=col>label</th><th scope=col>forReg</th><th scope=col>forClass</th><th scope=col>probModel</th></tr></thead>\n",
       "<tbody>\n",
       "\t<tr><td>AdaBag        </td><td>mfinal        </td><td>#Trees        </td><td>FALSE         </td><td>TRUE          </td><td>TRUE          </td></tr>\n",
       "\t<tr><td>AdaBag        </td><td>maxdepth      </td><td>Max Tree Depth</td><td>FALSE         </td><td>TRUE          </td><td>TRUE          </td></tr>\n",
       "</tbody>\n",
       "</table>\n"
      ],
      "text/latex": [
       "\\begin{tabular}{r|llllll}\n",
       " model & parameter & label & forReg & forClass & probModel\\\\\n",
       "\\hline\n",
       "\t AdaBag           & mfinal           & \\#Trees         & FALSE            & TRUE             & TRUE            \\\\\n",
       "\t AdaBag         & maxdepth       & Max Tree Depth & FALSE          & TRUE           & TRUE          \\\\\n",
       "\\end{tabular}\n"
      ],
      "text/markdown": [
       "\n",
       "model | parameter | label | forReg | forClass | probModel | \n",
       "|---|---|\n",
       "| AdaBag         | mfinal         | #Trees         | FALSE          | TRUE           | TRUE           | \n",
       "| AdaBag         | maxdepth       | Max Tree Depth | FALSE          | TRUE           | TRUE           | \n",
       "\n",
       "\n"
      ],
      "text/plain": [
       "  model  parameter label          forReg forClass probModel\n",
       "1 AdaBag mfinal    #Trees         FALSE  TRUE     TRUE     \n",
       "2 AdaBag maxdepth  Max Tree Depth FALSE  TRUE     TRUE     "
      ]
     },
     "metadata": {},
     "output_type": "display_data"
    }
   ],
   "source": [
    "modelLookup('AdaBag')"
   ]
  },
  {
   "cell_type": "markdown",
   "metadata": {},
   "source": [
    "use the above to know more details like the hyperparameters and if it can be used of regression or classification problem  \n",
    "reg  \n",
    "class\n",
    "probablistic modelling  "
   ]
  },
  {
   "cell_type": "code",
   "execution_count": 43,
   "metadata": {},
   "outputs": [
    {
     "name": "stderr",
     "output_type": "stream",
     "text": [
      "Loading required package: earth\n",
      "Loading required package: plotmo\n",
      "Loading required package: plotrix\n",
      "Loading required package: TeachingDemos\n"
     ]
    }
   ],
   "source": [
    "# Set the seed for reproducibility\n",
    "set.seed(100)\n",
    "\n",
    "# Train the model using randomForest and predict on the training data itself.\n",
    "model_mars = train(Purchase ~ ., data=trainData, method='earth')\n",
    "fitted <- predict(model_mars)"
   ]
  },
  {
   "cell_type": "markdown",
   "metadata": {},
   "source": [
    "### the train() above is different from using the algorithm’s function directly"
   ]
  },
  {
   "cell_type": "markdown",
   "metadata": {},
   "source": [
    "besides building the model train() does multiple other things like:\n",
    "\n",
    "    Cross validating the model\n",
    "    Tune the hyper parameters for optimal model performance\n",
    "    Choose the optimal model based on a given evaluation metric\n",
    "    Preprocess the predictors (what we did so far using preProcess())\n"
   ]
  },
  {
   "cell_type": "code",
   "execution_count": 45,
   "metadata": {},
   "outputs": [
    {
     "data": {
      "text/plain": [
       "Multivariate Adaptive Regression Spline \n",
       "\n",
       "857 samples\n",
       " 18 predictor\n",
       "  2 classes: 'CH', 'MM' \n",
       "\n",
       "No pre-processing\n",
       "Resampling: Bootstrapped (25 reps) \n",
       "Summary of sample sizes: 857, 857, 857, 857, 857, 857, ... \n",
       "Resampling results across tuning parameters:\n",
       "\n",
       "  nprune  Accuracy   Kappa    \n",
       "   2      0.8020644  0.5739858\n",
       "  10      0.8168887  0.6105639\n",
       "  19      0.8115014  0.5994026\n",
       "\n",
       "Tuning parameter 'degree' was held constant at a value of 1\n",
       "Accuracy was used to select the optimal model using  the largest value.\n",
       "The final values used for the model were nprune = 10 and degree = 1."
      ]
     },
     "metadata": {},
     "output_type": "display_data"
    }
   ],
   "source": [
    "model_mars\n",
    "# Multivariate Adaptive Regression Spline :: mars renamed to earth.. IP/Trademark issues with the candy bar..? :P"
   ]
  },
  {
   "cell_type": "markdown",
   "metadata": {},
   "source": [
    "model despcription shows   \n",
    "Accuracy and Kappa for various combinations of the hyper parameters –   \n",
    "interaction.depth and n.trees.   \n",
    "And it says ‘Resampling: Bootstrapped (25 reps)’ with a summary of sample sizes"
   ]
  },
  {
   "cell_type": "markdown",
   "metadata": {},
   "source": [
    "Find out how the plot works out.."
   ]
  },
  {
   "cell_type": "code",
   "execution_count": 46,
   "metadata": {},
   "outputs": [
    {
     "data": {},
     "metadata": {},
     "output_type": "display_data"
    },
    {
     "data": {
      "image/png": "[encoded data removed]",
      "text/plain": [
       "plot without title"
      ]
     },
     "metadata": {},
     "output_type": "display_data"
    }
   ],
   "source": [
    "plot(model_mars, main=\"Model Accuracies with MARS\")"
   ]
  },
  {
   "cell_type": "code",
   "execution_count": 47,
   "metadata": {},
   "outputs": [
    {
     "data": {},
     "metadata": {},
     "output_type": "display_data"
    },
    {
     "data": {
      "image/png": "[encoded data removed]",
      "text/plain": [
       "plot without title"
      ]
     },
     "metadata": {},
     "output_type": "display_data"
    }
   ],
   "source": [
    "varimp_mars <- varImp(model_mars)\n",
    "plot(varimp_mars, main=\"Variable Importance with MARS\")"
   ]
  },
  {
   "cell_type": "markdown",
   "metadata": {},
   "source": [
    "Nice visual presentation :)"
   ]
  },
  {
   "cell_type": "markdown",
   "metadata": {},
   "source": [
    "in order to use the model to predict on new data, \n",
    "the data has to be preprocessed and transformed just the way we did on the training data"
   ]
  },
  {
   "cell_type": "markdown",
   "metadata": {},
   "source": [
    "Missing Value imputation –> One-Hot Encoding –> Range Normalization"
   ]
  },
  {
   "cell_type": "markdown",
   "metadata": {},
   "source": [
    "testData through these models in the same sequence:\n",
    "preProcess_missingdata_model –> dummies_model –> preProcess_range_model"
   ]
  },
  {
   "cell_type": "code",
   "execution_count": 49,
   "metadata": {},
   "outputs": [
    {
     "data": {
      "text/html": [
       "<table>\n",
       "<thead><tr><th></th><th scope=col>WeekofPurchase</th><th scope=col>StoreID</th><th scope=col>PriceCH</th><th scope=col>PriceMM</th><th scope=col>DiscCH</th><th scope=col>DiscMM</th><th scope=col>SpecialCH</th><th scope=col>SpecialMM</th><th scope=col>LoyalCH</th><th scope=col>SalePriceMM</th></tr></thead>\n",
       "<tbody>\n",
       "\t<tr><th scope=row>2</th><td>0.23529412</td><td>0         </td><td>0.150     </td><td>0.5000000 </td><td>0.00      </td><td>0.375     </td><td>0         </td><td>1         </td><td>0.6000352 </td><td>0.4545455 </td></tr>\n",
       "\t<tr><th scope=row>3</th><td>0.35294118</td><td>0         </td><td>0.425     </td><td>0.6666667 </td><td>0.34      </td><td>0.000     </td><td>0         </td><td>0         </td><td>0.6800414 </td><td>0.8181818 </td></tr>\n",
       "\t<tr><th scope=row>6</th><td>0.05882353</td><td>1         </td><td>0.000     </td><td>0.5000000 </td><td>0.00      </td><td>0.000     </td><td>0         </td><td>1         </td><td>0.9652913 </td><td>0.7272727 </td></tr>\n",
       "\t<tr><th scope=row>7</th><td>0.09803922</td><td>1         </td><td>0.000     </td><td>0.5000000 </td><td>0.00      </td><td>0.500     </td><td>1         </td><td>1         </td><td>0.9722459 </td><td>0.3636364 </td></tr>\n",
       "\t<tr><th scope=row>9</th><td>0.15686275</td><td>1         </td><td>0.150     </td><td>0.5000000 </td><td>0.00      </td><td>0.500     </td><td>0         </td><td>0         </td><td>0.9822616 </td><td>0.3636364 </td></tr>\n",
       "\t<tr><th scope=row>13</th><td>0.96078431</td><td>1         </td><td>0.750     </td><td>0.7333333 </td><td>0.00      </td><td>0.675     </td><td>0         </td><td>1         </td><td>0.9927734 </td><td>0.3636364 </td></tr>\n",
       "</tbody>\n",
       "</table>\n"
      ],
      "text/latex": [
       "\\begin{tabular}{r|llllllllll}\n",
       "  & WeekofPurchase & StoreID & PriceCH & PriceMM & DiscCH & DiscMM & SpecialCH & SpecialMM & LoyalCH & SalePriceMM\\\\\n",
       "\\hline\n",
       "\t2 & 0.23529412 & 0          & 0.150      & 0.5000000  & 0.00       & 0.375      & 0          & 1          & 0.6000352  & 0.4545455 \\\\\n",
       "\t3 & 0.35294118 & 0          & 0.425      & 0.6666667  & 0.34       & 0.000      & 0          & 0          & 0.6800414  & 0.8181818 \\\\\n",
       "\t6 & 0.05882353 & 1          & 0.000      & 0.5000000  & 0.00       & 0.000      & 0          & 1          & 0.9652913  & 0.7272727 \\\\\n",
       "\t7 & 0.09803922 & 1          & 0.000      & 0.5000000  & 0.00       & 0.500      & 1          & 1          & 0.9722459  & 0.3636364 \\\\\n",
       "\t9 & 0.15686275 & 1          & 0.150      & 0.5000000  & 0.00       & 0.500      & 0          & 0          & 0.9822616  & 0.3636364 \\\\\n",
       "\t13 & 0.96078431 & 1          & 0.750      & 0.7333333  & 0.00       & 0.675      & 0          & 1          & 0.9927734  & 0.3636364 \\\\\n",
       "\\end{tabular}\n"
      ],
      "text/markdown": [
       "\n",
       "| <!--/--> | WeekofPurchase | StoreID | PriceCH | PriceMM | DiscCH | DiscMM | SpecialCH | SpecialMM | LoyalCH | SalePriceMM | \n",
       "|---|---|---|---|---|---|\n",
       "| 2 | 0.23529412 | 0          | 0.150      | 0.5000000  | 0.00       | 0.375      | 0          | 1          | 0.6000352  | 0.4545455  | \n",
       "| 3 | 0.35294118 | 0          | 0.425      | 0.6666667  | 0.34       | 0.000      | 0          | 0          | 0.6800414  | 0.8181818  | \n",
       "| 6 | 0.05882353 | 1          | 0.000      | 0.5000000  | 0.00       | 0.000      | 0          | 1          | 0.9652913  | 0.7272727  | \n",
       "| 7 | 0.09803922 | 1          | 0.000      | 0.5000000  | 0.00       | 0.500      | 1          | 1          | 0.9722459  | 0.3636364  | \n",
       "| 9 | 0.15686275 | 1          | 0.150      | 0.5000000  | 0.00       | 0.500      | 0          | 0          | 0.9822616  | 0.3636364  | \n",
       "| 13 | 0.96078431 | 1          | 0.750      | 0.7333333  | 0.00       | 0.675      | 0          | 1          | 0.9927734  | 0.3636364  | \n",
       "\n",
       "\n"
      ],
      "text/plain": [
       "   WeekofPurchase StoreID PriceCH PriceMM   DiscCH DiscMM SpecialCH SpecialMM\n",
       "2  0.23529412     0       0.150   0.5000000 0.00   0.375  0         1        \n",
       "3  0.35294118     0       0.425   0.6666667 0.34   0.000  0         0        \n",
       "6  0.05882353     1       0.000   0.5000000 0.00   0.000  0         1        \n",
       "7  0.09803922     1       0.000   0.5000000 0.00   0.500  1         1        \n",
       "9  0.15686275     1       0.150   0.5000000 0.00   0.500  0         0        \n",
       "13 0.96078431     1       0.750   0.7333333 0.00   0.675  0         1        \n",
       "   LoyalCH   SalePriceMM\n",
       "2  0.6000352 0.4545455  \n",
       "3  0.6800414 0.8181818  \n",
       "6  0.9652913 0.7272727  \n",
       "7  0.9722459 0.3636364  \n",
       "9  0.9822616 0.3636364  \n",
       "13 0.9927734 0.3636364  "
      ]
     },
     "metadata": {},
     "output_type": "display_data"
    }
   ],
   "source": [
    "# Step 1: Impute missing values \n",
    "testData2 <- predict(preProcess_missingdata_model, testData)  \n",
    "\n",
    "# Step 2: Create one-hot encodings (dummy variables)\n",
    "testData3 <- predict(dummies_model, testData2)\n",
    "\n",
    "# Step 3: Transform the features to range between 0 and 1\n",
    "testData4 <- predict(preProcess_range_model, testData3)\n",
    "\n",
    "# View\n",
    "head(testData4[, 1:10])"
   ]
  },
  {
   "cell_type": "code",
   "execution_count": 50,
   "metadata": {},
   "outputs": [
    {
     "data": {
      "text/html": [
       "<ol class=list-inline>\n",
       "\t<li>CH</li>\n",
       "\t<li>CH</li>\n",
       "\t<li>CH</li>\n",
       "\t<li>CH</li>\n",
       "\t<li>CH</li>\n",
       "\t<li>CH</li>\n",
       "</ol>\n"
      ],
      "text/latex": [
       "\\begin{enumerate*}\n",
       "\\item CH\n",
       "\\item CH\n",
       "\\item CH\n",
       "\\item CH\n",
       "\\item CH\n",
       "\\item CH\n",
       "\\end{enumerate*}\n"
      ],
      "text/markdown": [
       "1. CH\n",
       "2. CH\n",
       "3. CH\n",
       "4. CH\n",
       "5. CH\n",
       "6. CH\n",
       "\n",
       "\n"
      ],
      "text/plain": [
       "[1] CH CH CH CH CH CH\n",
       "Levels: CH MM"
      ]
     },
     "metadata": {},
     "output_type": "display_data"
    }
   ],
   "source": [
    "# Predict on testData\n",
    "predicted <- predict(model_mars, testData4)\n",
    "head(predicted)"
   ]
  },
  {
   "cell_type": "code",
   "execution_count": 51,
   "metadata": {},
   "outputs": [
    {
     "data": {
      "text/plain": [
       "Confusion Matrix and Statistics\n",
       "\n",
       "          Reference\n",
       "Prediction  CH  MM\n",
       "        CH 117  20\n",
       "        MM  13  63\n",
       "                                          \n",
       "               Accuracy : 0.8451          \n",
       "                 95% CI : (0.7894, 0.8909)\n",
       "    No Information Rate : 0.6103          \n",
       "    P-Value [Acc > NIR] : 6.311e-14       \n",
       "                                          \n",
       "                  Kappa : 0.6692          \n",
       " Mcnemar's Test P-Value : 0.2963          \n",
       "                                          \n",
       "            Sensitivity : 0.7590          \n",
       "            Specificity : 0.9000          \n",
       "         Pos Pred Value : 0.8289          \n",
       "         Neg Pred Value : 0.8540          \n",
       "              Precision : 0.8289          \n",
       "                 Recall : 0.7590          \n",
       "                     F1 : 0.7925          \n",
       "             Prevalence : 0.3897          \n",
       "         Detection Rate : 0.2958          \n",
       "   Detection Prevalence : 0.3568          \n",
       "      Balanced Accuracy : 0.8295          \n",
       "                                          \n",
       "       'Positive' Class : MM              \n",
       "                                          "
      ]
     },
     "metadata": {},
     "output_type": "display_data"
    }
   ],
   "source": [
    "# Compute the confusion matrix\n",
    "confusionMatrix(reference = testData$Purchase, data = predicted, mode='everything', positive='MM')"
   ]
  },
  {
   "cell_type": "markdown",
   "metadata": {},
   "source": [
    "###  hyperparameter tuning to optimize the model for better performance"
   ]
  },
  {
   "cell_type": "markdown",
   "metadata": {},
   "source": [
    "two main ways to do hyper parameter tuning using the train():\n",
    "\n",
    "    Set the tuneLength\n",
    "    Define and set the tuneGrid\n"
   ]
  },
  {
   "cell_type": "markdown",
   "metadata": {},
   "source": [
    "train() function takes a trControl argument that accepts the output of trainControl().\n",
    "\n",
    "Inside trainControl() you can control how the train() will:\n",
    "\n",
    "    Cross validation method to use.\n",
    "    How the results should be summarised using a summary function\n"
   ]
  },
  {
   "cell_type": "markdown",
   "metadata": {},
   "source": [
    "Cross validation method can be one amongst:\n",
    "\n",
    "    ‘boot’: Bootstrap sampling\n",
    "    ‘boot632’: Bootstrap sampling with 63.2% bias correction applied\n",
    "    ‘optimism_boot’: The optimism bootstrap estimator\n",
    "    ‘boot_all’: All boot methods.\n",
    "    ‘cv’: k-Fold cross validation\n",
    "    ‘repeatedcv’: Repeated k-Fold cross validation\n",
    "    ‘oob’: Out of Bag cross validation\n",
    "    ‘LOOCV’: Leave one out cross validation\n",
    "    ‘LGOCV’: Leave group out cross validation\n",
    "\n",
    "The summaryFunction can be twoClassSummary if Y is binary class or multiClassSummary if the Y has more than 2 categories.\n",
    "\n",
    "By setting the classProbs=T the probability scores are generated instead of directly predicting the class based on a predetermined cutoff of 0.5."
   ]
  },
  {
   "cell_type": "code",
   "execution_count": 52,
   "metadata": {},
   "outputs": [],
   "source": [
    "# Define the training control\n",
    "fitControl <- trainControl(\n",
    "    method = 'cv',                   # k-fold cross validation\n",
    "    number = 5,                      # number of folds\n",
    "    savePredictions = 'final',       # saves predictions for optimal tuning parameter\n",
    "    classProbs = T,                  # should class probabilities be returned\n",
    "    summaryFunction=twoClassSummary  # results summary function\n",
    ") "
   ]
  },
  {
   "cell_type": "markdown",
   "metadata": {},
   "source": [
    "In the train() function we used before, plus, additionally set the tuneLength, trControl and metric"
   ]
  },
  {
   "cell_type": "code",
   "execution_count": 53,
   "metadata": {},
   "outputs": [
    {
     "data": {
      "text/plain": [
       "Multivariate Adaptive Regression Spline \n",
       "\n",
       "857 samples\n",
       " 18 predictor\n",
       "  2 classes: 'CH', 'MM' \n",
       "\n",
       "No pre-processing\n",
       "Resampling: Cross-Validated (5 fold) \n",
       "Summary of sample sizes: 686, 686, 686, 685, 685 \n",
       "Resampling results across tuning parameters:\n",
       "\n",
       "  nprune  ROC        Sens       Spec     \n",
       "   2      0.8738876  0.8698718  0.7036635\n",
       "   6      0.8958683  0.8623077  0.7423338\n",
       "  10      0.8872985  0.8623260  0.7213478\n",
       "  14      0.8897942  0.8623260  0.7213478\n",
       "  19      0.8897942  0.8623260  0.7213478\n",
       "\n",
       "Tuning parameter 'degree' was held constant at a value of 1\n",
       "ROC was used to select the optimal model using  the largest value.\n",
       "The final values used for the model were nprune = 6 and degree = 1."
      ]
     },
     "metadata": {},
     "output_type": "display_data"
    },
    {
     "data": {
      "text/plain": [
       "Confusion Matrix and Statistics\n",
       "\n",
       "          Reference\n",
       "Prediction  CH  MM\n",
       "        CH 116  20\n",
       "        MM  14  63\n",
       "                                          \n",
       "               Accuracy : 0.8404          \n",
       "                 95% CI : (0.7841, 0.8869)\n",
       "    No Information Rate : 0.6103          \n",
       "    P-Value [Acc > NIR] : 2.164e-13       \n",
       "                                          \n",
       "                  Kappa : 0.66            \n",
       " Mcnemar's Test P-Value : 0.3912          \n",
       "                                          \n",
       "            Sensitivity : 0.7590          \n",
       "            Specificity : 0.8923          \n",
       "         Pos Pred Value : 0.8182          \n",
       "         Neg Pred Value : 0.8529          \n",
       "              Precision : 0.8182          \n",
       "                 Recall : 0.7590          \n",
       "                     F1 : 0.7875          \n",
       "             Prevalence : 0.3897          \n",
       "         Detection Rate : 0.2958          \n",
       "   Detection Prevalence : 0.3615          \n",
       "      Balanced Accuracy : 0.8257          \n",
       "                                          \n",
       "       'Positive' Class : MM              \n",
       "                                          "
      ]
     },
     "metadata": {},
     "output_type": "display_data"
    }
   ],
   "source": [
    "# Step 1: Tune hyper parameters by setting tuneLength\n",
    "set.seed(100)\n",
    "model_mars2 = train(Purchase ~ ., data=trainData, method='earth', tuneLength = 5, metric='ROC', trControl = fitControl)\n",
    "model_mars2\n",
    "\n",
    "# Step 2: Predict on testData and Compute the confusion matrix\n",
    "predicted2 <- predict(model_mars2, testData4)\n",
    "confusionMatrix(reference = testData$Purchase, data = predicted2, mode='everything', positive='MM')"
   ]
  },
  {
   "cell_type": "markdown",
   "metadata": {},
   "source": [
    "### Mars uses ROC.. which is highest for 6"
   ]
  },
  {
   "cell_type": "markdown",
   "metadata": {},
   "source": [
    "#### Now using tue grid parameters "
   ]
  },
  {
   "cell_type": "code",
   "execution_count": 55,
   "metadata": {},
   "outputs": [
    {
     "data": {
      "text/plain": [
       "Multivariate Adaptive Regression Spline \n",
       "\n",
       "857 samples\n",
       " 18 predictor\n",
       "  2 classes: 'CH', 'MM' \n",
       "\n",
       "No pre-processing\n",
       "Resampling: Cross-Validated (5 fold) \n",
       "Summary of sample sizes: 686, 686, 686, 685, 685 \n",
       "Resampling results across tuning parameters:\n",
       "\n",
       "  degree  nprune  ROC        Sens       Spec     \n",
       "  1        2      0.8738876  0.8698718  0.7036635\n",
       "  1        4      0.8934647  0.8680220  0.7483039\n",
       "  1        6      0.8958683  0.8623077  0.7423338\n",
       "  1        8      0.8953497  0.8565751  0.7393487\n",
       "  1       10      0.8872985  0.8623260  0.7213478\n",
       "  2        2      0.8130335  0.8354762  0.6976934\n",
       "  2        4      0.8928713  0.8699634  0.7422886\n",
       "  2        6      0.8935170  0.8508791  0.7452736\n",
       "  2        8      0.8962201  0.8584799  0.7843962\n",
       "  2       10      0.8988934  0.8642308  0.7724559\n",
       "  3        2      0.8510259  0.8794872  0.6320217\n",
       "  3        4      0.8924517  0.8737729  0.7273632\n",
       "  3        6      0.8911406  0.8470513  0.7663501\n",
       "  3        8      0.8930491  0.8661172  0.7874265\n",
       "  3       10      0.8965694  0.8641758  0.7693804\n",
       "\n",
       "ROC was used to select the optimal model using  the largest value.\n",
       "The final values used for the model were nprune = 10 and degree = 2."
      ]
     },
     "metadata": {},
     "output_type": "display_data"
    },
    {
     "data": {
      "text/plain": [
       "Confusion Matrix and Statistics\n",
       "\n",
       "          Reference\n",
       "Prediction  CH  MM\n",
       "        CH 110  18\n",
       "        MM  20  65\n",
       "                                          \n",
       "               Accuracy : 0.8216          \n",
       "                 95% CI : (0.7635, 0.8705)\n",
       "    No Information Rate : 0.6103          \n",
       "    P-Value [Acc > NIR] : 2.139e-11       \n",
       "                                          \n",
       "                  Kappa : 0.6266          \n",
       " Mcnemar's Test P-Value : 0.8711          \n",
       "                                          \n",
       "            Sensitivity : 0.7831          \n",
       "            Specificity : 0.8462          \n",
       "         Pos Pred Value : 0.7647          \n",
       "         Neg Pred Value : 0.8594          \n",
       "              Precision : 0.7647          \n",
       "                 Recall : 0.7831          \n",
       "                     F1 : 0.7738          \n",
       "             Prevalence : 0.3897          \n",
       "         Detection Rate : 0.3052          \n",
       "   Detection Prevalence : 0.3991          \n",
       "      Balanced Accuracy : 0.8146          \n",
       "                                          \n",
       "       'Positive' Class : MM              \n",
       "                                          "
      ]
     },
     "metadata": {},
     "output_type": "display_data"
    }
   ],
   "source": [
    "# Step 1: Define the tuneGrid\n",
    "marsGrid <-  expand.grid(nprune = c(2, 4, 6, 8, 10), \n",
    "                        degree = c(1, 2, 3))\n",
    "\n",
    "# Step 2: Tune hyper parameters by setting tuneGrid\n",
    "set.seed(100)\n",
    "model_mars3 = train(Purchase ~ ., data=trainData, method='earth', metric='ROC', tuneGrid = marsGrid, trControl = fitControl)\n",
    "model_mars3\n",
    "\n",
    "# Step 3: Predict on testData and Compute the confusion matrix\n",
    "predicted3 <- predict(model_mars3, testData4)\n",
    "confusionMatrix(reference = testData$Purchase, data = predicted3, mode='everything', positive='MM')"
   ]
  },
  {
   "cell_type": "markdown",
   "metadata": {},
   "source": [
    "### Caret has the resamples() function where you can provide multiple machine learning models and collectively evaluate them"
   ]
  },
  {
   "cell_type": "markdown",
   "metadata": {},
   "source": [
    "### AdaBoost"
   ]
  },
  {
   "cell_type": "code",
   "execution_count": 56,
   "metadata": {},
   "outputs": [
    {
     "name": "stderr",
     "output_type": "stream",
     "text": [
      "Loading required package: fastAdaboost\n"
     ]
    },
    {
     "data": {
      "text/plain": [
       "AdaBoost Classification Trees \n",
       "\n",
       "857 samples\n",
       " 18 predictor\n",
       "  2 classes: 'CH', 'MM' \n",
       "\n",
       "No pre-processing\n",
       "Resampling: Cross-Validated (5 fold) \n",
       "Summary of sample sizes: 686, 686, 686, 685, 685 \n",
       "Resampling results across tuning parameters:\n",
       "\n",
       "  nIter  method         ROC        Sens       Spec     \n",
       "   50    Adaboost.M1    0.8774557  0.8086996  0.7874265\n",
       "   50    Real adaboost  0.7311635  0.8507143  0.7394844\n",
       "  100    Adaboost.M1    0.8771023  0.8124725  0.7724559\n",
       "  100    Real adaboost  0.6828147  0.8392857  0.7484848\n",
       "\n",
       "ROC was used to select the optimal model using  the largest value.\n",
       "The final values used for the model were nIter = 50 and method = Adaboost.M1."
      ]
     },
     "metadata": {},
     "output_type": "display_data"
    }
   ],
   "source": [
    "set.seed(100)\n",
    "\n",
    "# Train the model using adaboost\n",
    "model_adaboost = train(Purchase ~ ., data=trainData, method='adaboost', tuneLength=2, trControl = fitControl)\n",
    "model_adaboost"
   ]
  },
  {
   "cell_type": "markdown",
   "metadata": {},
   "source": [
    "### Random Forest"
   ]
  },
  {
   "cell_type": "code",
   "execution_count": 58,
   "metadata": {},
   "outputs": [
    {
     "data": {
      "text/plain": [
       "Random Forest \n",
       "\n",
       "857 samples\n",
       " 18 predictor\n",
       "  2 classes: 'CH', 'MM' \n",
       "\n",
       "No pre-processing\n",
       "Resampling: Cross-Validated (5 fold) \n",
       "Summary of sample sizes: 686, 686, 686, 685, 685 \n",
       "Resampling results across tuning parameters:\n",
       "\n",
       "  mtry  ROC        Sens       Spec     \n",
       "   2    0.8751711  0.8890293  0.6526459\n",
       "   6    0.8855086  0.8583883  0.7304839\n",
       "  10    0.8824556  0.8430403  0.7484848\n",
       "  14    0.8810247  0.8373260  0.7484848\n",
       "  18    0.8805559  0.8411722  0.7544550\n",
       "\n",
       "ROC was used to select the optimal model using  the largest value.\n",
       "The final value used for the model was mtry = 6."
      ]
     },
     "metadata": {},
     "output_type": "display_data"
    }
   ],
   "source": [
    "set.seed(100)\n",
    "\n",
    "# Train the model using rf\n",
    "model_rf = train(Purchase ~ ., data=trainData, method='rf', tuneLength=5, trControl = fitControl)\n",
    "model_rf"
   ]
  },
  {
   "cell_type": "markdown",
   "metadata": {},
   "source": [
    "### xgBoost Dart\n",
    "    wasnt there among caret's list of algos\n",
    "### so used xgbTree \n",
    "    close enough"
   ]
  },
  {
   "cell_type": "code",
   "execution_count": 60,
   "metadata": {},
   "outputs": [
    {
     "name": "stderr",
     "output_type": "stream",
     "text": [
      "Loading required package: xgboost\n"
     ]
    },
    {
     "data": {
      "text/plain": [
       "eXtreme Gradient Boosting \n",
       "\n",
       "857 samples\n",
       " 18 predictor\n",
       "  2 classes: 'CH', 'MM' \n",
       "\n",
       "No pre-processing\n",
       "Resampling: Cross-Validated (5 fold) \n",
       "Summary of sample sizes: 686, 686, 686, 685, 685 \n",
       "Resampling results across tuning parameters:\n",
       "\n",
       "  eta  max_depth  colsample_bytree  subsample  nrounds  ROC        Sens     \n",
       "  0.3  1          0.6               0.500       50      0.8981695  0.8832418\n",
       "  0.3  1          0.6               0.500      100      0.8977194  0.8699267\n",
       "  0.3  1          0.6               0.500      150      0.8971549  0.8814286\n",
       "  0.3  1          0.6               0.500      200      0.8955219  0.8680403\n",
       "  0.3  1          0.6               0.500      250      0.8942164  0.8699451\n",
       "  0.3  1          0.6               0.625       50      0.8954363  0.8699267\n",
       "  0.3  1          0.6               0.625      100      0.8948572  0.8737729\n",
       "  0.3  1          0.6               0.625      150      0.8921472  0.8622894\n",
       "  0.3  1          0.6               0.625      200      0.8926765  0.8622711\n",
       "  0.3  1          0.6               0.625      250      0.8903047  0.8584249\n",
       "  0.3  1          0.6               0.750       50      0.8978959  0.8851832\n",
       "  0.3  1          0.6               0.750      100      0.8966231  0.8718132\n",
       "  0.3  1          0.6               0.750      150      0.8929826  0.8660623\n",
       "  0.3  1          0.6               0.750      200      0.8927709  0.8641941\n",
       "  0.3  1          0.6               0.750      250      0.8903455  0.8699084\n",
       "  0.3  1          0.6               0.875       50      0.8981004  0.8756227\n",
       "  0.3  1          0.6               0.875      100      0.8965648  0.8737179\n",
       "  0.3  1          0.6               0.875      150      0.8954345  0.8584249\n",
       "  0.3  1          0.6               0.875      200      0.8949296  0.8698901\n",
       "  0.3  1          0.6               0.875      250      0.8920563  0.8679853\n",
       "  0.3  1          0.6               1.000       50      0.8973604  0.8679487\n",
       "  0.3  1          0.6               1.000      100      0.8964611  0.8737363\n",
       "  0.3  1          0.6               1.000      150      0.8946593  0.8679853\n",
       "  0.3  1          0.6               1.000      200      0.8936835  0.8622527\n",
       "  0.3  1          0.6               1.000      250      0.8937825  0.8622894\n",
       "  0.3  1          0.8               0.500       50      0.8922497  0.8623077\n",
       "  0.3  1          0.8               0.500      100      0.8925724  0.8698901\n",
       "  0.3  1          0.8               0.500      150      0.8940630  0.8641209\n",
       "  0.3  1          0.8               0.500      200      0.8928635  0.8718498\n",
       "  0.3  1          0.8               0.500      250      0.8938258  0.8546154\n",
       "  0.3  1          0.8               0.625       50      0.8973526  0.8794689\n",
       "  0.3  1          0.8               0.625      100      0.8989749  0.8775824\n",
       "  0.3  1          0.8               0.625      150      0.8962684  0.8737363\n",
       "  0.3  1          0.8               0.625      200      0.8958898  0.8642308\n",
       "  0.3  1          0.8               0.625      250      0.8960551  0.8718498\n",
       "  0.3  1          0.8               0.750       50      0.8979826  0.8775641\n",
       "  0.3  1          0.8               0.750      100      0.8973923  0.8756593\n",
       "  0.3  1          0.8               0.750      150      0.8966169  0.8661172\n",
       "  0.3  1          0.8               0.750      200      0.8960768  0.8718315\n",
       "  0.3  1          0.8               0.750      250      0.8947138  0.8641941\n",
       "  0.3  1          0.8               0.875       50      0.8979615  0.8756044\n",
       "  0.3  1          0.8               0.875      100      0.8976125  0.8756044\n",
       "  0.3  1          0.8               0.875      150      0.8956404  0.8755678\n",
       "  0.3  1          0.8               0.875      200      0.8952515  0.8718132\n",
       "  0.3  1          0.8               0.875      250      0.8937086  0.8699451\n",
       "  0.3  1          0.8               1.000       50      0.8978767  0.8775458\n",
       "  0.3  1          0.8               1.000      100      0.8967926  0.8775641\n",
       "  0.3  1          0.8               1.000      150      0.8956316  0.8718498\n",
       "  0.3  1          0.8               1.000      200      0.8942442  0.8680403\n",
       "  0.3  1          0.8               1.000      250      0.8939425  0.8661355\n",
       "  0.3  2          0.6               0.500       50      0.8960290  0.8719048\n",
       "  0.3  2          0.6               0.500      100      0.8891318  0.8680769\n",
       "  0.3  2          0.6               0.500      150      0.8846898  0.8527839\n",
       "  0.3  2          0.6               0.500      200      0.8827182  0.8527473\n",
       "  0.3  2          0.6               0.500      250      0.8785421  0.8355495\n",
       "  0.3  2          0.6               0.625       50      0.8964644  0.8527106\n",
       "  0.3  2          0.6               0.625      100      0.8926037  0.8584982\n",
       "  0.3  2          0.6               0.625      150      0.8916241  0.8489011\n",
       "  0.3  2          0.6               0.625      200      0.8877206  0.8489011\n",
       "  0.3  2          0.6               0.625      250      0.8817170  0.8526923\n",
       "  0.3  2          0.6               0.750       50      0.8972236  0.8699267\n",
       "  0.3  2          0.6               0.750      100      0.8945669  0.8584615\n",
       "  0.3  2          0.6               0.750      150      0.8906386  0.8622894\n",
       "  0.3  2          0.6               0.750      200      0.8888025  0.8546520\n",
       "  0.3  2          0.6               0.750      250      0.8840755  0.8450549\n",
       "  0.3  2          0.6               0.875       50      0.9004427  0.8737546\n",
       "  0.3  2          0.6               0.875      100      0.9000148  0.8718864\n",
       "  0.3  2          0.6               0.875      150      0.8963271  0.8622894\n",
       "  0.3  2          0.6               0.875      200      0.8919240  0.8526740\n",
       "  0.3  2          0.6               0.875      250      0.8887182  0.8526740\n",
       "  0.3  2          0.6               1.000       50      0.8984932  0.8699267\n",
       "  0.3  2          0.6               1.000      100      0.8971542  0.8680220\n",
       "  0.3  2          0.6               1.000      150      0.8934460  0.8660806\n",
       "  0.3  2          0.6               1.000      200      0.8911008  0.8565201\n",
       "  0.3  2          0.6               1.000      250      0.8891259  0.8584432\n",
       "  0.3  2          0.8               0.500       50      0.8968019  0.8642308\n",
       "  0.3  2          0.8               0.500      100      0.8924322  0.8642125\n",
       "  0.3  2          0.8               0.500      150      0.8860094  0.8451465\n",
       "  0.3  2          0.8               0.500      200      0.8838286  0.8508608\n",
       "  0.3  2          0.8               0.500      250      0.8800471  0.8469597\n",
       "  0.3  2          0.8               0.625       50      0.8997977  0.8737912\n",
       "  0.3  2          0.8               0.625      100      0.8958594  0.8718681\n",
       "  0.3  2          0.8               0.625      150      0.8898845  0.8680220\n",
       "  0.3  2          0.8               0.625      200      0.8891096  0.8488828\n",
       "  0.3  2          0.8               0.625      250      0.8839339  0.8527106\n",
       "  0.3  2          0.8               0.750       50      0.9009226  0.8756777\n",
       "  0.3  2          0.8               0.750      100      0.8980289  0.8718681\n",
       "  0.3  2          0.8               0.750      150      0.8943117  0.8604029\n",
       "  0.3  2          0.8               0.750      200      0.8890907  0.8584799\n",
       "  0.3  2          0.8               0.750      250      0.8863039  0.8546337\n",
       "  0.3  2          0.8               0.875       50      0.8965132  0.8737912\n",
       "  0.3  2          0.8               0.875      100      0.8915090  0.8584799\n",
       "  0.3  2          0.8               0.875      150      0.8892398  0.8603663\n",
       "  0.3  2          0.8               0.875      200      0.8884470  0.8584432\n",
       "  0.3  2          0.8               0.875      250      0.8850673  0.8584615\n",
       "  0.3  2          0.8               1.000       50      0.8986998  0.8679670\n",
       "  0.3  2          0.8               1.000      100      0.8951250  0.8546337\n",
       "  0.3  2          0.8               1.000      150      0.8922608  0.8508059\n",
       "  0.3  2          0.8               1.000      200      0.8888538  0.8565018\n",
       "  0.3  2          0.8               1.000      250      0.8872798  0.8488645\n",
       "  0.3  3          0.6               0.500       50      0.8912397  0.8661538\n",
       "  0.3  3          0.6               0.500      100      0.8848133  0.8432234\n",
       "  0.3  3          0.6               0.500      150      0.8801121  0.8545604\n",
       "  0.3  3          0.6               0.500      200      0.8753505  0.8468864\n",
       "  0.3  3          0.6               0.500      250      0.8723163  0.8450183\n",
       "  0.3  3          0.6               0.625       50      0.8927951  0.8527289\n",
       "  0.3  3          0.6               0.625      100      0.8845153  0.8469963\n",
       "  0.3  3          0.6               0.625      150      0.8817592  0.8412271\n",
       "  0.3  3          0.6               0.625      200      0.8757646  0.8412088\n",
       "  0.3  3          0.6               0.625      250      0.8749803  0.8411722\n",
       "  0.3  3          0.6               0.750       50      0.8956295  0.8699267\n",
       "  0.3  3          0.6               0.750      100      0.8854207  0.8545788\n",
       "  0.3  3          0.6               0.750      150      0.8821730  0.8450000\n",
       "  0.3  3          0.6               0.750      200      0.8779743  0.8450000\n",
       "  0.3  3          0.6               0.750      250      0.8726267  0.8373993\n",
       "  0.3  3          0.6               0.875       50      0.8938803  0.8603663\n",
       "  0.3  3          0.6               0.875      100      0.8863111  0.8507509\n",
       "  0.3  3          0.6               0.875      150      0.8800226  0.8469414\n",
       "  0.3  3          0.6               0.875      200      0.8788799  0.8526374\n",
       "  0.3  3          0.6               0.875      250      0.8757936  0.8469231\n",
       "  0.3  3          0.6               1.000       50      0.8973510  0.8622527\n",
       "  0.3  3          0.6               1.000      100      0.8893303  0.8622711\n",
       "  0.3  3          0.6               1.000      150      0.8851038  0.8622527\n",
       "  0.3  3          0.6               1.000      200      0.8808542  0.8545971\n",
       "  0.3  3          0.6               1.000      250      0.8777057  0.8488645\n",
       "  0.3  3          0.8               0.500       50      0.8942509  0.8584615\n",
       "  0.3  3          0.8               0.500      100      0.8831385  0.8507875\n",
       "  0.3  3          0.8               0.500      150      0.8779810  0.8565018\n",
       "  0.3  3          0.8               0.500      200      0.8771819  0.8469048\n",
       "  0.3  3          0.8               0.500      250      0.8713724  0.8334615\n",
       "  0.3  3          0.8               0.625       50      0.8840387  0.8622527\n",
       "  0.3  3          0.8               0.625      100      0.8797876  0.8584615\n",
       "  0.3  3          0.8               0.625      150      0.8759073  0.8450366\n",
       "  0.3  3          0.8               0.625      200      0.8742143  0.8545788\n",
       "  0.3  3          0.8               0.625      250      0.8736112  0.8450183\n",
       "  0.3  3          0.8               0.750       50      0.8914777  0.8546337\n",
       "  0.3  3          0.8               0.750      100      0.8805167  0.8411905\n",
       "  0.3  3          0.8               0.750      150      0.8787956  0.8373810\n",
       "  0.3  3          0.8               0.750      200      0.8761052  0.8430769\n",
       "  0.3  3          0.8               0.750      250      0.8760748  0.8373077\n",
       "  0.3  3          0.8               0.875       50      0.8897418  0.8527106\n",
       "  0.3  3          0.8               0.875      100      0.8859919  0.8431319\n",
       "  0.3  3          0.8               0.875      150      0.8829642  0.8450183\n",
       "  0.3  3          0.8               0.875      200      0.8760920  0.8392674\n",
       "  0.3  3          0.8               0.875      250      0.8749501  0.8450000\n",
       "  0.3  3          0.8               1.000       50      0.8955817  0.8718132\n",
       "  0.3  3          0.8               1.000      100      0.8891673  0.8622161\n",
       "  0.3  3          0.8               1.000      150      0.8871408  0.8450000\n",
       "  0.3  3          0.8               1.000      200      0.8841731  0.8507326\n",
       "  0.3  3          0.8               1.000      250      0.8833397  0.8488278\n",
       "  0.3  4          0.6               0.500       50      0.8901840  0.8565568\n",
       "  0.3  4          0.6               0.500      100      0.8814514  0.8412271\n",
       "  0.3  4          0.6               0.500      150      0.8810631  0.8641209\n",
       "  0.3  4          0.6               0.500      200      0.8766717  0.8431136\n",
       "  0.3  4          0.6               0.500      250      0.8726130  0.8335165\n",
       "  0.3  4          0.6               0.625       50      0.8862932  0.8584249\n",
       "  0.3  4          0.6               0.625      100      0.8751750  0.8392674\n",
       "  0.3  4          0.6               0.625      150      0.8698154  0.8354579\n",
       "  0.3  4          0.6               0.625      200      0.8657962  0.8278388\n",
       "  0.3  4          0.6               0.625      250      0.8641987  0.8297619\n",
       "  0.3  4          0.6               0.750       50      0.8851231  0.8507875\n",
       "  0.3  4          0.6               0.750      100      0.8724239  0.8373626\n",
       "  0.3  4          0.6               0.750      150      0.8701991  0.8430769\n",
       "  0.3  4          0.6               0.750      200      0.8677875  0.8335714\n",
       "  0.3  4          0.6               0.750      250      0.8647434  0.8336081\n",
       "  0.3  4          0.6               0.875       50      0.8935875  0.8507692\n",
       "  0.3  4          0.6               0.875      100      0.8829852  0.8469231\n",
       "  0.3  4          0.6               0.875      150      0.8789698  0.8411722\n",
       "  0.3  4          0.6               0.875      200      0.8751517  0.8354029\n",
       "  0.3  4          0.6               0.875      250      0.8718804  0.8373443\n",
       "  0.3  4          0.6               1.000       50      0.8898061  0.8661172\n",
       "  0.3  4          0.6               1.000      100      0.8802856  0.8431502\n",
       "  0.3  4          0.6               1.000      150      0.8724870  0.8430769\n",
       "  0.3  4          0.6               1.000      200      0.8691335  0.8411538\n",
       "  0.3  4          0.6               1.000      250      0.8679994  0.8392491\n",
       "  0.3  4          0.8               0.500       50      0.8808878  0.8451099\n",
       "  0.3  4          0.8               0.500      100      0.8762165  0.8450183\n",
       "  0.3  4          0.8               0.500      150      0.8693116  0.8412271\n",
       "  0.3  4          0.8               0.500      200      0.8702630  0.8431136\n",
       "  0.3  4          0.8               0.500      250      0.8671268  0.8507692\n",
       "  0.3  4          0.8               0.625       50      0.8852426  0.8546154\n",
       "  0.3  4          0.8               0.625      100      0.8767889  0.8354945\n",
       "  0.3  4          0.8               0.625      150      0.8679483  0.8393773\n",
       "  0.3  4          0.8               0.625      200      0.8651127  0.8374359\n",
       "  0.3  4          0.8               0.625      250      0.8642037  0.8431136\n",
       "  0.3  4          0.8               0.750       50      0.8869458  0.8488095\n",
       "  0.3  4          0.8               0.750      100      0.8819498  0.8392674\n",
       "  0.3  4          0.8               0.750      150      0.8740704  0.8392674\n",
       "  0.3  4          0.8               0.750      200      0.8699336  0.8430769\n",
       "  0.3  4          0.8               0.750      250      0.8675892  0.8335165\n",
       "  0.3  4          0.8               0.875       50      0.8909484  0.8622527\n",
       "  0.3  4          0.8               0.875      100      0.8824667  0.8469414\n",
       "  0.3  4          0.8               0.875      150      0.8778360  0.8373626\n",
       "  0.3  4          0.8               0.875      200      0.8756333  0.8411722\n",
       "  0.3  4          0.8               0.875      250      0.8729108  0.8354212\n",
       "  0.3  4          0.8               1.000       50      0.8927485  0.8622161\n",
       "  0.3  4          0.8               1.000      100      0.8875112  0.8545421\n",
       "  0.3  4          0.8               1.000      150      0.8791094  0.8335531\n",
       "  0.3  4          0.8               1.000      200      0.8765228  0.8392674\n",
       "  0.3  4          0.8               1.000      250      0.8741710  0.8316484\n",
       "  0.3  5          0.6               0.500       50      0.8904645  0.8603663\n",
       "  0.3  5          0.6               0.500      100      0.8815436  0.8430952\n",
       "  0.3  5          0.6               0.500      150      0.8735404  0.8355128\n",
       "  0.3  5          0.6               0.500      200      0.8716945  0.8374176\n",
       "  0.3  5          0.6               0.500      250      0.8738287  0.8411905\n",
       "  0.3  5          0.6               0.625       50      0.8777967  0.8431502\n",
       "  0.3  5          0.6               0.625      100      0.8718223  0.8393590\n",
       "  0.3  5          0.6               0.625      150      0.8646105  0.8297619\n",
       "  0.3  5          0.6               0.625      200      0.8623611  0.8412271\n",
       "  0.3  5          0.6               0.625      250      0.8615653  0.8469414\n",
       "  0.3  5          0.6               0.750       50      0.8831061  0.8411905\n",
       "  0.3  5          0.6               0.750      100      0.8796216  0.8354212\n",
       "  0.3  5          0.6               0.750      150      0.8738360  0.8335531\n",
       "  0.3  5          0.6               0.750      200      0.8701212  0.8259158\n",
       "  0.3  5          0.6               0.750      250      0.8692254  0.8335165\n",
       "  0.3  5          0.6               0.875       50      0.8825735  0.8545788\n",
       "  0.3  5          0.6               0.875      100      0.8742591  0.8373626\n",
       "  0.3  5          0.6               0.875      150      0.8708391  0.8297253\n",
       "  0.3  5          0.6               0.875      200      0.8667481  0.8392857\n",
       "  0.3  5          0.6               0.875      250      0.8648872  0.8411905\n",
       "  0.3  5          0.6               1.000       50      0.8846253  0.8469963\n",
       "  0.3  5          0.6               1.000      100      0.8786457  0.8450183\n",
       "  0.3  5          0.6               1.000      150      0.8731521  0.8469231\n",
       "  0.3  5          0.6               1.000      200      0.8696670  0.8450183\n",
       "  0.3  5          0.6               1.000      250      0.8674030  0.8431136\n",
       "  0.3  5          0.8               0.500       50      0.8828854  0.8526923\n",
       "  0.3  5          0.8               0.500      100      0.8754661  0.8469414\n",
       "  0.3  5          0.8               0.500      150      0.8691354  0.8354579\n",
       "  0.3  5          0.8               0.500      200      0.8646450  0.8315934\n",
       "  0.3  5          0.8               0.500      250      0.8636302  0.8354212\n",
       "  0.3  5          0.8               0.625       50      0.8874495  0.8449817\n",
       "  0.3  5          0.8               0.625      100      0.8745570  0.8373077\n",
       "  0.3  5          0.8               0.625      150      0.8721751  0.8334982\n",
       "  0.3  5          0.8               0.625      200      0.8687315  0.8391575\n",
       "  0.3  5          0.8               0.625      250      0.8654602  0.8353846\n",
       "  0.3  5          0.8               0.750       50      0.8821011  0.8526740\n",
       "  0.3  5          0.8               0.750      100      0.8768444  0.8354762\n",
       "  0.3  5          0.8               0.750      150      0.8739495  0.8392857\n",
       "  0.3  5          0.8               0.750      200      0.8722949  0.8335348\n",
       "  0.3  5          0.8               0.750      250      0.8707673  0.8392308\n",
       "  0.3  5          0.8               0.875       50      0.8852399  0.8430952\n",
       "  0.3  5          0.8               0.875      100      0.8767365  0.8354396\n",
       "  0.3  5          0.8               0.875      150      0.8731075  0.8430952\n",
       "  0.3  5          0.8               0.875      200      0.8702144  0.8411905\n",
       "  0.3  5          0.8               0.875      250      0.8687052  0.8411538\n",
       "  0.3  5          0.8               1.000       50      0.8851880  0.8507692\n",
       "  0.3  5          0.8               1.000      100      0.8784524  0.8430769\n",
       "  0.3  5          0.8               1.000      150      0.8739254  0.8411722\n",
       "  0.3  5          0.8               1.000      200      0.8715565  0.8392857\n",
       "  0.3  5          0.8               1.000      250      0.8678358  0.8373810\n",
       "  0.4  1          0.6               0.500       50      0.8961891  0.8603663\n",
       "  0.4  1          0.6               0.500      100      0.8967066  0.8680403\n",
       "  0.4  1          0.6               0.500      150      0.8926274  0.8680403\n",
       "  0.4  1          0.6               0.500      200      0.8931474  0.8738095\n",
       "  0.4  1          0.6               0.500      250      0.8907422  0.8680586\n",
       "  0.4  1          0.6               0.625       50      0.8967435  0.8718681\n",
       "  0.4  1          0.6               0.625      100      0.8957777  0.8776007\n",
       "  0.4  1          0.6               0.625      150      0.8944029  0.8718498\n",
       "  0.4  1          0.6               0.625      200      0.8918203  0.8623260\n",
       "  0.4  1          0.6               0.625      250      0.8899886  0.8623443\n",
       "  0.4  1          0.6               0.750       50      0.8984535  0.8717949\n",
       "  0.4  1          0.6               0.750      100      0.8969845  0.8756410\n",
       "  0.4  1          0.6               0.750      150      0.8964025  0.8699084\n",
       "  0.4  1          0.6               0.750      200      0.8905956  0.8584432\n",
       "  0.4  1          0.6               0.750      250      0.8949653  0.8661355\n",
       "  0.4  1          0.6               0.875       50      0.9006243  0.8736813\n",
       "  0.4  1          0.6               0.875      100      0.8961817  0.8717582\n",
       "  0.4  1          0.6               0.875      150      0.8928530  0.8660806\n",
       "  0.4  1          0.6               0.875      200      0.8911744  0.8737546\n",
       "  0.4  1          0.6               0.875      250      0.8911613  0.8642125\n",
       "  0.4  1          0.6               1.000       50      0.8974773  0.8756227\n",
       "  0.4  1          0.6               1.000      100      0.8953523  0.8737363\n",
       "  0.4  1          0.6               1.000      150      0.8949317  0.8699267\n",
       "  0.4  1          0.6               1.000      200      0.8943449  0.8680037\n",
       "  0.4  1          0.6               1.000      250      0.8941415  0.8660989\n",
       "  0.4  1          0.8               0.500       50      0.8962040  0.8698718\n",
       "  0.4  1          0.8               0.500      100      0.8917999  0.8603846\n",
       "  0.4  1          0.8               0.500      150      0.8902230  0.8737729\n",
       "  0.4  1          0.8               0.500      200      0.8893762  0.8450366\n",
       "  0.4  1          0.8               0.500      250      0.8906540  0.8622894\n",
       "  0.4  1          0.8               0.625       50      0.8985484  0.8737179\n",
       "  0.4  1          0.8               0.625      100      0.8952336  0.8584249\n",
       "  0.4  1          0.8               0.625      150      0.8936766  0.8641758\n",
       "  0.4  1          0.8               0.625      200      0.8918314  0.8584432\n",
       "  0.4  1          0.8               0.625      250      0.8901855  0.8526923\n",
       "  0.4  1          0.8               0.750       50      0.8981107  0.8718132\n",
       "  0.4  1          0.8               0.750      100      0.8940354  0.8756960\n",
       "  0.4  1          0.8               0.750      150      0.8952827  0.8718681\n",
       "  0.4  1          0.8               0.750      200      0.8950272  0.8623077\n",
       "  0.4  1          0.8               0.750      250      0.8938923  0.8584432\n",
       "  0.4  1          0.8               0.875       50      0.8968780  0.8718315\n",
       "  0.4  1          0.8               0.875      100      0.8953149  0.8680403\n",
       "  0.4  1          0.8               0.875      150      0.8948884  0.8660989\n",
       "  0.4  1          0.8               0.875      200      0.8913990  0.8584249\n",
       "  0.4  1          0.8               0.875      250      0.8918480  0.8565201\n",
       "  0.4  1          0.8               1.000       50      0.8961443  0.8737179\n",
       "  0.4  1          0.8               1.000      100      0.8940769  0.8756044\n",
       "  0.4  1          0.8               1.000      150      0.8939040  0.8737179\n",
       "  0.4  1          0.8               1.000      200      0.8935009  0.8737363\n",
       "  0.4  1          0.8               1.000      250      0.8933156  0.8699084\n",
       "  0.4  2          0.6               0.500       50      0.8918998  0.8565201\n",
       "  0.4  2          0.6               0.500      100      0.8880988  0.8488828\n",
       "  0.4  2          0.6               0.500      150      0.8780548  0.8431502\n",
       "  0.4  2          0.6               0.500      200      0.8745196  0.8393590\n",
       "  0.4  2          0.6               0.500      250      0.8730233  0.8508425\n",
       "  0.4  2          0.6               0.625       50      0.8969473  0.8623077\n",
       "  0.4  2          0.6               0.625      100      0.8921126  0.8603846\n",
       "  0.4  2          0.6               0.625      150      0.8825079  0.8470147\n",
       "  0.4  2          0.6               0.625      200      0.8831810  0.8488828\n",
       "  0.4  2          0.6               0.625      250      0.8839477  0.8430952\n",
       "  0.4  2          0.6               0.750       50      0.8928329  0.8603663\n",
       "  0.4  2          0.6               0.750      100      0.8908555  0.8584982\n",
       "  0.4  2          0.6               0.750      150      0.8853369  0.8527473\n",
       "  0.4  2          0.6               0.750      200      0.8826598  0.8565385\n",
       "  0.4  2          0.6               0.750      250      0.8793788  0.8469597\n",
       "  0.4  2          0.6               0.875       50      0.8933266  0.8679853\n",
       "  0.4  2          0.6               0.875      100      0.8889233  0.8545971\n",
       "  0.4  2          0.6               0.875      150      0.8855325  0.8489011\n",
       "  0.4  2          0.6               0.875      200      0.8807954  0.8412271\n",
       "  0.4  2          0.6               0.875      250      0.8794622  0.8526740\n",
       "  0.4  2          0.6               1.000       50      0.8977277  0.8661355\n",
       "  0.4  2          0.6               1.000      100      0.8943065  0.8508608\n",
       "  0.4  2          0.6               1.000      150      0.8896946  0.8450549\n",
       "  0.4  2          0.6               1.000      200      0.8870430  0.8450183\n",
       "  0.4  2          0.6               1.000      250      0.8848658  0.8430952\n",
       "  0.4  2          0.8               0.500       50      0.8924015  0.8661172\n",
       "  0.4  2          0.8               0.500      100      0.8829792  0.8565568\n",
       "  0.4  2          0.8               0.500      150      0.8770602  0.8316850\n",
       "  0.4  2          0.8               0.500      200      0.8741861  0.8335897\n",
       "  0.4  2          0.8               0.500      250      0.8732812  0.8354396\n",
       "  0.4  2          0.8               0.625       50      0.8952297  0.8546154\n",
       "  0.4  2          0.8               0.625      100      0.8891508  0.8508242\n",
       "  0.4  2          0.8               0.625      150      0.8820209  0.8431868\n",
       "  0.4  2          0.8               0.625      200      0.8787170  0.8374359\n",
       "  0.4  2          0.8               0.625      250      0.8794931  0.8412271\n",
       "  0.4  2          0.8               0.750       50      0.8966669  0.8680403\n",
       "  0.4  2          0.8               0.750      100      0.8906054  0.8699634\n",
       "  0.4  2          0.8               0.750      150      0.8903156  0.8508242\n",
       "  0.4  2          0.8               0.750      200      0.8833399  0.8488828\n",
       "  0.4  2          0.8               0.750      250      0.8830112  0.8393223\n",
       "  0.4  2          0.8               0.875       50      0.8937818  0.8546703\n",
       "  0.4  2          0.8               0.875      100      0.8892659  0.8508425\n",
       "  0.4  2          0.8               0.875      150      0.8855198  0.8508059\n",
       "  0.4  2          0.8               0.875      200      0.8819906  0.8527106\n",
       "  0.4  2          0.8               0.875      250      0.8806424  0.8565201\n",
       "  0.4  2          0.8               1.000       50      0.8963370  0.8622161\n",
       "  0.4  2          0.8               1.000      100      0.8925599  0.8507509\n",
       "  0.4  2          0.8               1.000      150      0.8890622  0.8526740\n",
       "  0.4  2          0.8               1.000      200      0.8860147  0.8526740\n",
       "  0.4  2          0.8               1.000      250      0.8838405  0.8431319\n",
       "  0.4  3          0.6               0.500       50      0.8822316  0.8546154\n",
       "  0.4  3          0.6               0.500      100      0.8790604  0.8450366\n",
       "  0.4  3          0.6               0.500      150      0.8725870  0.8374359\n",
       "  0.4  3          0.6               0.500      200      0.8661945  0.8354945\n",
       "  0.4  3          0.6               0.500      250      0.8623262  0.8393223\n",
       "  0.4  3          0.6               0.625       50      0.8864902  0.8565201\n",
       "  0.4  3          0.6               0.625      100      0.8802397  0.8374176\n",
       "  0.4  3          0.6               0.625      150      0.8758723  0.8373810\n",
       "  0.4  3          0.6               0.625      200      0.8698427  0.8393040\n",
       "  0.4  3          0.6               0.625      250      0.8683013  0.8355128\n",
       "  0.4  3          0.6               0.750       50      0.8862363  0.8527473\n",
       "  0.4  3          0.6               0.750      100      0.8794722  0.8565385\n",
       "  0.4  3          0.6               0.750      150      0.8765237  0.8392857\n",
       "  0.4  3          0.6               0.750      200      0.8696835  0.8336081\n",
       "  0.4  3          0.6               0.750      250      0.8666986  0.8316484\n",
       "  0.4  3          0.6               0.875       50      0.8920098  0.8546703\n",
       "  0.4  3          0.6               0.875      100      0.8839300  0.8450733\n",
       "  0.4  3          0.6               0.875      150      0.8767046  0.8392674\n",
       "  0.4  3          0.6               0.875      200      0.8762796  0.8450000\n",
       "  0.4  3          0.6               0.875      250      0.8741344  0.8335165\n",
       "  0.4  3          0.6               1.000       50      0.8894604  0.8546154\n",
       "  0.4  3          0.6               1.000      100      0.8825715  0.8393407\n",
       "  0.4  3          0.6               1.000      150      0.8786254  0.8412637\n",
       "  0.4  3          0.6               1.000      200      0.8733599  0.8354945\n",
       "  0.4  3          0.6               1.000      250      0.8700456  0.8336081\n",
       "  0.4  3          0.8               0.500       50      0.8879758  0.8432234\n",
       "  0.4  3          0.8               0.500      100      0.8764945  0.8335897\n",
       "  0.4  3          0.8               0.500      150      0.8732580  0.8412271\n",
       "  0.4  3          0.8               0.500      200      0.8640465  0.8354945\n",
       "  0.4  3          0.8               0.500      250      0.8625897  0.8316117\n",
       "  0.4  3          0.8               0.625       50      0.8891997  0.8584799\n",
       "  0.4  3          0.8               0.625      100      0.8800462  0.8488462\n",
       "  0.4  3          0.8               0.625      150      0.8751751  0.8373810\n",
       "  0.4  3          0.8               0.625      200      0.8691170  0.8316117\n",
       "  0.4  3          0.8               0.625      250      0.8679041  0.8335348\n",
       "  0.4  3          0.8               0.750       50      0.8918130  0.8622527\n",
       "  0.4  3          0.8               0.750      100      0.8826862  0.8507875\n",
       "  0.4  3          0.8               0.750      150      0.8741031  0.8392674\n",
       "  0.4  3          0.8               0.750      200      0.8700755  0.8316667\n",
       "  0.4  3          0.8               0.750      250      0.8670755  0.8297253\n",
       "  0.4  3          0.8               0.875       50      0.8956396  0.8622344\n",
       "  0.4  3          0.8               0.875      100      0.8860660  0.8488278\n",
       "  0.4  3          0.8               0.875      150      0.8786886  0.8469414\n",
       "  0.4  3          0.8               0.875      200      0.8754971  0.8392674\n",
       "  0.4  3          0.8               0.875      250      0.8705195  0.8392308\n",
       "  0.4  3          0.8               1.000       50      0.8934151  0.8527106\n",
       "  0.4  3          0.8               1.000      100      0.8852941  0.8450549\n",
       "  0.4  3          0.8               1.000      150      0.8803287  0.8488462\n",
       "  0.4  3          0.8               1.000      200      0.8775194  0.8469597\n",
       "  0.4  3          0.8               1.000      250      0.8741772  0.8450366\n",
       "  0.4  4          0.6               0.500       50      0.8772603  0.8355128\n",
       "  0.4  4          0.6               0.500      100      0.8744805  0.8488278\n",
       "  0.4  4          0.6               0.500      150      0.8677603  0.8449817\n",
       "  0.4  4          0.6               0.500      200      0.8605589  0.8373260\n",
       "  0.4  4          0.6               0.500      250      0.8614796  0.8373810\n",
       "  0.4  4          0.6               0.625       50      0.8803599  0.8335897\n",
       "  0.4  4          0.6               0.625      100      0.8723345  0.8278205\n",
       "  0.4  4          0.6               0.625      150      0.8631428  0.8316667\n",
       "  0.4  4          0.6               0.625      200      0.8608084  0.8393040\n",
       "  0.4  4          0.6               0.625      250      0.8581349  0.8296886\n",
       "  0.4  4          0.6               0.750       50      0.8777798  0.8374176\n",
       "  0.4  4          0.6               0.750      100      0.8728425  0.8354945\n",
       "  0.4  4          0.6               0.750      150      0.8699748  0.8431319\n",
       "  0.4  4          0.6               0.750      200      0.8680587  0.8488645\n",
       "  0.4  4          0.6               0.750      250      0.8663916  0.8393040\n",
       "  0.4  4          0.6               0.875       50      0.8823929  0.8392857\n",
       "  0.4  4          0.6               0.875      100      0.8751445  0.8450183\n",
       "  0.4  4          0.6               0.875      150      0.8706655  0.8488278\n",
       "  0.4  4          0.6               0.875      200      0.8679083  0.8430220\n",
       "  0.4  4          0.6               0.875      250      0.8659591  0.8354212\n",
       "  0.4  4          0.6               1.000       50      0.8873361  0.8526740\n",
       "  0.4  4          0.6               1.000      100      0.8785691  0.8469414\n",
       "  0.4  4          0.6               1.000      150      0.8735945  0.8469048\n",
       "  0.4  4          0.6               1.000      200      0.8722432  0.8430769\n",
       "  0.4  4          0.6               1.000      250      0.8685413  0.8411905\n",
       "  0.4  4          0.8               0.500       50      0.8739863  0.8488095\n",
       "  0.4  4          0.8               0.500      100      0.8714404  0.8469048\n",
       "  0.4  4          0.8               0.500      150      0.8685942  0.8316300\n",
       "  0.4  4          0.8               0.500      200      0.8616311  0.8277656\n",
       "  0.4  4          0.8               0.500      250      0.8576266  0.8182418\n",
       "  0.4  4          0.8               0.625       50      0.8747976  0.8431685\n",
       "  0.4  4          0.8               0.625      100      0.8735943  0.8507692\n",
       "  0.4  4          0.8               0.625      150      0.8679656  0.8240110\n",
       "  0.4  4          0.8               0.625      200      0.8695928  0.8373993\n",
       "  0.4  4          0.8               0.625      250      0.8676267  0.8335714\n",
       "  0.4  4          0.8               0.750       50      0.8833810  0.8488645\n",
       "  0.4  4          0.8               0.750      100      0.8771045  0.8507509\n",
       "  0.4  4          0.8               0.750      150      0.8719307  0.8431136\n",
       "  0.4  4          0.8               0.750      200      0.8715999  0.8316300\n",
       "  0.4  4          0.8               0.750      250      0.8703322  0.8373443\n",
       "  0.4  4          0.8               0.875       50      0.8833461  0.8469414\n",
       "  0.4  4          0.8               0.875      100      0.8771341  0.8277656\n",
       "  0.4  4          0.8               0.875      150      0.8694929  0.8200916\n",
       "  0.4  4          0.8               0.875      200      0.8664905  0.8239194\n",
       "  0.4  4          0.8               0.875      250      0.8636329  0.8239011\n",
       "  0.4  4          0.8               1.000       50      0.8893021  0.8564835\n",
       "  0.4  4          0.8               1.000      100      0.8785996  0.8411538\n",
       "  0.4  4          0.8               1.000      150      0.8736405  0.8392857\n",
       "  0.4  4          0.8               1.000      200      0.8712279  0.8297436\n",
       "  0.4  4          0.8               1.000      250      0.8694839  0.8278388\n",
       "  0.4  5          0.6               0.500       50      0.8770901  0.8392674\n",
       "  0.4  5          0.6               0.500      100      0.8737072  0.8430769\n",
       "  0.4  5          0.6               0.500      150      0.8687503  0.8431136\n",
       "  0.4  5          0.6               0.500      200      0.8681305  0.8431136\n",
       "  0.4  5          0.6               0.500      250      0.8647404  0.8296520\n",
       "  0.4  5          0.6               0.625       50      0.8738565  0.8374359\n",
       "  0.4  5          0.6               0.625      100      0.8714847  0.8393223\n",
       "  0.4  5          0.6               0.625      150      0.8702187  0.8278388\n",
       "  0.4  5          0.6               0.625      200      0.8663844  0.8297802\n",
       "  0.4  5          0.6               0.625      250      0.8638038  0.8239927\n",
       "  0.4  5          0.6               0.750       50      0.8751136  0.8525824\n",
       "  0.4  5          0.6               0.750      100      0.8692038  0.8373993\n",
       "  0.4  5          0.6               0.750      150      0.8641682  0.8354396\n",
       "  0.4  5          0.6               0.750      200      0.8635862  0.8373810\n",
       "  0.4  5          0.6               0.750      250      0.8624658  0.8354762\n",
       "  0.4  5          0.6               0.875       50      0.8772806  0.8316667\n",
       "  0.4  5          0.6               0.875      100      0.8720408  0.8278205\n",
       "  0.4  5          0.6               0.875      150      0.8690826  0.8278022\n",
       "  0.4  5          0.6               0.875      200      0.8659900  0.8316117\n",
       "  0.4  5          0.6               0.875      250      0.8637260  0.8278022\n",
       "  0.4  5          0.6               1.000       50      0.8836528  0.8373810\n",
       "  0.4  5          0.6               1.000      100      0.8782413  0.8449817\n",
       "  0.4  5          0.6               1.000      150      0.8736349  0.8373077\n",
       "  0.4  5          0.6               1.000      200      0.8690955  0.8373260\n",
       "  0.4  5          0.6               1.000      250      0.8672675  0.8296886\n",
       "  0.4  5          0.8               0.500       50      0.8765133  0.8354579\n",
       "  0.4  5          0.8               0.500      100      0.8690776  0.8335348\n",
       "  0.4  5          0.8               0.500      150      0.8658900  0.8315751\n",
       "  0.4  5          0.8               0.500      200      0.8675161  0.8411722\n",
       "  0.4  5          0.8               0.500      250      0.8675823  0.8258608\n",
       "  0.4  5          0.8               0.625       50      0.8757672  0.8449817\n",
       "  0.4  5          0.8               0.625      100      0.8676304  0.8315934\n",
       "  0.4  5          0.8               0.625      150      0.8669910  0.8277839\n",
       "  0.4  5          0.8               0.625      200      0.8634420  0.8373626\n",
       "  0.4  5          0.8               0.625      250      0.8604495  0.8258608\n",
       "  0.4  5          0.8               0.750       50      0.8774780  0.8373993\n",
       "  0.4  5          0.8               0.750      100      0.8735842  0.8430952\n",
       "  0.4  5          0.8               0.750      150      0.8716480  0.8373077\n",
       "  0.4  5          0.8               0.750      200      0.8687736  0.8373260\n",
       "  0.4  5          0.8               0.750      250      0.8640986  0.8315934\n",
       "  0.4  5          0.8               0.875       50      0.8783567  0.8507875\n",
       "  0.4  5          0.8               0.875      100      0.8710401  0.8469048\n",
       "  0.4  5          0.8               0.875      150      0.8689103  0.8450000\n",
       "  0.4  5          0.8               0.875      200      0.8658966  0.8411538\n",
       "  0.4  5          0.8               0.875      250      0.8652405  0.8430769\n",
       "  0.4  5          0.8               1.000       50      0.8838810  0.8507875\n",
       "  0.4  5          0.8               1.000      100      0.8747140  0.8430952\n",
       "  0.4  5          0.8               1.000      150      0.8712623  0.8412088\n",
       "  0.4  5          0.8               1.000      200      0.8675665  0.8392857\n",
       "  0.4  5          0.8               1.000      250      0.8663887  0.8373626\n",
       "  Spec     \n",
       "  0.7394844\n",
       "  0.7423338\n",
       "  0.7184080\n",
       "  0.7453641\n",
       "  0.7334238\n",
       "  0.7573948\n",
       "  0.7333786\n",
       "  0.7303030\n",
       "  0.7273180\n",
       "  0.7333786\n",
       "  0.7423338\n",
       "  0.7422433\n",
       "  0.7422886\n",
       "  0.7183627\n",
       "  0.7274084\n",
       "  0.7424695\n",
       "  0.7483944\n",
       "  0.7303483\n",
       "  0.7303483\n",
       "  0.7303935\n",
       "  0.7514699\n",
       "  0.7364089\n",
       "  0.7304387\n",
       "  0.7303483\n",
       "  0.7213930\n",
       "  0.7604704\n",
       "  0.7573044\n",
       "  0.7451832\n",
       "  0.7363636\n",
       "  0.7273180\n",
       "  0.7393939\n",
       "  0.7393487\n",
       "  0.7303483\n",
       "  0.7364089\n",
       "  0.7453641\n",
       "  0.7633650\n",
       "  0.7632745\n",
       "  0.7483944\n",
       "  0.7423790\n",
       "  0.7482587\n",
       "  0.7634102\n",
       "  0.7483944\n",
       "  0.7453641\n",
       "  0.7423338\n",
       "  0.7422886\n",
       "  0.7514247\n",
       "  0.7483492\n",
       "  0.7363636\n",
       "  0.7303483\n",
       "  0.7303483\n",
       "  0.7363184\n",
       "  0.7184080\n",
       "  0.7242877\n",
       "  0.7452736\n",
       "  0.7453641\n",
       "  0.7542741\n",
       "  0.7512890\n",
       "  0.7572592\n",
       "  0.7333786\n",
       "  0.7303030\n",
       "  0.7454093\n",
       "  0.7484396\n",
       "  0.7423338\n",
       "  0.7483944\n",
       "  0.7364541\n",
       "  0.7453641\n",
       "  0.7603799\n",
       "  0.7603347\n",
       "  0.7633650\n",
       "  0.7544098\n",
       "  0.7483492\n",
       "  0.7544098\n",
       "  0.7513795\n",
       "  0.7483944\n",
       "  0.7393939\n",
       "  0.7543645\n",
       "  0.7333786\n",
       "  0.7603347\n",
       "  0.7573044\n",
       "  0.7573496\n",
       "  0.7544098\n",
       "  0.7393487\n",
       "  0.7573496\n",
       "  0.7513342\n",
       "  0.7543645\n",
       "  0.7423338\n",
       "  0.7453189\n",
       "  0.7482587\n",
       "  0.7243329\n",
       "  0.7334238\n",
       "  0.7512890\n",
       "  0.7364089\n",
       "  0.7393939\n",
       "  0.7394392\n",
       "  0.7454093\n",
       "  0.7513342\n",
       "  0.7693351\n",
       "  0.7603347\n",
       "  0.7573948\n",
       "  0.7574401\n",
       "  0.7573948\n",
       "  0.7243329\n",
       "  0.7273632\n",
       "  0.7393939\n",
       "  0.7332881\n",
       "  0.7452736\n",
       "  0.7454093\n",
       "  0.7513342\n",
       "  0.7423338\n",
       "  0.7363636\n",
       "  0.7512890\n",
       "  0.7483492\n",
       "  0.7393487\n",
       "  0.7422886\n",
       "  0.7332881\n",
       "  0.7604704\n",
       "  0.7634102\n",
       "  0.7484848\n",
       "  0.7663953\n",
       "  0.7483492\n",
       "  0.7422886\n",
       "  0.7423338\n",
       "  0.7512890\n",
       "  0.7423790\n",
       "  0.7424242\n",
       "  0.7602895\n",
       "  0.7663501\n",
       "  0.7483039\n",
       "  0.7573496\n",
       "  0.7423338\n",
       "  0.7303030\n",
       "  0.7631389\n",
       "  0.7423790\n",
       "  0.7421981\n",
       "  0.7602895\n",
       "  0.7453189\n",
       "  0.7184080\n",
       "  0.7303030\n",
       "  0.7452284\n",
       "  0.7573496\n",
       "  0.7514699\n",
       "  0.7573044\n",
       "  0.7393487\n",
       "  0.7543645\n",
       "  0.7603799\n",
       "  0.7483039\n",
       "  0.7483039\n",
       "  0.7394844\n",
       "  0.7424695\n",
       "  0.7514699\n",
       "  0.7334238\n",
       "  0.7363636\n",
       "  0.7273180\n",
       "  0.7453641\n",
       "  0.7392583\n",
       "  0.7603347\n",
       "  0.7483944\n",
       "  0.7513342\n",
       "  0.7304387\n",
       "  0.7303935\n",
       "  0.7364089\n",
       "  0.7364089\n",
       "  0.7363636\n",
       "  0.7364089\n",
       "  0.7274084\n",
       "  0.7603347\n",
       "  0.7513342\n",
       "  0.7512438\n",
       "  0.7483492\n",
       "  0.7422886\n",
       "  0.7511986\n",
       "  0.7303030\n",
       "  0.7362732\n",
       "  0.7153777\n",
       "  0.7153777\n",
       "  0.7483039\n",
       "  0.7451832\n",
       "  0.7331524\n",
       "  0.7422433\n",
       "  0.7331976\n",
       "  0.7634555\n",
       "  0.7455450\n",
       "  0.7305292\n",
       "  0.7184984\n",
       "  0.7185889\n",
       "  0.7543645\n",
       "  0.7483492\n",
       "  0.7604251\n",
       "  0.7604251\n",
       "  0.7544098\n",
       "  0.7603799\n",
       "  0.7513342\n",
       "  0.7514247\n",
       "  0.7543645\n",
       "  0.7543193\n",
       "  0.7603799\n",
       "  0.7483492\n",
       "  0.7483944\n",
       "  0.7363636\n",
       "  0.7334238\n",
       "  0.7423790\n",
       "  0.7603347\n",
       "  0.7573496\n",
       "  0.7273632\n",
       "  0.7272727\n",
       "  0.7422886\n",
       "  0.7423338\n",
       "  0.7334238\n",
       "  0.7393939\n",
       "  0.7393487\n",
       "  0.7394844\n",
       "  0.7423790\n",
       "  0.7483039\n",
       "  0.7483039\n",
       "  0.7332881\n",
       "  0.7604251\n",
       "  0.7451832\n",
       "  0.7482587\n",
       "  0.7393035\n",
       "  0.7454093\n",
       "  0.7483492\n",
       "  0.7274084\n",
       "  0.7363636\n",
       "  0.7213930\n",
       "  0.7213930\n",
       "  0.7393939\n",
       "  0.7364089\n",
       "  0.7303030\n",
       "  0.7454093\n",
       "  0.7243781\n",
       "  0.7454545\n",
       "  0.7454093\n",
       "  0.7335142\n",
       "  0.7424695\n",
       "  0.7245138\n",
       "  0.7454545\n",
       "  0.7545455\n",
       "  0.7424242\n",
       "  0.7574853\n",
       "  0.7395296\n",
       "  0.7603799\n",
       "  0.7455450\n",
       "  0.7363636\n",
       "  0.7273632\n",
       "  0.7334238\n",
       "  0.7453641\n",
       "  0.7424242\n",
       "  0.7334238\n",
       "  0.7424695\n",
       "  0.7364993\n",
       "  0.7724559\n",
       "  0.7543645\n",
       "  0.7242877\n",
       "  0.7302578\n",
       "  0.7572592\n",
       "  0.7515152\n",
       "  0.7214383\n",
       "  0.7423790\n",
       "  0.7334238\n",
       "  0.7214383\n",
       "  0.7543645\n",
       "  0.7453189\n",
       "  0.7303030\n",
       "  0.7213026\n",
       "  0.7303935\n",
       "  0.7573496\n",
       "  0.7543645\n",
       "  0.7364089\n",
       "  0.7274989\n",
       "  0.7244686\n",
       "  0.7364541\n",
       "  0.7424242\n",
       "  0.7393939\n",
       "  0.7303935\n",
       "  0.7244233\n",
       "  0.7664405\n",
       "  0.7634102\n",
       "  0.7244233\n",
       "  0.7392583\n",
       "  0.7393035\n",
       "  0.7634555\n",
       "  0.7394844\n",
       "  0.7425147\n",
       "  0.7274084\n",
       "  0.7513795\n",
       "  0.7573948\n",
       "  0.7364089\n",
       "  0.7243781\n",
       "  0.7274084\n",
       "  0.7483944\n",
       "  0.7513342\n",
       "  0.7332881\n",
       "  0.7273180\n",
       "  0.7272727\n",
       "  0.7364089\n",
       "  0.7364541\n",
       "  0.7303935\n",
       "  0.7243781\n",
       "  0.7244233\n",
       "  0.7303935\n",
       "  0.7393035\n",
       "  0.7303935\n",
       "  0.7333333\n",
       "  0.7184080\n",
       "  0.7213930\n",
       "  0.7513795\n",
       "  0.7542289\n",
       "  0.7333333\n",
       "  0.7363636\n",
       "  0.7572592\n",
       "  0.7243781\n",
       "  0.7423338\n",
       "  0.7303483\n",
       "  0.7392130\n",
       "  0.7453189\n",
       "  0.7512438\n",
       "  0.7424242\n",
       "  0.7362732\n",
       "  0.7452736\n",
       "  0.7363636\n",
       "  0.7304387\n",
       "  0.7483039\n",
       "  0.7454093\n",
       "  0.7393939\n",
       "  0.7394392\n",
       "  0.7753505\n",
       "  0.7484848\n",
       "  0.7663501\n",
       "  0.7573948\n",
       "  0.7454093\n",
       "  0.7335595\n",
       "  0.7515152\n",
       "  0.7544550\n",
       "  0.7544098\n",
       "  0.7363636\n",
       "  0.7393939\n",
       "  0.7423790\n",
       "  0.7423790\n",
       "  0.7724107\n",
       "  0.7634555\n",
       "  0.7453189\n",
       "  0.7574853\n",
       "  0.7603799\n",
       "  0.7513795\n",
       "  0.7544550\n",
       "  0.7393487\n",
       "  0.7484396\n",
       "  0.7484396\n",
       "  0.7574401\n",
       "  0.7573948\n",
       "  0.7332429\n",
       "  0.7422433\n",
       "  0.7392583\n",
       "  0.7303030\n",
       "  0.7153324\n",
       "  0.7423338\n",
       "  0.7482587\n",
       "  0.7662596\n",
       "  0.7631389\n",
       "  0.7632745\n",
       "  0.7393939\n",
       "  0.7243781\n",
       "  0.7483492\n",
       "  0.7302578\n",
       "  0.7302578\n",
       "  0.7573948\n",
       "  0.7513795\n",
       "  0.7393035\n",
       "  0.7363636\n",
       "  0.7304387\n",
       "  0.7513795\n",
       "  0.7302578\n",
       "  0.7361827\n",
       "  0.7332429\n",
       "  0.7183175\n",
       "  0.7452736\n",
       "  0.7633198\n",
       "  0.7512890\n",
       "  0.7332881\n",
       "  0.7274536\n",
       "  0.7634102\n",
       "  0.7335142\n",
       "  0.7394392\n",
       "  0.7244233\n",
       "  0.7124830\n",
       "  0.7393487\n",
       "  0.7423338\n",
       "  0.7424242\n",
       "  0.7484396\n",
       "  0.7334238\n",
       "  0.7722298\n",
       "  0.7603799\n",
       "  0.7693351\n",
       "  0.7572592\n",
       "  0.7483492\n",
       "  0.7693804\n",
       "  0.7543645\n",
       "  0.7573496\n",
       "  0.7424242\n",
       "  0.7304387\n",
       "  0.7423338\n",
       "  0.7453189\n",
       "  0.7452284\n",
       "  0.7273180\n",
       "  0.7244233\n",
       "  0.7482587\n",
       "  0.7334238\n",
       "  0.7123926\n",
       "  0.7034826\n",
       "  0.7034374\n",
       "  0.7394844\n",
       "  0.7513342\n",
       "  0.7512890\n",
       "  0.7422886\n",
       "  0.7453641\n",
       "  0.7423338\n",
       "  0.7364089\n",
       "  0.7154229\n",
       "  0.7364089\n",
       "  0.7304387\n",
       "  0.7753957\n",
       "  0.7754410\n",
       "  0.7634102\n",
       "  0.7395296\n",
       "  0.7455902\n",
       "  0.7394392\n",
       "  0.7304839\n",
       "  0.7335142\n",
       "  0.7484848\n",
       "  0.7274536\n",
       "  0.7214835\n",
       "  0.7454998\n",
       "  0.7393487\n",
       "  0.7273632\n",
       "  0.7393487\n",
       "  0.7482587\n",
       "  0.7454545\n",
       "  0.7424242\n",
       "  0.7394844\n",
       "  0.7454545\n",
       "  0.7662596\n",
       "  0.7513342\n",
       "  0.7422886\n",
       "  0.7303483\n",
       "  0.7243781\n",
       "  0.7573044\n",
       "  0.7663501\n",
       "  0.7485301\n",
       "  0.7515152\n",
       "  0.7425147\n",
       "  0.7482587\n",
       "  0.7543645\n",
       "  0.7362732\n",
       "  0.7603347\n",
       "  0.7452736\n",
       "  0.7421529\n",
       "  0.7483039\n",
       "  0.7422433\n",
       "  0.7303030\n",
       "  0.7422433\n",
       "  0.7363184\n",
       "  0.7183175\n",
       "  0.7243329\n",
       "  0.7152872\n",
       "  0.6973768\n",
       "  0.7633198\n",
       "  0.7454093\n",
       "  0.7454545\n",
       "  0.7483492\n",
       "  0.7483944\n",
       "  0.7513795\n",
       "  0.7364541\n",
       "  0.7274084\n",
       "  0.7304839\n",
       "  0.7244686\n",
       "  0.7393035\n",
       "  0.7334238\n",
       "  0.7453641\n",
       "  0.7393939\n",
       "  0.7424695\n",
       "  0.7483944\n",
       "  0.7513342\n",
       "  0.7334238\n",
       "  0.7364089\n",
       "  0.7394844\n",
       "  0.7543645\n",
       "  0.7514699\n",
       "  0.7394844\n",
       "  0.7454545\n",
       "  0.7545002\n",
       "  0.7483492\n",
       "  0.7512438\n",
       "  0.7393487\n",
       "  0.7393487\n",
       "  0.7334238\n",
       "  0.7603347\n",
       "  0.7215287\n",
       "  0.7155586\n",
       "  0.7215287\n",
       "  0.7185436\n",
       "\n",
       "Tuning parameter 'gamma' was held constant at a value of 0\n",
       "Tuning\n",
       " parameter 'min_child_weight' was held constant at a value of 1\n",
       "ROC was used to select the optimal model using  the largest value.\n",
       "The final values used for the model were nrounds = 50, max_depth = 2, eta\n",
       " = 0.3, gamma = 0, colsample_bytree = 0.8, min_child_weight = 1 and subsample\n",
       " = 0.75."
      ]
     },
     "metadata": {},
     "output_type": "display_data"
    }
   ],
   "source": [
    "set.seed(100)\n",
    "\n",
    "# Train the model using MARS\n",
    "model_xgbDART = train(Purchase ~ ., data=trainData, method='xgbTree', tuneLength=5, trControl = fitControl, verbose=F)\n",
    "model_xgbDART"
   ]
  },
  {
   "cell_type": "code",
   "execution_count": 62,
   "metadata": {},
   "outputs": [],
   "source": [
    "### SVM"
   ]
  },
  {
   "cell_type": "code",
   "execution_count": 63,
   "metadata": {},
   "outputs": [
    {
     "name": "stderr",
     "output_type": "stream",
     "text": [
      "Loading required package: kernlab\n",
      "\n",
      "Attaching package: 'kernlab'\n",
      "\n",
      "The following object is masked from 'package:ggplot2':\n",
      "\n",
      "    alpha\n",
      "\n"
     ]
    },
    {
     "data": {
      "text/plain": [
       "Support Vector Machines with Radial Basis Function Kernel \n",
       "\n",
       "857 samples\n",
       " 18 predictor\n",
       "  2 classes: 'CH', 'MM' \n",
       "\n",
       "No pre-processing\n",
       "Resampling: Cross-Validated (5 fold) \n",
       "Summary of sample sizes: 686, 686, 686, 685, 685 \n",
       "Resampling results across tuning parameters:\n",
       "\n",
       "  C        ROC        Sens       Spec     \n",
       "     0.25  0.8907101  0.8909890  0.7274989\n",
       "     0.50  0.8942617  0.8929121  0.7364993\n",
       "     1.00  0.8945757  0.8891209  0.7364993\n",
       "     2.00  0.8951246  0.8968132  0.7274536\n",
       "     4.00  0.8882141  0.8910623  0.7184984\n",
       "     8.00  0.8838651  0.8872527  0.6944369\n",
       "    16.00  0.8798716  0.8795604  0.7064224\n",
       "    32.00  0.8675045  0.8815018  0.6794663\n",
       "    64.00  0.8566042  0.8662454  0.6764812\n",
       "   128.00  0.8473979  0.8700000  0.6736318\n",
       "   256.00  0.8304468  0.8623443  0.6646766\n",
       "   512.00  0.8154694  0.8604212  0.6647218\n",
       "  1024.00  0.8084394  0.8776374  0.6316147\n",
       "  2048.00  0.8080512  0.8852747  0.5270918\n",
       "  4096.00  0.8086072  0.8853297  0.5719584\n",
       "\n",
       "Tuning parameter 'sigma' was held constant at a value of 0.06336077\n",
       "ROC was used to select the optimal model using  the largest value.\n",
       "The final values used for the model were sigma = 0.06336077 and C = 2."
      ]
     },
     "metadata": {},
     "output_type": "display_data"
    }
   ],
   "source": [
    "set.seed(100)\n",
    "\n",
    "# Train the model using MARS\n",
    "model_svmRadial = train(Purchase ~ ., data=trainData, method='svmRadial', tuneLength=15, trControl = fitControl)\n",
    "model_svmRadial"
   ]
  },
  {
   "cell_type": "code",
   "execution_count": 64,
   "metadata": {},
   "outputs": [
    {
     "data": {
      "text/plain": [
       "\n",
       "Call:\n",
       "summary.resamples(object = models_compare)\n",
       "\n",
       "Models: ADABOOST, RF, XGTREE_OR_XGBDART, MARS, SVM \n",
       "Number of resamples: 5 \n",
       "\n",
       "ROC \n",
       "                       Min.   1st Qu.    Median      Mean   3rd Qu.      Max.\n",
       "ADABOOST          0.8521096 0.8679679 0.8767591 0.8774557 0.8881674 0.9022743\n",
       "RF                0.8763634 0.8777056 0.8864093 0.8855086 0.8915423 0.8955224\n",
       "XGTREE_OR_XGBDART 0.8915040 0.8919913 0.9017768 0.9009226 0.9079602 0.9113806\n",
       "MARS              0.8784993 0.8981774 0.9041933 0.8988934 0.9052813 0.9083156\n",
       "SVM               0.8747475 0.8909026 0.8941720 0.8951246 0.8949483 0.9208525\n",
       "                  NA's\n",
       "ADABOOST             0\n",
       "RF                   0\n",
       "XGTREE_OR_XGBDART    0\n",
       "MARS                 0\n",
       "SVM                  0\n",
       "\n",
       "Sens \n",
       "                       Min.   1st Qu.    Median      Mean   3rd Qu.      Max.\n",
       "ADABOOST          0.7788462 0.7884615 0.8000000 0.8086996 0.8095238 0.8666667\n",
       "RF                0.8269231 0.8269231 0.8666667 0.8583883 0.8857143 0.8857143\n",
       "XGTREE_OR_XGBDART 0.8557692 0.8750000 0.8761905 0.8756777 0.8761905 0.8952381\n",
       "MARS              0.8476190 0.8557692 0.8653846 0.8642308 0.8666667 0.8857143\n",
       "SVM               0.8666667 0.8666667 0.8942308 0.8968132 0.9238095 0.9326923\n",
       "                  NA's\n",
       "ADABOOST             0\n",
       "RF                   0\n",
       "XGTREE_OR_XGBDART    0\n",
       "MARS                 0\n",
       "SVM                  0\n",
       "\n",
       "Spec \n",
       "                       Min.   1st Qu.    Median      Mean   3rd Qu.      Max.\n",
       "ADABOOST          0.7462687 0.7611940 0.7878788 0.7874265 0.8059701 0.8358209\n",
       "RF                0.6865672 0.7121212 0.7462687 0.7304839 0.7462687 0.7611940\n",
       "XGTREE_OR_XGBDART 0.6818182 0.7313433 0.7611940 0.7423338 0.7611940 0.7761194\n",
       "MARS              0.7313433 0.7462687 0.7727273 0.7724559 0.7761194 0.8358209\n",
       "SVM               0.6969697 0.7164179 0.7313433 0.7274536 0.7462687 0.7462687\n",
       "                  NA's\n",
       "ADABOOST             0\n",
       "RF                   0\n",
       "XGTREE_OR_XGBDART    0\n",
       "MARS                 0\n",
       "SVM                  0\n"
      ]
     },
     "metadata": {},
     "output_type": "display_data"
    }
   ],
   "source": [
    "# Compare model performances using resample()\n",
    "models_compare <- resamples(list(ADABOOST=model_adaboost, RF=model_rf, XGTREE_OR_XGBDART=model_xgbDART, MARS=model_mars3, SVM=model_svmRadial))\n",
    "\n",
    "# Summary of the models performances\n",
    "summary(models_compare)"
   ]
  },
  {
   "cell_type": "code",
   "execution_count": 65,
   "metadata": {},
   "outputs": [
    {
     "data": {},
     "metadata": {},
     "output_type": "display_data"
    },
    {
     "data": {
      "image/png": "[encoded data removed]",
      "text/plain": [
       "plot without title"
      ]
     },
     "metadata": {},
     "output_type": "display_data"
    }
   ],
   "source": [
    "# Draw box plots to compare models\n",
    "scales <- list(x=list(relation=\"free\"), y=list(relation=\"free\"))\n",
    "bwplot(models_compare, scales=scales)"
   ]
  },
  {
   "cell_type": "markdown",
   "metadata": {},
   "source": [
    "XG Tree has hisghest ROC.. \n",
    "wins by the whisker.. literally... look at the box plot above :D  \n",
    "\n",
    "Sensitivity / true positive rate/ recall/ probability of detection:: proportion of positives that are correctly identified as such  \n",
    "Specificity (also called the true negative rate) measures the proportion of negatives that are correctly identified as such  \n",
    "\n",
    "https://en.wikipedia.org/wiki/Sensitivity_and_specificity"
   ]
  },
  {
   "cell_type": "markdown",
   "metadata": {},
   "source": [
    "SVM has higher sensitivity.. since we are concerned with the model's ability to detect true positives..  \n",
    "Either way.. now there is enough data to make an informed decicion regarding which one among these is a good model"
   ]
  },
  {
   "cell_type": "markdown",
   "metadata": {},
   "source": [
    "#### To summarize train() function once for each model, store the models and pass it to the resamples function"
   ]
  },
  {
   "cell_type": "markdown",
   "metadata": {},
   "source": [
    " ensemble predictions from multiple models using caretEnsemble"
   ]
  },
  {
   "cell_type": "code",
   "execution_count": 69,
   "metadata": {},
   "outputs": [
    {
     "data": {
      "text/plain": [
       "\n",
       "Call:\n",
       "summary.resamples(object = results)\n",
       "\n",
       "Models: rf, adaboost, earth, xgbTree, svmRadial \n",
       "Number of resamples: 30 \n",
       "\n",
       "Accuracy \n",
       "               Min.   1st Qu.    Median      Mean   3rd Qu.      Max. NA's\n",
       "rf        0.6896552 0.7882353 0.8023256 0.8052527 0.8250684 0.8941176    0\n",
       "adaboost  0.7058824 0.7771204 0.8011628 0.7962704 0.8139535 0.8823529    0\n",
       "earth     0.7209302 0.7930233 0.8187415 0.8168097 0.8367305 0.8604651    0\n",
       "xgbTree   0.7325581 0.8023256 0.8314402 0.8300380 0.8563269 0.8953488    0\n",
       "svmRadial 0.7558140 0.7948276 0.8362517 0.8273516 0.8600547 0.9176471    0\n",
       "\n",
       "Kappa \n",
       "               Min.   1st Qu.    Median      Mean   3rd Qu.      Max. NA's\n",
       "rf        0.3232498 0.5277087 0.5705040 0.5775837 0.6222222 0.7783251    0\n",
       "adaboost  0.3842365 0.5273752 0.5776917 0.5706474 0.6189906 0.7576967    0\n",
       "earth     0.4102857 0.5700036 0.6148850 0.6102871 0.6580869 0.7147595    0\n",
       "xgbTree   0.4490251 0.5767159 0.6453726 0.6379834 0.6943680 0.7848805    0\n",
       "svmRadial 0.4685109 0.5611365 0.6464787 0.6308687 0.6985409 0.8256666    0\n"
      ]
     },
     "metadata": {},
     "output_type": "display_data"
    }
   ],
   "source": [
    "library(caretEnsemble)\n",
    "\n",
    "# Stacking Algorithms - Run multiple algos in one call.\n",
    "trainControl <- trainControl(method=\"repeatedcv\", \n",
    "                             number=10, \n",
    "                             repeats=3,\n",
    "                             savePredictions=TRUE, \n",
    "                             classProbs=TRUE)\n",
    "\n",
    "#algorithmList <- c('rf', 'adaboost', 'earth', 'xgbDART', 'svmRadial')\n",
    "algorithmList <- c('rf', 'adaboost', 'earth', 'xgbTree', 'svmRadial')\n",
    "\n",
    "set.seed(100)\n",
    "models <- caretList(Purchase ~ ., data=trainData, trControl=trainControl, methodList=algorithmList) \n",
    "results <- resamples(models)\n",
    "summary(results)"
   ]
  },
  {
   "cell_type": "code",
   "execution_count": 70,
   "metadata": {},
   "outputs": [
    {
     "data": {},
     "metadata": {},
     "output_type": "display_data"
    },
    {
     "data": {
      "image/png": "[encoded data removed]",
      "text/plain": [
       "plot without title"
      ]
     },
     "metadata": {},
     "output_type": "display_data"
    }
   ],
   "source": [
    "# Box plots to compare models\n",
    "scales <- list(x=list(relation=\"free\"), y=list(relation=\"free\"))\n",
    "bwplot(results, scales=scales)"
   ]
  },
  {
   "cell_type": "markdown",
   "metadata": {},
   "source": [
    "It is possible to combine these predicted values from multiple models somehow and make a new ensemble that predicts better  \n",
    "caretStack()"
   ]
  },
  {
   "cell_type": "code",
   "execution_count": 71,
   "metadata": {},
   "outputs": [
    {
     "name": "stdout",
     "output_type": "stream",
     "text": [
      "A glm ensemble of 2 base models: rf, adaboost, earth, xgbTree, svmRadial\n",
      "\n",
      "Ensemble results:\n",
      "Generalized Linear Model \n",
      "\n",
      "2571 samples\n",
      "   5 predictor\n",
      "   2 classes: 'CH', 'MM' \n",
      "\n",
      "No pre-processing\n",
      "Resampling: Cross-Validated (10 fold, repeated 3 times) \n",
      "Summary of sample sizes: 2313, 2314, 2314, 2314, 2314, 2314, ... \n",
      "Resampling results:\n",
      "\n",
      "  Accuracy  Kappa    \n",
      "  0.830682  0.6391797\n",
      "\n"
     ]
    }
   ],
   "source": [
    "# Create the trainControl\n",
    "set.seed(101)\n",
    "stackControl <- trainControl(method=\"repeatedcv\", \n",
    "                             number=10, \n",
    "                             repeats=3,\n",
    "                             savePredictions=TRUE, \n",
    "                             classProbs=TRUE)\n",
    "\n",
    "# Ensemble the predictions of `models` to form a new combined prediction based on glm\n",
    "stack.glm <- caretStack(models, method=\"glm\", metric=\"Accuracy\", trControl=stackControl)\n",
    "print(stack.glm)"
   ]
  },
  {
   "cell_type": "markdown",
   "metadata": {},
   "source": [
    "The models object has been defined already as above.. "
   ]
  },
  {
   "cell_type": "markdown",
   "metadata": {},
   "source": [
    "A point to consider: The ensembles tend to perform better if the predictions are less correlated with each other.\n",
    "\n",
    "So you may want to try passing different types of models,   \n",
    "both high and low performing rather than just stick to passing high accuracy models to the caretStack"
   ]
  },
  {
   "cell_type": "code",
   "execution_count": 73,
   "metadata": {},
   "outputs": [
    {
     "name": "stdout",
     "output_type": "stream",
     "text": [
      "A glm ensemble of 2 base models: rf, adaboost, earth, xgbTree, svmRadial\n",
      "\n",
      "Ensemble results:\n",
      "Generalized Linear Model \n",
      "\n",
      "2571 samples\n",
      "   5 predictor\n",
      "   2 classes: 'CH', 'MM' \n",
      "\n",
      "No pre-processing\n",
      "Resampling: Cross-Validated (10 fold, repeated 3 times) \n",
      "Summary of sample sizes: 2313, 2314, 2314, 2314, 2314, 2314, ... \n",
      "Resampling results:\n",
      "\n",
      "  Accuracy  Kappa    \n",
      "  0.830682  0.6391797\n",
      "\n"
     ]
    }
   ],
   "source": [
    "print(stack.glm)"
   ]
  },
  {
   "cell_type": "code",
   "execution_count": 74,
   "metadata": {},
   "outputs": [
    {
     "data": {
      "text/html": [
       "<ol class=list-inline>\n",
       "\t<li>CH</li>\n",
       "\t<li>CH</li>\n",
       "\t<li>CH</li>\n",
       "\t<li>CH</li>\n",
       "\t<li>CH</li>\n",
       "\t<li>MM</li>\n",
       "</ol>\n"
      ],
      "text/latex": [
       "\\begin{enumerate*}\n",
       "\\item CH\n",
       "\\item CH\n",
       "\\item CH\n",
       "\\item CH\n",
       "\\item CH\n",
       "\\item MM\n",
       "\\end{enumerate*}\n"
      ],
      "text/markdown": [
       "1. CH\n",
       "2. CH\n",
       "3. CH\n",
       "4. CH\n",
       "5. CH\n",
       "6. MM\n",
       "\n",
       "\n"
      ],
      "text/plain": [
       "[1] CH CH CH CH CH MM\n",
       "Levels: CH MM"
      ]
     },
     "metadata": {},
     "output_type": "display_data"
    }
   ],
   "source": [
    "# Predict on testData\n",
    "stack_predicteds <- predict(stack.glm, newdata=testData4)\n",
    "head(stack_predicteds)"
   ]
  },
  {
   "cell_type": "code",
   "execution_count": null,
   "metadata": {},
   "outputs": [],
   "source": []
  },
  {
   "cell_type": "code",
   "execution_count": null,
   "metadata": {},
   "outputs": [],
   "source": []
  }
 ],
 "metadata": {
  "kernelspec": {
   "display_name": "R",
   "language": "R",
   "name": "ir"
  },
  "language_info": {
   "codemirror_mode": "r",
   "file_extension": ".r",
   "mimetype": "text/x-r-source",
   "name": "R",
   "pygments_lexer": "r",
   "version": "3.4.3"
  }
 },
 "nbformat": 4,
 "nbformat_minor": 2
}
